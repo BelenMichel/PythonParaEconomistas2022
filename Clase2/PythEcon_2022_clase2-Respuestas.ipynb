{
 "cells": [
  {
   "cell_type": "markdown",
   "metadata": {},
   "source": [
    "# Taller Introducción a la Programación en Python\n",
    "## Bienvenidos a la clase 2\n",
    "\n",
    "### Anuncios y temario para hoy\n",
    "\n",
    "- Pull de GitHub\n",
    "- Cuestionario dificultad tarea 1\n",
    "- Respuestas del cuestionario de los videos\n",
    "- Algo más de teoría:\n",
    "    - Funciones: Docstring y variables locales y globales\n",
    "    - Como abrir y leer y escribir archivos"
   ]
  },
  {
   "cell_type": "markdown",
   "metadata": {},
   "source": [
    "### 1) Pull de GitHub"
   ]
  },
  {
   "cell_type": "markdown",
   "metadata": {},
   "source": [
    "### (0) GitHub\n",
    "\n",
    "Vamos a asumir que en la clase pasada todos clonaron el repositorio, con lo cual NO deben hacer los pasos 0.\n",
    "\n",
    "##### 0. Moverse a la carpeta donde quieran guardar el material del curso (por ej):\n",
    "cd Desktop/UNLP/Curso_Python/\n",
    "\n",
    "##### 0. Clonen a sus computadoras el repositorio del curso:\n",
    "git clone https://github.com/BelenMichel/PythonParaEconomistas2021.git\n",
    "\n",
    "\n",
    "## Abran la consola y sigan estos pasos:\n",
    "\n",
    "##### 1. Moverse a la carpeta del repositorio (por ej):\n",
    "cd Desktop/UNLP/Curso_Python/PythonParaEconomistas2021/\n",
    "\n",
    "##### 2*. Deshacer los cambios que puedan haber hecho en el repositorio para evitar conflictos con la versión de GitHub:\n",
    "git reset --hard\n",
    "\n",
    "##### 3. Hacer un pull para traer los últimos cambios de GitHub:\n",
    "git pull\n",
    "\n",
    "*Nota para proximas clases: Recuerden que si editaron los archivos originales que había en el repositorio tienen que crear una copia y cambiarle el nombre para no tener conflicto al hacer el pull."
   ]
  },
  {
   "cell_type": "markdown",
   "metadata": {},
   "source": [
    "### 2) Cuestionario dificultad tarea 1"
   ]
  },
  {
   "cell_type": "markdown",
   "metadata": {},
   "source": [
    "Por favor tomense 2 mins para completar el [este cuestionario](https://docs.google.com/forms/d/e/1FAIpQLSdGnLEKOCqpGOw0kZfJicUXrme6LwqNfWO8Inrm2NyzUMloAA/viewform?usp=sf_link) para saber que tan fácil o difícil les resulto la primer tarea. \n",
    "\n"
   ]
  },
  {
   "cell_type": "markdown",
   "metadata": {},
   "source": [
    "### 3) Respuestas cuestionario teoría"
   ]
  },
  {
   "cell_type": "markdown",
   "metadata": {},
   "source": [
    "En general las respuestas fueron todas correctas salvo la siguiente:"
   ]
  },
  {
   "cell_type": "code",
   "execution_count": 1,
   "metadata": {},
   "outputs": [],
   "source": [
    "#¿Como agregarias la key 'gdp per capita' a cada pais en nuestro diccionario \n",
    "#paises_info? \n",
    "\n",
    "#Tenemos:\n",
    "paises_info = {'argentina': {'cod': 'ARG', 'pob': 44939, 'gdp':1031215},\n",
    "              'bolivia': {'cod': 'BOL', 'pob': 11513, 'gdp':104609}, \n",
    "              'brasil': {'cod': 'BRA', 'pob': 211050 , 'gdp':3220373},\n",
    "              'chile': {'cod': 'CHL', 'pob': 18952, 'gdp':476738}, \n",
    "              'paraguay': {'cod': 'PRY', 'pob': 7045, 'gdp':93062},\n",
    "              'uruguay': {'cod': 'URY', 'pob': 3462, 'gdp':77732}}\n",
    "\n",
    "def  gdp_per_capita(gdp , poblacion):\n",
    "    '''\n",
    "    Esta función calcula el pbi per capita\n",
    "    Input:\n",
    "        gdp(int): pbi de un país en miles\n",
    "        poblacion(int): población de un país\n",
    "    Output:\n",
    "        gdp_pc(float): pbi per capita redondeado\n",
    "    '''\n",
    "    gdp_pc = round(gdp/poblacion*1000)\n",
    "    return  gdp_pc\n",
    "\n",
    "#Posible solución:\n",
    "for pais , dic in  paises_info.items ():\n",
    "    paises_info[pais]['gdp_pc'] = gdp_per_capita(dic['gdp'], dic['pob'])"
   ]
  },
  {
   "cell_type": "code",
   "execution_count": 2,
   "metadata": {},
   "outputs": [
    {
     "data": {
      "text/plain": [
       "{'argentina': {'cod': 'ARG', 'pob': 44939, 'gdp': 1031215, 'gdp_pc': 22947},\n",
       " 'bolivia': {'cod': 'BOL', 'pob': 11513, 'gdp': 104609, 'gdp_pc': 9086},\n",
       " 'brasil': {'cod': 'BRA', 'pob': 211050, 'gdp': 3220373, 'gdp_pc': 15259},\n",
       " 'chile': {'cod': 'CHL', 'pob': 18952, 'gdp': 476738, 'gdp_pc': 25155},\n",
       " 'paraguay': {'cod': 'PRY', 'pob': 7045, 'gdp': 93062, 'gdp_pc': 13210},\n",
       " 'uruguay': {'cod': 'URY', 'pob': 3462, 'gdp': 77732, 'gdp_pc': 22453}}"
      ]
     },
     "execution_count": 2,
     "metadata": {},
     "output_type": "execute_result"
    }
   ],
   "source": [
    "paises_info"
   ]
  },
  {
   "cell_type": "code",
   "execution_count": 3,
   "metadata": {},
   "outputs": [
    {
     "name": "stdout",
     "output_type": "stream",
     "text": [
      "Pedro Tarufetti\n"
     ]
    }
   ],
   "source": [
    "class Persona():\n",
    "    def cambio_nombre (self , nuevo_nombre ):\n",
    "        self.nombre = nuevo_nombre\n",
    "\n",
    "    def __init__(self, nombre, apellido, edad):\n",
    "        self.nombre = nombre\n",
    "        self.apellido = apellido\n",
    "        self.edad = edad\n",
    "\n",
    "    def __str__(self):\n",
    "        return self.nombre + \" \" + self.apellido\n",
    "\n",
    "juan = Persona(\"Juan\", \"Tarufetti\", 74)\n",
    "\n",
    "juan.cambio_nombre(\"Pedro\")\n",
    "print(juan)"
   ]
  },
  {
   "cell_type": "markdown",
   "metadata": {},
   "source": [
    "### 4) Funciones"
   ]
  },
  {
   "cell_type": "markdown",
   "metadata": {},
   "source": [
    "#### Variables locales"
   ]
  },
  {
   "cell_type": "code",
   "execution_count": 4,
   "metadata": {},
   "outputs": [],
   "source": [
    "#Recuerden que las variables definidas dentro de la función son internas a la \n",
    "#función y no afectarán sus variables fuera de la función.\n",
    "\n",
    "#Qué pasa si llamamos a una variable con el mismo nombre de la variable que \n",
    "#devuelve la función gdp_per_capita? Que imprime el siguiente print?\n",
    "gdp_pc = 22000\n"
   ]
  },
  {
   "cell_type": "code",
   "execution_count": 5,
   "metadata": {},
   "outputs": [
    {
     "name": "stdout",
     "output_type": "stream",
     "text": [
      "22000\n"
     ]
    }
   ],
   "source": [
    "print(gdp_pc)"
   ]
  },
  {
   "cell_type": "code",
   "execution_count": 6,
   "metadata": {},
   "outputs": [
    {
     "name": "stdout",
     "output_type": "stream",
     "text": [
      "22947\n"
     ]
    }
   ],
   "source": [
    "print(gdp_per_capita(1031215 , 44939))"
   ]
  },
  {
   "cell_type": "code",
   "execution_count": 7,
   "metadata": {},
   "outputs": [
    {
     "name": "stdout",
     "output_type": "stream",
     "text": [
      "22000\n"
     ]
    }
   ],
   "source": [
    "print(gdp_pc)"
   ]
  },
  {
   "cell_type": "code",
   "execution_count": 8,
   "metadata": {},
   "outputs": [
    {
     "name": "stdout",
     "output_type": "stream",
     "text": [
      "22947\n"
     ]
    }
   ],
   "source": [
    "gdp_pc = gdp_per_capita(1031215 , 44939)\n",
    "print(gdp_pc)"
   ]
  },
  {
   "cell_type": "markdown",
   "metadata": {},
   "source": [
    "Sin embargo, habra veces en las que ustedes escriban una función especificamente para modificar una variable definida. Piensen si por ejemplo crean una función que ejecute el loop que usamos para agregar 'gdp_pc' en el diccionario 'paises_info'. En ese caso el diccionario si saldría modificado de la función. "
   ]
  },
  {
   "cell_type": "code",
   "execution_count": 9,
   "metadata": {},
   "outputs": [],
   "source": [
    "paises_info = {'argentina': {'cod': 'ARG', 'pob': 44939, 'gdp':1031215},\n",
    "              'bolivia': {'cod': 'BOL', 'pob': 11513, 'gdp': 104609}, \n",
    "              'brasil': {'cod': 'BRA', 'pob': 211050 , 'gdp': 3220373},\n",
    "              'chile': {'cod': 'CHL', 'pob': 18952, 'gdp': 476738}, \n",
    "              'paraguay': {'cod': 'PRY', 'pob': 7045, 'gdp': 93062},\n",
    "              'uruguay': {'cod': 'URY', 'pob': 3462, 'gdp': 77732}}\n",
    "\n",
    "def agrega_gdp_pc(dic_compuesto):\n",
    "    '''\n",
    "    Agrega una nueva llave llamada gdp_pc al diccionario que entra en la función\n",
    "    Input:\n",
    "        dic_compuesto(dic): un diccionario donde los valores a su vez son dic\n",
    "        y contienen las llaves gdp y pob\n",
    "    '''\n",
    "    for key , val in  dic_compuesto.items ():\n",
    "        dic_compuesto[key]['gdp_pc'] = gdp_per_capita(val['gdp'], val['pob'])\n",
    " \n"
   ]
  },
  {
   "cell_type": "code",
   "execution_count": 10,
   "metadata": {},
   "outputs": [],
   "source": [
    "agrega_gdp_pc(paises_info)"
   ]
  },
  {
   "cell_type": "code",
   "execution_count": 11,
   "metadata": {},
   "outputs": [
    {
     "data": {
      "text/plain": [
       "{'argentina': {'cod': 'ARG', 'pob': 44939, 'gdp': 1031215, 'gdp_pc': 22947},\n",
       " 'bolivia': {'cod': 'BOL', 'pob': 11513, 'gdp': 104609, 'gdp_pc': 9086},\n",
       " 'brasil': {'cod': 'BRA', 'pob': 211050, 'gdp': 3220373, 'gdp_pc': 15259},\n",
       " 'chile': {'cod': 'CHL', 'pob': 18952, 'gdp': 476738, 'gdp_pc': 25155},\n",
       " 'paraguay': {'cod': 'PRY', 'pob': 7045, 'gdp': 93062, 'gdp_pc': 13210},\n",
       " 'uruguay': {'cod': 'URY', 'pob': 3462, 'gdp': 77732, 'gdp_pc': 22453}}"
      ]
     },
     "execution_count": 11,
     "metadata": {},
     "output_type": "execute_result"
    }
   ],
   "source": [
    "paises_info"
   ]
  },
  {
   "cell_type": "markdown",
   "metadata": {},
   "source": [
    "##### Qué harían para saber si una función modifica el objeto que le paso como atributo o si yo tengo que guardar el output para no perder las acciones/cambios que hizo la función?"
   ]
  },
  {
   "cell_type": "markdown",
   "metadata": {},
   "source": [
    "#### Docstrings y documentación"
   ]
  },
  {
   "cell_type": "code",
   "execution_count": 12,
   "metadata": {},
   "outputs": [],
   "source": [
    "def  gdp_per_capita(gdp , poblacion):\n",
    "    '''\n",
    "    Esta función calcula el pbi per capita\n",
    "    \n",
    "    Parameters: (o Input)\n",
    "        gdp (int): pbi en millones\n",
    "        poblacion (int): poblaciones en miles\n",
    "        \n",
    "    Return: (o Output)\n",
    "        gdp_pc (int): el pbi per capita calculado\n",
    "    '''\n",
    "    gdp_pc = round(gdp/poblacion*1000)\n",
    "    return  gdp_pc\n"
   ]
  },
  {
   "cell_type": "code",
   "execution_count": 13,
   "metadata": {},
   "outputs": [],
   "source": [
    "# con Shift + Tab van a poder tener el docstring como ayuda al usar la función:\n",
    "#gdp_per_capita() "
   ]
  },
  {
   "cell_type": "code",
   "execution_count": 14,
   "metadata": {},
   "outputs": [
    {
     "name": "stdout",
     "output_type": "stream",
     "text": [
      "Help on function gdp_per_capita in module __main__:\n",
      "\n",
      "gdp_per_capita(gdp, poblacion)\n",
      "    Esta función calcula el pbi per capita\n",
      "    \n",
      "    Parameters: (o Input)\n",
      "        gdp (int): pbi en millones\n",
      "        poblacion (int): poblaciones en miles\n",
      "        \n",
      "    Return: (o Output)\n",
      "        gdp_pc (int): el pbi per capita calculado\n",
      "\n"
     ]
    }
   ],
   "source": [
    "# o pueden usar la función help como vimos en el video\n",
    "help(gdp_per_capita)"
   ]
  },
  {
   "cell_type": "markdown",
   "metadata": {},
   "source": [
    "### 4a) Ejercicios - Parte 1"
   ]
  },
  {
   "cell_type": "markdown",
   "metadata": {},
   "source": [
    "**Ejercicio 1:**\n",
    "    \n",
    "Tienen que crear un codigo para una empresa de transporte que constantemente recibe multas por la infracciones que cometen sus conductores. Alguien creo el código que escrapea el monto de las multas y su numero pago y los agrega como tupla a una lista. Por temas de auditoria la empresa no puede tener más de 10 multas sin pagar, ni más de $100.000 adeudados en multas.\n",
    "\n",
    "Construyan el código que recorra la lista e imprima la alerta \"Pagar [total_pesos] por las siguientes facturas: [numero de pago de cada factura]\" en el momento en que se cumpla alguna de las dos condiciones. \n",
    "\n",
    "Prueben su codigo con una lista de facturas que sume más de $200.000 y tenga más de 25 facturas."
   ]
  },
  {
   "cell_type": "code",
   "execution_count": 15,
   "metadata": {},
   "outputs": [
    {
     "name": "stdout",
     "output_type": "stream",
     "text": [
      "Pagar  100000  por las siguientes facturas:  [12214]\n",
      "Pagar  82000  por las siguientes facturas:  [124, 114, 122, 2214, 214]\n",
      "Pagar  51955  por las siguientes facturas:  [33314, 32214, 821, 13214, 12233, 13214, 12214, 27721, 3214, 2233]\n"
     ]
    }
   ],
   "source": [
    "multas =  [(100000, 12214), (20000, 124), (2000, 114), (20000, 122),\n",
    "          (20000, 2214), (20000, 214), (20880, 33314), (20000, 32214), (4, 821),\n",
    "          (200, 13214), (575, 12233), (893, 13214), (8394, 12214), (194, 27721),\n",
    "          (240, 3214), (575, 2233), (83, 3214), (894, 2214), (94, 221),\n",
    "          (240, 214), (575, 233), (83, 214), (894, 214), (94, 921), (94, 1921)]\n",
    "\n",
    "#Opción 1:\n",
    "\n",
    "\n",
    "monto_acum = 0\n",
    "num_acum = 0\n",
    "multas_acum = []\n",
    "\n",
    "for monto, n_multa in multas:\n",
    "    num_acum += 1\n",
    "    if (monto_acum + monto) <= 100000 and num_acum <= 10:\n",
    "        monto_acum += monto\n",
    "        multas_acum.append(n_multa)\n",
    "    else:\n",
    "        print('Pagar ', monto_acum, ' por las siguientes facturas: ',  multas_acum)\n",
    "        monto_acum = monto \n",
    "        num_acum = 1\n",
    "        multas_acum = [n_multa]\n",
    "        \n"
   ]
  },
  {
   "cell_type": "code",
   "execution_count": 16,
   "metadata": {},
   "outputs": [
    {
     "name": "stdout",
     "output_type": "stream",
     "text": [
      "Enviar a pagar  1  multa/s por  100000  por las siguientes facturas: [12214]\n",
      "Enviar a pagar  5  multa/s por  82000  por las siguientes facturas: [124, 114, 122, 2214, 214]\n",
      "Enviar a pagar  10  multa/s por  51955  por las siguientes facturas: [33314, 32214, 821, 13214, 12233, 13214, 12214, 27721, 3214, 2233]\n"
     ]
    }
   ],
   "source": [
    "#Opción 2:      \n",
    "\n",
    "n_multas = 0\n",
    "total_multas = 0\n",
    "numeros_pago = []\n",
    "\n",
    "for multa in multas:\n",
    "    precio_multa, numero_pago = multa\n",
    "    \n",
    "    if total_multas + precio_multa > 100000 or n_multas >= 10:\n",
    "        print(\"Enviar a pagar \", n_multas, \" multa/s por \", total_multas,\" por las siguientes facturas:\", numeros_pago)\n",
    "        total_multas = precio_multa\n",
    "        numeros_pago = [numero_pago]\n",
    "        n_multas = 1\n",
    "    else: #if total_multas + precio_multa <= 100000:\n",
    "        n_multas += 1\n",
    "        total_multas += precio_multa\n",
    "        numeros_pago.append(numero_pago)"
   ]
  },
  {
   "cell_type": "markdown",
   "metadata": {},
   "source": [
    "### 4b) Ejercicios - Parte 2\n",
    "#### Practiquemos solucionar errores"
   ]
  },
  {
   "cell_type": "code",
   "execution_count": 17,
   "metadata": {},
   "outputs": [
    {
     "name": "stdout",
     "output_type": "stream",
     "text": [
      "2  es impar? False\n",
      "3  es impar? True\n",
      "3.3  es impar? error: el elemento no es un int\n"
     ]
    }
   ],
   "source": [
    "# Revisen la siguiente función y los outputs de ejemplo. \n",
    "# 1. Tiene sentido? Porqué?\n",
    "\n",
    "def es_impar(x): \n",
    "    '''\n",
    "    Indica si un numero es impar.\n",
    "    Input:\n",
    "        x(int): numero que se quiere evaluar.\n",
    "    Output:\n",
    "        True/False(bool): verdadero para los numeros impares, falso para pares.\n",
    "    '''\n",
    "    if type(x) != int:\n",
    "        return 'error: el elemento no es un int\"\n",
    "    elif x % 2:\n",
    "        return True\n",
    "    else:\n",
    "        return False\n",
    "x = 2\n",
    "print(x, \" es impar?\", es_impar(x))\n",
    "\n",
    "x = 3\n",
    "print(x, \" es impar?\", es_impar(x))\n",
    "\n",
    "x = 3.3\n",
    "print(x, \" es impar?\", es_impar(x))"
   ]
  },
  {
   "cell_type": "code",
   "execution_count": 18,
   "metadata": {},
   "outputs": [],
   "source": [
    "#Como sabemos, la evaluación de par/impar solo tiene sentido para numeros enteros\n",
    "#Agreguen unas lineas de código en la función para que se levante una leyenda\n",
    "#de error cuando la x no es un int. \n"
   ]
  },
  {
   "cell_type": "code",
   "execution_count": 19,
   "metadata": {},
   "outputs": [
    {
     "name": "stdout",
     "output_type": "stream",
     "text": [
      "['BsAs', 'Cord', 'Juju', 'Mend', 'SanJ']\n",
      "[70, 18, 6, 10, 6]\n"
     ]
    }
   ],
   "source": [
    "# Por alguna extraña razón casi todas las provincias tienen un numero impar de \n",
    "# bancas en la camara de diputados. Eliminaremos de la lista las provincias con\n",
    "# un numero imprar de bancas para quedarnos solo con las que tienen un numero \n",
    "# par de bancas. Respondan con que provincias se quedaron y cuantas bancas \n",
    "# tienen dichas provincias.\n",
    "\n",
    "# Utilizando la función \"es_impar\" el siguiente codigo pretende responder esas \n",
    "# esas dos preguntas. Revisenlo y respondan:\n",
    "# 1. Que output da? \n",
    "# 2. Porque? \n",
    "# 3. Editen el codigo para resolverlo\n",
    "\n",
    "# Estas dos listas están ordenadas de forma que el elemento i en la lista de\n",
    "# provincias se corresponde con el elemento i en la lista de la cantidad de bancas\n",
    "\n",
    "provincias = ['CABA','BsAs','Cata','Chac','Chub','Cord','Corr','Entr','Form',\n",
    "              'Juju','LaPa','LaRi','Mend','Misi','Neuq','Rion','Salt','SanJ',\n",
    "              'SanL','SanC','SanF','SanE','Tier','Tucu']\n",
    "\n",
    "bancas = [25,70,5,7,5,18,7,9,5,6,5,5,10,7,5,5,7,6,5,5,19,7,5,9]\n",
    "\n",
    "for i in range(len(provincias)-1,-1,-1):\n",
    "    if es_impar(bancas[i]):\n",
    "        del provincias[i] \n",
    "        del bancas[i]\n",
    "print(provincias)\n",
    "print(bancas)"
   ]
  },
  {
   "cell_type": "markdown",
   "metadata": {},
   "source": [
    "### 5) Algunos conceptos y paquetes útiles para el proyecto"
   ]
  },
  {
   "cell_type": "code",
   "execution_count": 20,
   "metadata": {},
   "outputs": [
    {
     "data": {
      "text/plain": [
       "0.30043944663626"
      ]
     },
     "execution_count": 20,
     "metadata": {},
     "output_type": "execute_result"
    }
   ],
   "source": [
    "#crea un valor aleatorio entre 0 y 1 con distribucion uniforme\n",
    "import random\n",
    "\n",
    "#random.seed(300) uso la semilla si quiero que siempre salga el mismo valor\n",
    "random.random()\n"
   ]
  },
  {
   "cell_type": "code",
   "execution_count": 21,
   "metadata": {},
   "outputs": [
    {
     "name": "stdout",
     "output_type": "stream",
     "text": [
      "True\n"
     ]
    }
   ],
   "source": [
    "#usar el operador in para chequear pertenencia\n",
    "if 'argentina' in paises_info.keys():\n",
    "    print(True)\n"
   ]
  },
  {
   "cell_type": "code",
   "execution_count": 22,
   "metadata": {},
   "outputs": [
    {
     "name": "stdout",
     "output_type": "stream",
     "text": [
      "True\n"
     ]
    }
   ],
   "source": [
    "mi_set = set(['a', 'b', 'c'])\n",
    "if 'a' in mi_set:\n",
    "    print(True)\n"
   ]
  },
  {
   "cell_type": "code",
   "execution_count": 23,
   "metadata": {},
   "outputs": [],
   "source": [
    "#Break and Continue\n",
    "\n",
    "def sumo_numeros_pares(una_lista, numero_maximo):\n",
    "    '''\n",
    "    Toma una lista y se suman los numeros pares que se encuentran en la lista \n",
    "    hasta un numero_maximo\n",
    "    Input:\n",
    "        una_lista(list): lista con enteros\n",
    "        numero_maximo(int): numero máximo a sumar\n",
    "    Output:\n",
    "        sumatoria_de_pares(int): total de la suma de los numeros pares\n",
    "    '''\n",
    "\n",
    "    sumatoria_de_pares = 0\n",
    "    \n",
    "    for n in una_lista:\n",
    "        if n > numero_maximo:\n",
    "            break\n",
    "\n",
    "        elif n%2: #Chequeo si es impar   \n",
    "            continue\n",
    "            \n",
    "        else:\n",
    "            sumatoria_de_pares += n \n",
    "\n",
    "    return sumatoria_de_pares"
   ]
  },
  {
   "cell_type": "code",
   "execution_count": 24,
   "metadata": {},
   "outputs": [
    {
     "data": {
      "text/plain": [
       "2"
      ]
     },
     "execution_count": 24,
     "metadata": {},
     "output_type": "execute_result"
    }
   ],
   "source": [
    "mi_lista = [1,2,3,4,5,6,7,8]\n",
    "sumo_numeros_pares(mi_lista, 3)"
   ]
  },
  {
   "cell_type": "code",
   "execution_count": 25,
   "metadata": {},
   "outputs": [
    {
     "name": "stdout",
     "output_type": "stream",
     "text": [
      "[10, 13, 16, 19, 22, 25, 28, 31, 34, 37, 40, 43, 46, 49, 52, 55, 58, 61, 64, 67, 70, 73, 76, 79, 82, 85, 88, 91, 94, 97]\n"
     ]
    },
    {
     "data": {
      "text/plain": [
       "516"
      ]
     },
     "execution_count": 25,
     "metadata": {},
     "output_type": "execute_result"
    }
   ],
   "source": [
    "mi_lista = list(range(10,100,3))\n",
    "print(mi_lista)\n",
    "sumo_numeros_pares(mi_lista, 80)"
   ]
  },
  {
   "cell_type": "markdown",
   "metadata": {},
   "source": [
    "### 6) Kernel y memoria\n",
    "- Consejo: Cuando terminen el TP, vayan a Kernel --> Restart & Run all\n",
    "- De esta forma, se visualizarán los output correctos\n",
    "- y si tenian alguna variable que crearon y eliminaron en el camino podrán detectar errores si la volvieron a utilizar más adelante."
   ]
  },
  {
   "cell_type": "code",
   "execution_count": 26,
   "metadata": {},
   "outputs": [
    {
     "name": "stdout",
     "output_type": "stream",
     "text": [
      "Cursaron 45 alumnos\n"
     ]
    }
   ],
   "source": [
    "alumnos_primer_trimestre = 20\n",
    "alumnos_tercer_trimestre = 25\n",
    "alumnos = alumnos_primer_trimestre + alumnos_tercer_trimestre\n",
    "print('Cursaron {} alumnos'.format(alumnos))"
   ]
  }
 ],
 "metadata": {
  "kernelspec": {
   "display_name": "Python 3 (ipykernel)",
   "language": "python",
   "name": "python3"
  },
  "language_info": {
   "codemirror_mode": {
    "name": "ipython",
    "version": 3
   },
   "file_extension": ".py",
   "mimetype": "text/x-python",
   "name": "python",
   "nbconvert_exporter": "python",
   "pygments_lexer": "ipython3",
   "version": "3.9.12"
  },
  "varInspector": {
   "cols": {
    "lenName": 16,
    "lenType": 16,
    "lenVar": 40
   },
   "kernels_config": {
    "python": {
     "delete_cmd_postfix": "",
     "delete_cmd_prefix": "del ",
     "library": "var_list.py",
     "varRefreshCmd": "print(var_dic_list())"
    },
    "r": {
     "delete_cmd_postfix": ") ",
     "delete_cmd_prefix": "rm(",
     "library": "var_list.r",
     "varRefreshCmd": "cat(var_dic_list()) "
    }
   },
   "types_to_exclude": [
    "module",
    "function",
    "builtin_function_or_method",
    "instance",
    "_Feature"
   ],
   "window_display": false
  }
 },
 "nbformat": 4,
 "nbformat_minor": 4
}
