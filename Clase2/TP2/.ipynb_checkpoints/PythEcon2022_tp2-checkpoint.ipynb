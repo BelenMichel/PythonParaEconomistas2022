{
 "cells": [
  {
   "cell_type": "markdown",
   "metadata": {},
   "source": [
    "# Curso de Python para Economistas\n",
    "## Trabajo Practico 2"
   ]
  },
  {
   "cell_type": "markdown",
   "metadata": {},
   "source": [
    "### Fecha de entrega:\n",
    "Sábado 08/10 a las 23:59hs"
   ]
  },
  {
   "cell_type": "markdown",
   "metadata": {},
   "source": [
    "### Modalidad de entrega y trabajo:\n",
    "- Se debe entregar por mensaje privado de slack copiando a los 5 profesores y a los 3 miembros del equipo\n",
    "- El archivo se debe llamar PythEcon2022_tp2_APELLIDO1_APELLIDO2_APELLIDO3.ipynb \n",
    "- Se debe trabajar en grupos de a 3 personas (si alguien no logra encontrar grupo escribanos para ponerlo en contacto con otros compañeros)"
   ]
  },
  {
   "cell_type": "markdown",
   "metadata": {},
   "source": [
    "### COVID-19: Simulación de contagio"
   ]
  },
  {
   "cell_type": "markdown",
   "metadata": {},
   "source": [
    "Las herramientas computacionales son una gran ayuda al momento de reproducir simulaciones y poder evaluar distintos escenarios. Los ultimos años hemos transitando un periodo de mucha incertidumbre debido a la pandemia COVID-19. Desde el 2020, entender cómo y cuánto se podría aplanar la curva de contagios y dilatarla en el tiempo, para no colapsar las camas de UCI, los respiradores y el personal de salud, era uno de los mayores interrogantes para gobernantes y directores de los centros de salud. En este contexto, poder contar con información actualizada y modelos que puedan inferir los contagios de los próximos días, fueron un recurso indispensable para poder prevenir y estar preparados.\n",
    "\n",
    "En este ejercicio, tomaremos uno de los modelos epidemiológicos más simples, capaces de capturar muchas de las características típicas de estos brotes: [el SIR](https://es.wikipedia.org/wiki/Modelo_SIR#:~:text=El%20modelo%20SIR%20es%20uno,t%C3%ADpicas%20de%20los%20brotes%20epid%C3%A9micos.&text=El%20modelo%20relaciona%20las%20variaciones,y%20el%20per%C3%ADodo%20infeccioso%20promedio).  Lo utilizaremos para simular la cantidad de nuevos casos que surgirán en las próximas semanas, en cada una de las comunas de la Ciudad de Buenos Aires.\n",
    "\n",
    "El nombre del modelo 'SIR' proviene de las iniciales de los tres grupos de individuos que se distinguen por su condición frente a la enfermedad. Estos son:\n",
    "\n",
    "- Población susceptible (S), individuos sin inmunidad al agente infeccioso, y que por tanto pueden ser infectados si son expuestos al agente infeccioso. \n",
    "- Población infectada (I), individuos que están infectados en un momento dado y pueden transmitir la infección a individuos de la población susceptible con la que entran en contacto. Para nuestras simulaciones subdividiremos este grupo en dos: llamaremos 'I0' a los que están cursando la primera semana de la enfermedad y 'I1' a quienes están en su segunda semana de la enfermedad y próximos a recibir el alta.\n",
    "- Población recuperada y fallecidos (R), individuos que son inmunes a la infección (o fallecidos), y consecuentemente no afectan a la transmisión cuando entran en contacto con otros individuos. (En este grupo entrarían los vacunados también, pero por simplicidad del modelo asumiremos que todavía no existe vacuna)\n",
    "\n",
    "El modelo relaciona las variaciones de las tres poblaciones (Susceptible, Infectada y Recuperada) a través de la tasa de infección y el período infeccioso promedio. Es decir, que las personas pasan de susceptibles a infectadas acorde a una tasa de infección que depende del número promedio de contactos por persona por día y la probabilidad de transmisión de la enfermedad en un contacto entre un sujeto susceptible y un infeccioso. Además, las personas pasan de infectadas a recuperadas al cabo del periodo infeccioso promedio. En nuestras simulaciones tomaremos estos dos valores como dados. Usaremos una tasa de infección igual a 0.5 y un período infeccioso igual a dos semanas. Sin embargo, es importante resaltar que en ejercicios de simulación más extensos, estos dos parámetros es importante probarlos y adaptarlos en las simulaciones para que ajusten lo mejor posible a la realidad observada en los datos de las semanas pasadas y en los datos de otras ciudades que ya transitaron esta etapa.\n",
    "\n",
    "Nota: Si bien el presente ejercicio esta enmarcado en un posible uso de Python en la vida real, nuestro objetivo es que practiquen los conceptos recientemente aprendidos. Es por ello que el modelo epidemiológico y las simulaciones estarán simplificadas lo suficiente para no perder de vista nuestro objetivo.\n"
   ]
  },
  {
   "cell_type": "code",
   "execution_count": null,
   "metadata": {},
   "outputs": [],
   "source": [
    "import sys\n",
    "import pandas as pd\n",
    "import requests\n",
    "import csv\n",
    "from datetime import timedelta\n",
    "import random\n",
    "\n",
    "#Si no tienen instalado alguno de estos paquetes borren el '#' para \n",
    "#correr la siguientes linea reemplazando la ultima palabra (x ej: pandas) \n",
    "#por el nombre del paquete que no tengan:\n",
    "\n",
    "#!conda install --yes --prefix {sys.prefix} pandas\n",
    "\n",
    "#Si no les funciona prueben con esta linea:\n",
    "#!{sys.executable} -m pip install pandas"
   ]
  },
  {
   "cell_type": "code",
   "execution_count": null,
   "metadata": {},
   "outputs": [],
   "source": [
    "#Este bloque de código les importa los datos. No tienen que modificar nada en el.\n",
    "\n",
    "#trabajaremos con datos reales de la ciudad de Buenos Aires, dercargados de:\n",
    "#https://cdn.buenosaires.gob.ar/datosabiertos/datasets/salud/casos-covid-19/casos_covid19.csv\n",
    "\n",
    "#Asegurense de correr este jupyter notebook en la misma carpeta donde tengan \n",
    "#guardados los tres archivos csv que les dejamos en el repositorio.\n",
    "\n",
    "ARCHIVOS =  ['infectados0.csv', 'infectados1.csv', 'recuperados.csv']\n",
    "\n",
    "def obtengo_infectados_por_comuna(archivos=ARCHIVOS):\n",
    "    '''\n",
    "    Esta funcion devuelve comuna, genero y edad de las personas infectadas de \n",
    "    covid en una determinada fecha\n",
    "    \n",
    "    Input:\n",
    "        tres archivos CSV con personas infectadas en la última semana, hace una\n",
    "        semana y hace más de dos semenas (a este grupo los llamamos recuperados)\n",
    "        \n",
    "    Output:\n",
    "        Tupla con tres listas de peronas en los tres estados I0, I1, R.\n",
    "        infectados0 (lista): contiene una tupla por c/persona infectada esta \n",
    "            semana. Cada tupla tiene comuna, genero y edad de cada persona.\n",
    "        infectados1 (lista): contiene una tupla por c/persona infectada hace una \n",
    "            semanas. Cada tupla tiene comuna, genero y edad de cada persona.\n",
    "        recuperados (lista): contiene una tupla por c/persona infectada hace dos \n",
    "            semanas. Cada tupla tiene comuna, genero y edad de cada persona.\n",
    "    '''\n",
    "    listas_personas = []\n",
    "\n",
    "    for archivo in archivos:\n",
    "        with open(archivo, 'r') as f:\n",
    "            filas = csv.reader(f)\n",
    "\n",
    "            personas = []\n",
    "            for fila in filas:\n",
    "                personas.append((fila[0], fila[1], fila[2]))\n",
    "\n",
    "        listas_personas.append(personas)\n",
    "    \n",
    "    infectados0, infectados1, recuperados = listas_personas\n",
    "    \n",
    "    return (infectados0, infectados1, recuperados)   "
   ]
  },
  {
   "cell_type": "markdown",
   "metadata": {},
   "source": [
    "#### Ejercicio 1: \n",
    "La función obtengo_infectados_por_comuna devuelve tres listas de personas, donde cada persona esta representada con una tupla conteniendo su comuna, su genero y su edad. La primer lista contiene las personas infectadas la ultima semana, la segunda lista contiene las personas infectadas en la semana anterior, y la ultima lista contiene las personas recuperadas. \n",
    "\n",
    "Guarden las listas que devuelve la función obtengo_infectados_por_comuna con los siguientes nombres e impriman las primeras 5 filas de la lista 'infectados0' para entender mejor su contenido:\n",
    "- infectados0 \n",
    "- infectados1\n",
    "- recuperados"
   ]
  },
  {
   "cell_type": "code",
   "execution_count": null,
   "metadata": {},
   "outputs": [],
   "source": [
    "#ESCRIBAN SU CODIGO ACA\n"
   ]
  },
  {
   "cell_type": "markdown",
   "metadata": {},
   "source": [
    "#### Ejercicio 2:\n",
    "Creen un diccionario que contenga el numero de la comuna (en formato string) como claves y la suma de personas en cada comuna como valor."
   ]
  },
  {
   "cell_type": "code",
   "execution_count": null,
   "metadata": {},
   "outputs": [],
   "source": [
    "def suma_personas_por_comuna(lista_de_personas):\n",
    "    '''\n",
    "    Crea un diccionario con comunas como claves y el total de las personas\n",
    "    en cada comuna como valor\n",
    "    \n",
    "    Input:\n",
    "        lista_de_personas (lista compuesta de tuplas): comuna, genero, edad\n",
    "        \n",
    "    Output:\n",
    "        dic_por_comuna (dic): comunas como claves y suma de personas como valor\n",
    "    '''\n",
    "    dic_por_comuna = {}\n",
    "    \n",
    "    for persona in lista_de_personas:\n",
    "        \n",
    "        comuna = persona[0] \n",
    "        comuna = str(int(comuna))\n",
    "        \n",
    "        #Creen una condición que si la comuna no está en el diccionario la \n",
    "        #agregue como llave y como valor cuente 1 ciudadano. Y si la comuna\n",
    "        #ya está en el diccionario simplemente sume 1 ciudadano nuevo al valor\n",
    "        #ESCRIBAN SU CODIGO ACA\n",
    "        \n",
    "\n",
    "    \n",
    "    return dic_por_comuna   "
   ]
  },
  {
   "cell_type": "markdown",
   "metadata": {},
   "source": [
    "A continuación usaremos nuestra función suma_personas_por_comuna() sobre las tres listas de personas que tenemos"
   ]
  },
  {
   "cell_type": "code",
   "execution_count": null,
   "metadata": {},
   "outputs": [],
   "source": [
    "i0_por_comuna = suma_personas_por_comuna(infectados0)\n",
    "i1_por_comuna = suma_personas_por_comuna(infectados1)\n",
    "r_por_comuna = suma_personas_por_comuna(recuperados)"
   ]
  },
  {
   "cell_type": "code",
   "execution_count": null,
   "metadata": {},
   "outputs": [],
   "source": [
    "#Observemos como quedó uno de los diccionarios\n",
    "i0_por_comuna"
   ]
  },
  {
   "cell_type": "markdown",
   "metadata": {},
   "source": [
    "#### Código para importar la población de CABA:\n",
    "A continuación, importaremos el archivo con la población en cada comuna de la Ciudad de Buenos Aires y también lo guardaremos como un diccionario con las comunas como claves y el total de población como valores.\n",
    "\n",
    "Nota: Modifiqué el archivo para reducir la población total por comuna a un valor ficticio más chico. Esto generará representación de comunas mas chicas en el ejercicio 5 y podrán encontrar y resolver errores más fácilmente."
   ]
  },
  {
   "cell_type": "code",
   "execution_count": null,
   "metadata": {},
   "outputs": [],
   "source": [
    "#para leer este archivo al inicio del jupyter notebook hemos importado el paquete \n",
    "#csv que nos va a devolver una lista por cada linea del archivo y un elemento en\n",
    "#la lista por cada valor separado con coma en el .csv\n",
    "\n",
    "#Abro el archivo que contiene la población total por comuna (estimación al 2020)\n",
    "with open('pob_por_comuna.csv', 'r') as f:\n",
    "    filas = csv.reader(f)\n",
    "    \n",
    "    pob_por_comuna = {}\n",
    "    \n",
    "    for fila in filas:\n",
    "        pob_por_comuna[fila[0]] = int(fila[1])\n",
    "    \n",
    "    #Si este pop les da error comentenlo con el '#' vean el diccionario\n",
    "    #final y eliminen cualquier clave que no sea una comuna\n",
    "    pob_por_comuna.pop(\"\\ufeffcomuna\")\n",
    "    \n",
    "pob_total = pob_por_comuna['pob_total']\n",
    "pob_por_comuna.pop('pob_total')\n",
    "\n",
    "pob_por_comuna"
   ]
  },
  {
   "cell_type": "markdown",
   "metadata": {},
   "source": [
    "#### Ejercicio 3:\n",
    "A continuación construiremos un diccionario llamado sir_por_comuna donde las claves serán las comunas y los valores serán otro diccionario con los detalles de cada comuna. En los diccionarios con detalle de cada comuna tendremos las siguientes claves 'S', 'I0', 'I1', 'R', 'N' y sus respectivos valores. \n",
    "\n",
    "'S': numero de personas susceptible (S = N-R-I0-I1), \n",
    "\n",
    "'I0': numero de personas infectadas esta semana, \n",
    "\n",
    "'I1': numero de personas infectadas la semana pasada,\n",
    "\n",
    "'R': numero de personas recuperadas,\n",
    "\n",
    "'N': total de personas en la comuna"
   ]
  },
  {
   "cell_type": "code",
   "execution_count": null,
   "metadata": {},
   "outputs": [],
   "source": [
    "sir_por_comuna = {}\n",
    "\n",
    "for comuna in pob_por_comuna.keys():\n",
    "    sir_por_comuna[comuna] = #ESCRIBAN SU CODIGO ACA"
   ]
  },
  {
   "cell_type": "code",
   "execution_count": null,
   "metadata": {},
   "outputs": [],
   "source": [
    "#El resultado debe ser un diccionario sir_por_comuna que tenga este estilo\n",
    "#(los numeros diferiran):\n",
    "{'1': {'N': 21910, 'R': 12837, 'I1': 396, 'I0': 335, 'S': 8342},\n",
    " '2': {'N': 16807, 'R': 5863, 'I1': 259, 'I0': 214, 'S': 10471},\n",
    " '3': {'N': 19957, 'R': 11367, 'I1': 369, 'I0': 300, 'S': 7921},\n",
    " '4': {'N': 23225, 'R': 15461, 'I1': 341, 'I0': 309, 'S': 7114},\n",
    " '5': {'N': 19049, 'R': 7731, 'I1': 359, 'I0': 312, 'S': 10647},\n",
    " '6': {'N': 18738, 'R': 5841, 'I1': 290, 'I0': 213, 'S': 12394},\n",
    " '7': {'N': 23475, 'R': 12136, 'I1': 335, 'I0': 307, 'S': 10697},\n",
    " '8': {'N': 19925, 'R': 13191, 'I1': 315, 'I0': 239, 'S': 6180},\n",
    " '9': {'N': 17218, 'R': 7347, 'I1': 281, 'I0': 198, 'S': 9392},\n",
    " '10': {'N': 17668, 'R': 5686, 'I1': 243, 'I0': 233, 'S': 11506},\n",
    " '11': {'N': 20202, 'R': 5917, 'I1': 275, 'I0': 205, 'S': 13805},\n",
    " '12': {'N': 21296, 'R': 6005, 'I1': 299, 'I0': 220, 'S': 14772},\n",
    " '13': {'N': 24618, 'R': 6858, 'I1': 411, 'I0': 311, 'S': 17038},\n",
    " '14': {'N': 24047, 'R': 8556, 'I1': 390, 'I0': 356, 'S': 14745},\n",
    " '15': {'N': 19429, 'R': 7397, 'I1': 335, 'I0': 292, 'S': 11405}}\n",
    "#Eliminen este bloque de código cuando logren que su diccionario se vea similar."
   ]
  },
  {
   "cell_type": "markdown",
   "metadata": {},
   "source": [
    "#### Ejercicio 4:\n",
    "A continuación, usaremos el diccionario sir_por_comuna para crear la representación de cada comuna. Las comunas serán representadas por listas donde cada uno de los elementos será el estado de una persona en dicha comuna. Además, las posiciones adyacentes (una a la izquierda y una a la derecha) de cada elemento de la lista serán considerados los vecinos de cada persona y serán los únicos que pueden contagiar a esa persona (Por ej. si la comuna 1 fuera así comuna_1 = ['S', 'S', 'R', 'I0', 'I1', 'S'], entonces, el vecino en la posición 1 (es decir, comuna_1[1]) no puede ser contagiado porque sus vecinos no están infectados (son individuos 'S' y 'R'). En cambio, el vecino en la ultima posición (es decir, comuna_1[-1]) si puede ser contagiado porque su vecino está infectado, es un individuo 'I1')).\n",
    "\n",
    "El largo de la lista será igual al total de ciudadanos en dicha comuna. Y la cantidad de 'S' en la lista será el numero de personas susceptibles en esa comuna, y la cantidad de 'I0' en la lista será el numero de personas infectadas esta semana, y así sucesivamente con las 4 letras ('S', I0', 'I1', 'R') que catalogan el estado de las personas de la comuna.\n",
    "\n",
    "La posición inicial de las personas sería ideal que estuviera dada por la realidad. Pero como la información pública no tiene datos acerca de direcciones de estas peronas, en esta simulación iniciaremos la representación de la comuna asignandole posiciones aleatorias a cada persona. Es decir que una forma fácil de resolver este ejercicio sería creando una lista donde tengamos la cantidad necesaria de cada una de las iniciales(S', 'R', 'I0', 'I1') y luego intercambiar las letras de posición con el paquete random. En este caso usaremos: random.shuffle(comuna)\n",
    "\n",
    "Por ultimo, guardaremos las listas que representan el estado de la comuna en un diccionario llamado comunas. Las llaves del diccionario seran nuevamente los numeros de las comunas (como strings) y el valor sera la lista. ej: comunas = {'1': ['S', 'S', 'R', 'I0', 'I1', 'S'], '2': ['I0', 'I1', 'R', 'S', 'S', 'S', 'S', 'I1', 'S'], ...}\n",
    "\n"
   ]
  },
  {
   "cell_type": "code",
   "execution_count": null,
   "metadata": {},
   "outputs": [],
   "source": [
    "#Creamos un diccionario vacío\n",
    "comunas = {}\n",
    "\n",
    "#Iteramos sobre las claves de sir_por_comuna, que son los numeros de las comunas\n",
    "for sir_com in sir_por_comuna.keys():\n",
    "    \n",
    "    #Iniciamos una lista vacia para representar una comuna\n",
    "    comuna = []\n",
    "    \n",
    "    #Iteramos sobre el diccionario interno de cada comuna. Este contiene las \n",
    "    #iniciales de los estadoa como clave y el total de personas como valor.\n",
    "    for estado, n in sir_por_comuna[sir_com].items(): \n",
    "        if estado == 'N':\n",
    "            continue\n",
    "        else:\n",
    "            #Agrega a la lista 'comuna' tantas iniciales como personas en ese \n",
    "            #estado haya en esa comuna. \n",
    "            #ESCRIBAN SU CODIGO ACA\n",
    "            \n",
    "            \n",
    "    #Aleatorizamos el orden de la lista comuna para que el estado inicial de la\n",
    "    #comuna tenga a las personas infectadas uniformemente distribuidas en la lista\n",
    "    random.shuffle(comuna)\n",
    "    comunas[sir_com] = comuna\n"
   ]
  },
  {
   "cell_type": "markdown",
   "metadata": {},
   "source": [
    "A continuación impriman una comuna para ver como les quedó la representación."
   ]
  },
  {
   "cell_type": "code",
   "execution_count": null,
   "metadata": {},
   "outputs": [],
   "source": [
    "print(comunas['2'])"
   ]
  },
  {
   "cell_type": "markdown",
   "metadata": {},
   "source": [
    "#### Ejercicio 5:\n",
    "\n",
    "Construyan una función que cuente la cantidad personas en cierto estado en una comuna. Esta es una función auxiliar que ahora puede ayudarlos a verificar si el ejercicio 5 construyó bien las comunas. Pero además es una función que cumplirá un rol importante en la simulación final."
   ]
  },
  {
   "cell_type": "code",
   "execution_count": null,
   "metadata": {},
   "outputs": [],
   "source": [
    "def contar_estado(comuna, estado='I0'):\n",
    "    '''\n",
    "    Esta funcion cuenta la cantidad de personas del estado especificado en una \n",
    "    comuna\n",
    "    \n",
    "    Inputs:\n",
    "        comuna (lista): el estado de todas las personas en la comuna\n",
    "        estado (str): indica si se quiere contar los S (suceptibles), I0 \n",
    "                    (infectados esta semana), I1 (infectados hace una semana),\n",
    "                    o R (recuperados).\n",
    "    Output \n",
    "        personas_del_estado (int): personas del estado seleccionado\n",
    "    '''\n",
    "    #Iniciamos el conteo de personas en 0\n",
    "    personas_del_estado = 0\n",
    "    \n",
    "    #Iteren sobre la lista comuna:\n",
    "    #ESCRIBAN SU CODIGO ACA\n",
    "    \n",
    "        #Condicionen en que sea una persona en el estado deseado:\n",
    "        #ESCRIBAN SU CODIGO ACA\n",
    "        \n",
    "            #Si cumplió la condición sumen una persona a personas_del_estado\n",
    "            #ESCRIBAN SU CODIGO ACA\n",
    "    \n",
    "    return personas_del_estado"
   ]
  },
  {
   "cell_type": "markdown",
   "metadata": {},
   "source": [
    "Prueben si su función realiza la tarea que ustedes querían de la siguiente forma (pueden probar con otros estados y otras comunas también):"
   ]
  },
  {
   "cell_type": "code",
   "execution_count": null,
   "metadata": {},
   "outputs": [],
   "source": [
    "contar_estado(comunas['1'], estado='I0') == sir_por_comuna['1']['I0']"
   ]
  },
  {
   "cell_type": "markdown",
   "metadata": {},
   "source": [
    "#### Ejercicio 6:\n",
    "Creen una funcion que se llame 'es_infectado'. Esta función determinará si una persona que tiene un vecino en estado 'I0' o 'I1' es infectado o no. Para ello, la función tendrá como argumentos la comuna analizada, la posición del inidividuo analizado y la tasa de contagio. \n",
    "\n",
    "Además, a cada individuo le asignaremos un valor random de inmunidad al momento de analizarlo (usen random.random() para crear un valor que representará que tan fuerte esta su sistema inmunológico). Este valor de inmunidad lo compararemos con la tasa de contagio. Si es menor que la tasa_de_contagio, resultará infectado, sino no.\n",
    "\n",
    "Notas: \n",
    "- Recuerden que la primer posición de una lista es la 0. \n",
    "- En esta simulacion asumiremos que la persona en la primer posición  se podra contagiar de la persona en la posición 1 y de la persona en la ultima posición. A su vez, la persona en la ultima posición se podra contagiar de la persona en la anteúlitma posición y de la persona en la posición 0. Es decir que asumiremos que la comuna es como un anillo, donde la primera y la ultima persona de la lista se tocan."
   ]
  },
  {
   "cell_type": "code",
   "execution_count": null,
   "metadata": {},
   "outputs": [],
   "source": [
    "def es_infectado(comuna, posicion, tasa_de_contagio):\n",
    "    '''\n",
    "    Determinar si una persona es infectada o no.\n",
    "    \n",
    "    Inputs:\n",
    "        comuna (list): el estado de todas las personas de la comuna al comienzo \n",
    "                       de la semana. \n",
    "        posicion (int): la posicion del inidividuo analizado \n",
    "        tasa_de_contagio (float): la probabilidad de ser infectado dado que tu \n",
    "                                  vecino está infectado.\n",
    "        \n",
    "    Output:\n",
    "         True, si la persona se infectó, False caso contrario.\n",
    "    '''\n",
    "    #Definimos la posición del vecino derecho y del izquierdo\n",
    "    pos_izq = posicion - 1\n",
    "    pos_der = posicion + 1\n",
    "    \n",
    "    #Chequeamos si es el vecino en la ultima posición. Si lo es, definimos su \n",
    "    #vecino de la derecha a la persona en la posición 0 (la primera de la lista)\n",
    "    if posicion == len(comuna) - 1:\n",
    "        pos_der = 0   \n",
    "\n",
    "    #Evaluamos si alguno de sus dos vecinos esta infecato (ya sea I0 o I1) \n",
    "    if comuna[pos_izq] in ('I0', 'I1') or \\\n",
    "       comuna[pos_der] in ('I0', 'I1'): \n",
    "        #Comparamos la inmunidad de la persona (creada con un numero random) \n",
    "        #con la tasa de contagio de esta enfermedad. \n",
    "        if random.random() < tasa_de_contagio:\n",
    "            #El primero será el valor para cuando esta condición se cumplió y el\n",
    "            #segundo return para cuando la condición no se cumplió\n",
    "            return #ESCRIBAN SU CODIGO ACA\n",
    "        \n",
    "    return #ESCRIBAN SU CODIGO ACA\n",
    "            "
   ]
  },
  {
   "cell_type": "markdown",
   "metadata": {},
   "source": [
    "#### Ejercicio 7:\n",
    "A continuación, simulen el paso de una semana. Al cabo de una semana, las personas que tenían estado I0 pasaran a I1, los de estado I1 pasaran a estar recuperados y los de estado R continuaran como recuperados. Para quienes estaban en estado S, debemos aplicarles la función es_infectado para saber si se contagiará o no al comienzo de esta nueva semana.\n",
    "\n",
    "Esta función se debe llamar simular_una_semana() y sus atributos serán: la comuna a simular (es decir la lista que contiene el estado de todos los ciudadanos de la comuna) y la tasa de contagio. La función debe devolver una nueva lista con el estado de todas las personas de la comuna al comienzo de la semana t+1.\n"
   ]
  },
  {
   "cell_type": "code",
   "execution_count": null,
   "metadata": {
    "code_folding": []
   },
   "outputs": [],
   "source": [
    "def simular_una_semana(comuna_s1, tasa_de_contagio):\n",
    "    '''\n",
    "    Mover la simulacion un dia. \n",
    "\n",
    "    Inputs:\n",
    "        comuna_s1 (list): el estado de todas las personas de la comuna al comienzo \n",
    "            de la semana. \n",
    "        tasa_de_contagio (float): la probabilidad de ser infectado dado que tu \n",
    "            vecino está infectado.\n",
    "        \n",
    "    Output:\n",
    "        comuna_s2 (list): el estado de todas las personas de la comuna al \n",
    "            comienzo de la semana t+1. \n",
    "    '''\n",
    "    #Creamos vacía la comuna que representará el estado de la comuna despues de\n",
    "    #simular una semana de transcurso de la epidemia. \n",
    "    comuna_s2 = []\n",
    " \n",
    "    #Iteramos sobre la comuna inicial. i seran las pocisiones y val las iniciales\n",
    "    for i, val in enumerate(comuna_s1):\n",
    "        if val == 'R':\n",
    "            comuna_s2.append(\"R\")\n",
    "            \n",
    "        #Usen elif para chequear en comuna_s1 cada uno de los estados que faltan\n",
    "        #y luego agregar a la comuna_s2 el estado al que pasa.  \n",
    "        elif val == 'I0':    \n",
    "            #ESCRIBAN SU CODIGO ACA\n",
    "            \n",
    "        #ESCRIBAN SU CODIGO ACA\n",
    "            \n",
    "            #ESCRIBAN SU CODIGO ACA\n",
    "        \n",
    "        else val == \"S\":\n",
    "            #usamos la funcion es_infectado para ver si una person S se contagia\n",
    "            if es_infectado(comuna_s1, i, tasa_de_contagio): \n",
    "                #accion a realizar si la funcion es_infectado devolvió True\n",
    "                comuna_s2.append(\"I0\") \n",
    "            else:\n",
    "                #accion a realizar si la funcion es_infectado devolvió False\n",
    "                comuna_s2.append(\"S\")\n",
    "    \n",
    "    return comuna_s2\n",
    "\n"
   ]
  },
  {
   "cell_type": "markdown",
   "metadata": {},
   "source": [
    "#### Ejercicio 8:\n",
    "Para finalizar creen una función para correr la simulación durante varias semanas. Su función se debe llamar correr_simulacion y debe tomar como argumentos el estado inicial de la comuna, la semilla, el número máximo de semanas para simular (max_num_semanas) y la tasa de contagio. Además, debe devolver una tupla con el estado final de la comuna y el número de semanas simuladas (s).\n",
    "\n",
    "##### Notas:\n",
    "\n",
    "- max_num_semanas siempre debe ser mayor a 0. Es decir que su función debe ejecutar como mínimo la simulación de una semana completa. \n",
    "\n",
    "- Antes de la simulación de la 1er semana se debe fijar la semilla para la función random.\n",
    "\n",
    "- Su simulación debe comenzar la semana 0 y contar el número de semanas simuladas. Por ejemplo, si su simulación comienza la semana 0 y alcanza las condiciones de finalización después de simular una semana, debería devolver 1 como el número de semanas. Por otro lado, si su simulación comienza la semana 0 y se ejecuta para la semana 0 y la semana 1, debería devolver 2 como el número de semanas simuladas.\n",
    "\n",
    "- Recuerden que hay dos condiciones para dejar de correr la simulación: \n",
    "\n",
    "    a) que hayan pasado la cantidad de semanas fijadas en max_num_semanas o \n",
    "\n",
    "    b) que nadie en la comuna está infectado después de simular una semana determinada. Deben usar la función contar_estado para verificar esta condición y debe verificar esta condición después de simular una semana (¡no antes!).\n"
   ]
  },
  {
   "cell_type": "code",
   "execution_count": null,
   "metadata": {},
   "outputs": [],
   "source": [
    "TASA_CONTAGIO = 0.5\n",
    "SEMILLA = 5000\n",
    "\n",
    "def correr_simulacion(comuna, max_num_semanas, semilla=SEMILLA, \n",
    "                      tasa_de_contagio=TASA_CONTAGIO):\n",
    "    '''\n",
    "    Correr la simulacion para todas las semanas (con el limite de tiempo \n",
    "    definido en max_num_semanas)\n",
    "\n",
    "    Inputs:\n",
    "        comuna (list): el estado de todas las personas de la comuna al \n",
    "            comienzo de la semana. \n",
    "        semilla (int): el numero inicial para la funcion random que se usará \n",
    "            para la simulación\n",
    "        max_num_semanas (int): la maxima cantidad de semanas a simular\n",
    "        tasa_de_contagio (float): la probabilidad de ser infectado dado que tu \n",
    "            vecino está infectado.\n",
    "\n",
    "    Output:\n",
    "        tuple (s, comuna_s2) of\n",
    "            s (int): semanas de simulación\n",
    "            comuna_s2 (list): el estado de todas las personas de la comuna al \n",
    "                comienzo de la semana s.    \n",
    "    '''\n",
    "    #Nos aseguramos de que el numero de semanas a simular sea positivo:\n",
    "    assert max_num_semanas > 0\n",
    "    \n",
    "    #Fijamos la semilla:\n",
    "    random.seed(semilla)\n",
    "    \n",
    "    #realizar una primer simulación con la función simular_una_semana y guardar \n",
    "    #el resultado con el nombre comuna_s\n",
    "    #ESCRIBAN SU CODIGO ACA\n",
    "    \n",
    "    #definan la variable s y denle valor 1 por la simulacion que acaban de hacer\n",
    "    #ESCRIBAN SU CODIGO ACA\n",
    "    \n",
    "    #hagan un condicional con la funcion contar_estado para verificar si sigue\n",
    "    #habiendo personas infectadas en la comuna.\n",
    "    #ESCRIBAN SU CODIGO ACA\n",
    "    \n",
    "        #si se cumplió la condición aquí terminará la simulación: \n",
    "        return (s, comuna_s)\n",
    "        \n",
    "    #hagan un loop sobre la cantidad maxima de iteraciones usando range:\n",
    "    #ESCRIBAN SU CODIGO ACA\n",
    "    \n",
    "            #realiza otra simulación con la función simular_una_semana y guarda \n",
    "            #el resultado actualizando (osea pisando) comuna_s\n",
    "            #ESCRIBAN SU CODIGO ACA\n",
    "    \n",
    "            #hagan un condicional con la funcion contar_estado para verificar si \n",
    "            #sigue habiendo personas infectadas en la comuna.\n",
    "            #ESCRIBAN SU CODIGO ACA\n",
    "\n",
    "                #si se cumplió la condición aquí terminará la simulación: \n",
    "                break\n",
    "        \n",
    "    return (s, comuna_s)\n"
   ]
  },
  {
   "cell_type": "markdown",
   "metadata": {},
   "source": [
    "Para probar si la simulacion les salió bien corranla para una comuna variando la tasa de contagio. Les dejo un ejemplo:"
   ]
  },
  {
   "cell_type": "code",
   "execution_count": null,
   "metadata": {},
   "outputs": [],
   "source": [
    "correr_simulacion(comunas['1'], 50, tasa_de_contagio = 0.2)\n"
   ]
  },
  {
   "cell_type": "code",
   "execution_count": null,
   "metadata": {},
   "outputs": [],
   "source": [
    "#Les dejamos una pequeña comuna ficticia por si les sirve para probar que el \n",
    "#código funcionando bien\n",
    "\n",
    "mini_comuna =  ['S', 'R', 'S', 'I0', 'S', 'I0', 'R', 'S', 'I1', 'S', 'S', 'I0']\n",
    "\n"
   ]
  }
 ],
 "metadata": {
  "kernelspec": {
   "display_name": "Python 3 (ipykernel)",
   "language": "python",
   "name": "python3"
  },
  "language_info": {
   "codemirror_mode": {
    "name": "ipython",
    "version": 3
   },
   "file_extension": ".py",
   "mimetype": "text/x-python",
   "name": "python",
   "nbconvert_exporter": "python",
   "pygments_lexer": "ipython3",
   "version": "3.9.12"
  },
  "varInspector": {
   "cols": {
    "lenName": 16,
    "lenType": 16,
    "lenVar": 40
   },
   "kernels_config": {
    "python": {
     "delete_cmd_postfix": "",
     "delete_cmd_prefix": "del ",
     "library": "var_list.py",
     "varRefreshCmd": "print(var_dic_list())"
    },
    "r": {
     "delete_cmd_postfix": ") ",
     "delete_cmd_prefix": "rm(",
     "library": "var_list.r",
     "varRefreshCmd": "cat(var_dic_list()) "
    }
   },
   "types_to_exclude": [
    "module",
    "function",
    "builtin_function_or_method",
    "instance",
    "_Feature"
   ],
   "window_display": false
  }
 },
 "nbformat": 4,
 "nbformat_minor": 4
}
