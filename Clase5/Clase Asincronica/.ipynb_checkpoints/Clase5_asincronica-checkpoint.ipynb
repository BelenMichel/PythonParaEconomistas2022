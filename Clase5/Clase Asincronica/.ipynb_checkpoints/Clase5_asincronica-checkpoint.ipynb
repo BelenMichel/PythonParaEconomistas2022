{
 "cells": [
  {
   "cell_type": "markdown",
   "metadata": {},
   "source": [
    "## Clase 5 - Ejercicios para la clase teórica"
   ]
  },
  {
   "cell_type": "markdown",
   "metadata": {},
   "source": [
    "### Descargar archivos"
   ]
  },
  {
   "cell_type": "code",
   "execution_count": 1,
   "metadata": {},
   "outputs": [],
   "source": [
    "import requests\n",
    "import pandas as pd"
   ]
  },
  {
   "cell_type": "markdown",
   "metadata": {},
   "source": [
    "Similar a la función que hicimos al comienzo de la clase dos (proyecto simulación contagios COVID-19) a continuacion creamos una funcion que solicita el contenido de un archivo en la web y lo escribe en un documento csv. "
   ]
  },
  {
   "cell_type": "code",
   "execution_count": 2,
   "metadata": {},
   "outputs": [],
   "source": [
    "def descarga_base_infectados(csv_url, csv_name):\n",
    "    '''\n",
    "    Esta funcion solicita el contenido de un archivo en la web y lo escribe en \n",
    "    un documento csv. \n",
    "    \n",
    "    Input:\n",
    "        csv_url (str): url de donde descargar el archivo\n",
    "        csv_name (str): nombre con el cual guardar el archivo descargado\n",
    "    '''\n",
    "    \n",
    "    #Obtenemos el contenigo del archivo en el url especificado\n",
    "    req = requests.get(csv_url)\n",
    "    url_content = req.content\n",
    "\n",
    "    #Guardamos el contenido descargado en un archivo con el nombre que elegimos\n",
    "    csv_file = open(csv_name, 'w')\n",
    "    csv_file.write(url_content.decode())\n",
    "    csv_file.close()"
   ]
  },
  {
   "cell_type": "code",
   "execution_count": 3,
   "metadata": {},
   "outputs": [],
   "source": [
    "#Definimos constantes que usaremos de ejemplo en esta función\n",
    "#La base de infectados de COV\n",
    "CSV_URL = \"https://cdn.buenosaires.gob.ar/datosabiertos/datasets/salud/casos-covid-19/casos_covid19.csv\"\n",
    "CSV_NAME = \"casos_covid19.csv\""
   ]
  },
  {
   "cell_type": "code",
   "execution_count": null,
   "metadata": {},
   "outputs": [],
   "source": [
    "descarga_base_infectados(CSV_URL, CSV_NAME)"
   ]
  },
  {
   "cell_type": "markdown",
   "metadata": {},
   "source": [
    "Para probar si el archivo se descargó podemos ir a la carpeta donde tenemos este jupyter notebook y verificar si existe un archivo llamado \"casos_covid19.csv\" y tiene contenido. Otra opción es importar el contenido desde el csv como un dataframe:"
   ]
  },
  {
   "cell_type": "code",
   "execution_count": null,
   "metadata": {},
   "outputs": [],
   "source": [
    "df = pd.read_csv(CSV_NAME)\n",
    "df.head"
   ]
  },
  {
   "cell_type": "markdown",
   "metadata": {},
   "source": [
    "### Web Scraping"
   ]
  },
  {
   "cell_type": "code",
   "execution_count": null,
   "metadata": {},
   "outputs": [],
   "source": [
    "import requests #html requestor\n",
    "from bs4 import BeautifulSoup #html parser\n",
    "import pandas as pd #dataframe manipulator"
   ]
  },
  {
   "cell_type": "code",
   "execution_count": null,
   "metadata": {},
   "outputs": [],
   "source": [
    "url = 'https://datatables.net/examples/basic_init/zero_configuration.html'"
   ]
  },
  {
   "cell_type": "markdown",
   "metadata": {},
   "source": [
    "Solicitamos el html del url indicado. El codigo de respuesta 200 significa que la respuesta del sitio fue exitosa"
   ]
  },
  {
   "cell_type": "code",
   "execution_count": null,
   "metadata": {},
   "outputs": [],
   "source": [
    "response = requests.get(url)\n",
    "print(response.status_code)"
   ]
  },
  {
   "cell_type": "markdown",
   "metadata": {},
   "source": [
    "Dividimos el texto con `BeautifulSoup`."
   ]
  },
  {
   "cell_type": "code",
   "execution_count": null,
   "metadata": {},
   "outputs": [],
   "source": [
    "soup = BeautifulSoup(response.text, 'html.parser')\n",
    "print(soup)"
   ]
  },
  {
   "cell_type": "markdown",
   "metadata": {},
   "source": [
    "Se puede observar que la informacion que queremos extraer esta entre las etiquetas llamadas `tr`. Por lo tanto queremos encontrar todas las etiquetas `tr`."
   ]
  },
  {
   "cell_type": "code",
   "execution_count": null,
   "metadata": {},
   "outputs": [],
   "source": [
    "info = soup.find_all('tr')\n",
    "info"
   ]
  },
  {
   "cell_type": "code",
   "execution_count": null,
   "metadata": {},
   "outputs": [],
   "source": [
    "print(type(info))\n",
    "print(type(info[0]))"
   ]
  },
  {
   "cell_type": "markdown",
   "metadata": {},
   "source": [
    "Podemos ver que todas las observaciones, excepto la primera y la última, contienen la información que necesitamos. También observamos que el nombre, el puesto, el cargo, la edad, la fecha de inicio y el salario siempre tienen el mismo orden. Podemos hacer uso de estos patrones para extraer la información en un marco de datos."
   ]
  },
  {
   "cell_type": "code",
   "execution_count": null,
   "metadata": {},
   "outputs": [],
   "source": [
    "df = pd.DataFrame(columns=['name', 'position', 'office', 'age', 'start date', 'salary'])"
   ]
  },
  {
   "cell_type": "code",
   "execution_count": null,
   "metadata": {
    "scrolled": true
   },
   "outputs": [],
   "source": [
    "for i, item in enumerate(info): \n",
    "    if i != 0 and i != len(info)-1:\n",
    "        datos_de_fila = item.find_all('td')\n",
    "        fila = []\n",
    "        for dato in datos_de_fila:\n",
    "            fila.append(dato.text)\n",
    "        print('\\nFila:', i)\n",
    "        print(fila)\n",
    "        df.loc[i-1] = fila \n"
   ]
  },
  {
   "cell_type": "code",
   "execution_count": null,
   "metadata": {
    "scrolled": true
   },
   "outputs": [],
   "source": [
    "display(df)"
   ]
  },
  {
   "cell_type": "markdown",
   "metadata": {},
   "source": [
    "Por último exportamos la información a un archivo `csv`:"
   ]
  },
  {
   "cell_type": "code",
   "execution_count": null,
   "metadata": {},
   "outputs": [],
   "source": [
    "df.to_csv('final_output.csv', index=False)"
   ]
  },
  {
   "cell_type": "markdown",
   "metadata": {},
   "source": [
    "### PDF scraping"
   ]
  },
  {
   "cell_type": "code",
   "execution_count": null,
   "metadata": {},
   "outputs": [],
   "source": [
    "import pandas as pd\n",
    "import PyPDF2\n",
    "import tabula"
   ]
  },
  {
   "cell_type": "markdown",
   "metadata": {},
   "source": [
    "Usando PyPDF2 extraigo todo el texto del PDF"
   ]
  },
  {
   "cell_type": "code",
   "execution_count": null,
   "metadata": {},
   "outputs": [],
   "source": [
    "pdf_file = open('boletin_ife.pdf', 'rb')\n",
    "pdfReader = PyPDF2.PdfFileReader(pdf_file)\n",
    "paginas = pdfReader.numPages\n",
    "for i in range(paginas):\n",
    "    print(\"Este es el contenido de la pagina {}:\".format(i+1))\n",
    "    pagina = pdfReader.getPage(i)\n",
    "    print(pagina.extractText())"
   ]
  },
  {
   "cell_type": "markdown",
   "metadata": {},
   "source": [
    "Usando tabula puedo extraer las tablas del PDF"
   ]
  },
  {
   "cell_type": "code",
   "execution_count": null,
   "metadata": {},
   "outputs": [],
   "source": [
    "lst_of_df = tabula.read_pdf('boletin_ife.pdf', output_format='dataframe', pages=7)"
   ]
  },
  {
   "cell_type": "code",
   "execution_count": null,
   "metadata": {},
   "outputs": [],
   "source": [
    "lst_of_df"
   ]
  },
  {
   "cell_type": "code",
   "execution_count": null,
   "metadata": {},
   "outputs": [],
   "source": [
    "type(lst_of_df)"
   ]
  },
  {
   "cell_type": "code",
   "execution_count": null,
   "metadata": {},
   "outputs": [],
   "source": [
    "type(lst_of_df[0]) "
   ]
  },
  {
   "cell_type": "code",
   "execution_count": null,
   "metadata": {},
   "outputs": [],
   "source": [
    "tabla_p7 = lst_of_df[0]\n",
    "tabla_p7.columns = ['tipo_de_hogar','pobreza', 'indigencia']\n",
    "tabla_p7"
   ]
  },
  {
   "cell_type": "code",
   "execution_count": null,
   "metadata": {},
   "outputs": [],
   "source": [
    "lst_of_df = tabula.read_pdf('boletin_ife.pdf', output_format='dataframe', pages=30)\n",
    "lst_of_df"
   ]
  },
  {
   "cell_type": "code",
   "execution_count": null,
   "metadata": {},
   "outputs": [],
   "source": [
    "#Tabulas measures: x inches * 72\n",
    "header = [\"provincia\",\n",
    "         \"18_a_24_anos\", \n",
    "         \"25_a_34_anos\",\n",
    "         \"35_a_44_anos\",\n",
    "         \"45_a_54_anos\",\n",
    "         \"55_a_65_anos\",\n",
    "         \"total\"]\n",
    "perimetro = (2.35*72, 1.19*72, 7*72, 7.07*72)\n",
    "columnas = (2.5*72, 3.28*72, 4.04*72, 4.79*72, 5.58*72, 6.30*72)\n",
    "lst_of_df = tabula.read_pdf('boletin_ife.pdf', output_format='dataframe', \n",
    "                            pages=30, area = perimetro, columns = columnas)\n",
    "\n",
    "tabla_p30 = lst_of_df[0]\n",
    "tabla_p30.columns = header\n",
    "tabla_p30"
   ]
  },
  {
   "cell_type": "code",
   "execution_count": null,
   "metadata": {},
   "outputs": [],
   "source": [
    "lst_of_df = tabula.read_pdf('boletin_ife.pdf', output_format='dataframe', pages=33)\n",
    "print(len(lst_of_df))\n"
   ]
  },
  {
   "cell_type": "code",
   "execution_count": null,
   "metadata": {},
   "outputs": [],
   "source": [
    "lst_of_df"
   ]
  },
  {
   "cell_type": "code",
   "execution_count": null,
   "metadata": {},
   "outputs": [],
   "source": [
    "lst_of_df[0].to_csv('pabla_pag33.csv', index=False)"
   ]
  },
  {
   "cell_type": "markdown",
   "metadata": {},
   "source": [
    "### Bases de datos relacionales\n"
   ]
  },
  {
   "cell_type": "code",
   "execution_count": null,
   "metadata": {},
   "outputs": [],
   "source": [
    "import pandas as pd\n",
    "import sqlite3"
   ]
  },
  {
   "cell_type": "code",
   "execution_count": null,
   "metadata": {},
   "outputs": [],
   "source": [
    "#Iniciamos la conexion a la base de datos con el metodo 'connect'\n",
    "conn = sqlite3.connect('IFE.db')\n",
    "\n",
    "#creamos un cursor a la base para poder comenzar a ejecuter los comandos de SQL:\n",
    "c = conn.cursor()\n",
    "\n",
    "# Crear tabla\n",
    "c.execute('''CREATE TABLE provincias\n",
    "             (provincia text, prov_cod INTEGER PRIMARY KEY)''')\n",
    "\n",
    "# Insertar una linea de datos\n",
    "c.execute(\"INSERT INTO provincias VALUES ('Buenos Aires', 1)\")\n",
    "\n",
    "# INsertar varios registros a la vez\n",
    "provincias = [('CABA', 2),\n",
    "             ('Catamarca', 3),\n",
    "             ('Chaco', 4)]\n",
    "\n",
    "c.executemany('INSERT INTO provincias VALUES (?,?)', provincias)\n",
    "\n",
    "# Guardar (commit) los cambios\n",
    "conn.commit()\n",
    "\n",
    "#Una vez que hacen el comit, los cambios se guardan y estaran disponibles para\n",
    "#la proxima vez que nos conectemos a la base. Aquellos cambios que hagamos pero \n",
    "#no guardemos se borraran al cerrar la conexion a la base de datos. \n",
    "\n",
    "#Cerrar la conexión:\n",
    "conn.close()\n"
   ]
  },
  {
   "cell_type": "code",
   "execution_count": null,
   "metadata": {},
   "outputs": [],
   "source": [
    "#Iniciamos la conexion a la base de datos con el metodo 'connect'\n",
    "conn = sqlite3.connect('IFE.db')\n",
    "\n",
    "#creamos un cursor a la base para poder comenzar a ejecuter los comandos de SQL:\n",
    "c = conn.cursor()\n"
   ]
  },
  {
   "cell_type": "code",
   "execution_count": null,
   "metadata": {},
   "outputs": [],
   "source": [
    "c.execute('SELECT * FROM provincias')\n",
    "print(c.fetchall())"
   ]
  },
  {
   "cell_type": "code",
   "execution_count": null,
   "metadata": {},
   "outputs": [],
   "source": [
    "c.execute('DROP TABLE IF EXISTS provincias;')\n"
   ]
  },
  {
   "cell_type": "code",
   "execution_count": null,
   "metadata": {},
   "outputs": [],
   "source": [
    "c.execute('SELECT * FROM provincias')\n",
    "print(c.fetchall())\n"
   ]
  },
  {
   "cell_type": "code",
   "execution_count": null,
   "metadata": {},
   "outputs": [],
   "source": [
    "# Guardar (commit) los cambios\n",
    "#conn.commit()\n",
    "\n",
    "#Cerrar la conexión:\n",
    "conn.close()"
   ]
  },
  {
   "cell_type": "code",
   "execution_count": null,
   "metadata": {},
   "outputs": [],
   "source": [
    "lst_p30 = tabla_p30.to_numpy()\n",
    "lst_p30 "
   ]
  },
  {
   "cell_type": "code",
   "execution_count": null,
   "metadata": {},
   "outputs": [],
   "source": [
    "#Iniciamos la conexion a la base de datos con el metodo 'connect'\n",
    "conn = sqlite3.connect('IFE.db')\n",
    "\n",
    "#creamos un cursor a la base para poder comenzar a ejecuter los comandos de SQL:\n",
    "c = conn.cursor()\n",
    "\n",
    "# Crear tabla\n",
    "c.execute('''CREATE TABLE hogares_uni\n",
    "             (provincia text, anos18a24 int, anos25a34 int, \n",
    "             anos35a44 int, anos45a54 int, anos55a56 int, \n",
    "             total int)''')\n",
    "\n",
    "c.executemany('INSERT INTO hogares_uni VALUES (?,?,?,?,?,?,?)', lst_p30)\n",
    "\n",
    "# Guardar (commit) los cambios\n",
    "conn.commit()\n",
    "\n",
    "#Una vez que hacen el comit, los cambios se guardan y estaran disponibles para\n",
    "#la proxima vez que nos conectemos a la base. Aquellos cambios que hagamos pero \n",
    "#no guardemos se borraran al cerrar la conexion a la base de datos. \n",
    "\n",
    "#Cerrar la conexión:\n",
    "conn.close()\n"
   ]
  },
  {
   "cell_type": "code",
   "execution_count": null,
   "metadata": {},
   "outputs": [],
   "source": [
    "conn = sqlite3.connect('IFE.db')\n",
    "\n",
    "c = conn.cursor()\n",
    "\n",
    "provincia = (\"CABA\",)\n",
    "c.execute('SELECT total FROM hogares_uni WHERE provincia == ?', provincia)\n",
    "print(c.fetchone())\n",
    "\n",
    "\n",
    "c.execute('SELECT * FROM hogares_uni WHERE provincia == ?', provincia)\n",
    "print(c.fetchall())\n",
    "\n",
    "conn.close()"
   ]
  },
  {
   "cell_type": "code",
   "execution_count": null,
   "metadata": {},
   "outputs": [],
   "source": []
  }
 ],
 "metadata": {
  "kernelspec": {
   "display_name": "Python 3 (ipykernel)",
   "language": "python",
   "name": "python3"
  },
  "language_info": {
   "codemirror_mode": {
    "name": "ipython",
    "version": 3
   },
   "file_extension": ".py",
   "mimetype": "text/x-python",
   "name": "python",
   "nbconvert_exporter": "python",
   "pygments_lexer": "ipython3",
   "version": "3.9.12"
  },
  "varInspector": {
   "cols": {
    "lenName": 16,
    "lenType": 16,
    "lenVar": 40
   },
   "kernels_config": {
    "python": {
     "delete_cmd_postfix": "",
     "delete_cmd_prefix": "del ",
     "library": "var_list.py",
     "varRefreshCmd": "print(var_dic_list())"
    },
    "r": {
     "delete_cmd_postfix": ") ",
     "delete_cmd_prefix": "rm(",
     "library": "var_list.r",
     "varRefreshCmd": "cat(var_dic_list()) "
    }
   },
   "types_to_exclude": [
    "module",
    "function",
    "builtin_function_or_method",
    "instance",
    "_Feature"
   ],
   "window_display": false
  }
 },
 "nbformat": 4,
 "nbformat_minor": 4
}
