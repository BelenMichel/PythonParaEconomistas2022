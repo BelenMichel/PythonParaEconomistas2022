{
 "cells": [
  {
   "cell_type": "markdown",
   "metadata": {},
   "source": [
    "# Curso de Python para Economistas\n",
    "## Bienvenidos a la clase 5\n",
    "\n",
    "### Anuncios y temario para hoy\n",
    "\n",
    "- Cuestionario dificultad tarea\n",
    "- Respuestas del cuestionario de los videos\n",
    "- Dudas de la teoría\n",
    "- Ejercicio práctico: Analisis de sentimiento de tweets de Joe Biden pre y post elecciones"
   ]
  },
  {
   "cell_type": "markdown",
   "metadata": {},
   "source": [
    "### Cuestionario dificultad Tarea\n",
    "\n",
    "https://forms.gle/eir96zjwAjHhoiuBA"
   ]
  },
  {
   "cell_type": "markdown",
   "metadata": {},
   "source": [
    "### Respuestas a las preguntas de los videos:\n",
    "https://docs.google.com/forms/d/e/1FAIpQLScU7pcQJ3ettts-n3n6S8FIczQW7DcfIAQr77-_NN6Sdshh6g/viewform?usp=pp_url&entry.1318485631=Respuesta+Satisfactoria+(Successful+responses)&entry.330305262=Una+celda+de+una+tabla&entry.871102831=PyPDF2&entry.871102831=Tabula&entry.871102831=Minecart&entry.2076477619=La+puedo+trabajar+desde+python+con+el+paquete+psycopg2"
   ]
  },
  {
   "cell_type": "markdown",
   "metadata": {},
   "source": [
    "### Analisis de sentimiento de tweets de Joe Biden pre y post elecciones"
   ]
  },
  {
   "cell_type": "code",
   "execution_count": null,
   "metadata": {},
   "outputs": [],
   "source": [
    "#importamos los paquetes a utilizar\n",
    "import os\n",
    "import re\n",
    "import string\n",
    "import pandas as pd\n",
    "import numpy as np\n",
    "import tweepy\n",
    "\n",
    "import sys\n",
    "#!{sys.executable} -m pip install wordcloud\n",
    "from wordcloud import WordCloud\n",
    "#!{sys.executable} -m pip install Pillow\n",
    "from PIL import Image\n",
    "import matplotlib.pyplot as plt\n",
    "\n",
    "\n",
    "from textblob import TextBlob\n",
    "from datetime import timezone as tz\n",
    "#Si alguien quiere trabajar con alguna cuenta en español podrían instalar \n",
    "#sentiment_analysis_spanish y utilizarlo en reemplado de TextBlob:\n",
    "#!{sys.executable} -m pip install sentiment_analysis_spanish\n",
    "#from sentiment_analysis_spanish import sentiment_analysis\n",
    "\n",
    "import nltk\n",
    "#nltk.download('stopwords')\n",
    "# Si trabajan en español pueden crearse una lista de stopwords con las de este link:\n",
    "# https://github.com/xiamx/node-nltk-stopwords/blob/master/data/stopwords/spanish\n",
    "# También usaremos string.punctuation. Si trabajan en español podrian agregarle  \n",
    "# ¿ y ¡ . En ingles incluye lo siguiente: !\"#$%&'()*+, -./:;<=>?@[\\]^_`{|}~\n",
    "from nltk.corpus import stopwords\n",
    "from nltk.tokenize import word_tokenize\n",
    "\n"
   ]
  },
  {
   "cell_type": "markdown",
   "metadata": {},
   "source": [
    "Para generar las claves vayan a: \n",
    "https://developer.twitter.com/en/portal/dashboard\n",
    "\n",
    "- Luego a Projects & Apps\n",
    "- Luego Overview\n",
    "- Luego + Create App\n",
    "\n",
    "Crear con algun editor de texto (ej. Sublime) un archivo llamado `twitter_keys.txt` dentro de la carpeta `clase5` y guardar las 4 claves, una por línea, en el siguiente orden:\n",
    "- API key\n",
    "- API key secret\n",
    "- Access token\n",
    "- Access token secret"
   ]
  },
  {
   "cell_type": "code",
   "execution_count": null,
   "metadata": {},
   "outputs": [],
   "source": [
    "#Creamos variables que contienen nuestas claves de autenticación con la API\n",
    "with open(\"twitter_keys.txt\") as tw_k: \n",
    "    consumer_key = tw_k.readline().strip()\n",
    "    consumer_secret = tw_k.readline().strip()\n",
    "    access_key = tw_k.readline().strip()\n",
    "    access_secret = tw_k.readline().strip()"
   ]
  },
  {
   "cell_type": "code",
   "execution_count": null,
   "metadata": {},
   "outputs": [],
   "source": [
    "#Le pasamos nuestras credenciales de twitter a tweepy\n",
    "auth = tweepy.OAuthHandler(consumer_key, consumer_secret)\n",
    "auth.set_access_token(access_key, access_secret)\n",
    "api = tweepy.API(auth)"
   ]
  },
  {
   "cell_type": "markdown",
   "metadata": {},
   "source": [
    "En este link pueden explorar detalles del metodo user_timeline: https://docs.tweepy.org/en/stable/api.html?highlight=user_timeline#tweepy.API.user_timeline"
   ]
  },
  {
   "cell_type": "code",
   "execution_count": null,
   "metadata": {},
   "outputs": [],
   "source": [
    "def get_all_tweets(screen_name, start_date):\n",
    "    '''\n",
    "    Esta funcion recibe el nombre de la persona de quien queremos extraer los \n",
    "    tweets y devuelve una lista con todos los tweets y sus datos\n",
    "    Input: \n",
    "      screen_name (str): el nombre de la persona en twitter\n",
    "    Output:\n",
    "      all_tweets (lista): lista con todos los tweets extraidos\n",
    "    '''\n",
    "    # Solicitamos los 200 tweets mas recientes (200 es el maximo permitido en count)\n",
    "    new_tweets = api.user_timeline(screen_name=screen_name, \n",
    "                                   tweet_mode=\"extended\", count=200)\n",
    "    # Creo una lista para almacenar TODOS los tweets y agrego los recién extraidos\n",
    "    all_tweets = []\n",
    "    all_tweets.extend(new_tweets)\n",
    "    # guardo el id del ultimo tweet extraído \n",
    "    oldest = all_tweets[-1].id \n",
    "    \n",
    "    # Extraigo tweets de a 200 hasta que no haya más\n",
    "    while len(new_tweets) > 0 and all_tweets[-1].created_at > start_date:\n",
    "        # Solicito 200 tweets mas y los agrego a la lista de 'all_tweets'\n",
    "        new_tweets = api.user_timeline(screen_name=screen_name, count=200,\n",
    "                                       tweet_mode=\"extended\", max_id=oldest-1)\n",
    "        all_tweets.extend(new_tweets)\n",
    "        # Actualizo el id del ultimo tweet extraído\n",
    "        oldest = all_tweets[-1].id \n",
    "        print(\"Hasta ahora se han extraido %s tweets\" % len(all_tweets))\n",
    "\n",
    "    return all_tweets\n"
   ]
  },
  {
   "cell_type": "code",
   "execution_count": null,
   "metadata": {},
   "outputs": [],
   "source": [
    "# Extraemos los tweets desde unos días antes de las elecciones del \n",
    "# 3 de Noviembre de 2020\n",
    "\n",
    "date_before_elections = datetime(2020, 10, 16, 0, 0, 0, tzinfo=tz.utc)\n",
    "all_tweets_biden = get_all_tweets(\"JoeBiden\", date_before_elections)"
   ]
  },
  {
   "cell_type": "code",
   "execution_count": null,
   "metadata": {},
   "outputs": [],
   "source": [
    "#Veamos la lista con los primeros 5 objetos de tweepy\n",
    "all_tweets_biden[:5]"
   ]
  },
  {
   "cell_type": "code",
   "execution_count": null,
   "metadata": {},
   "outputs": [],
   "source": [
    "# Veamos un solo tweet \n",
    "all_tweets_biden[8]"
   ]
  },
  {
   "cell_type": "code",
   "execution_count": null,
   "metadata": {},
   "outputs": [],
   "source": [
    "# Veamos el texto de un solo tweet \n",
    "all_tweets_biden[8].full_text"
   ]
  },
  {
   "cell_type": "markdown",
   "metadata": {},
   "source": [
    "#### Ejercicio 1: \n",
    "En la siguiente función construyan un loop que extraiga id_str, created_at, full_text, retweeted,  favorite_count, in_reply_to_screen_name de cada tweet y lo guarde en una lista. Esa lista se debe agregar al final de la lista all_tweets_selection para luego construir un df con la lista de listas (las listas internas serán las filas del df). "
   ]
  },
  {
   "cell_type": "code",
   "execution_count": null,
   "metadata": {},
   "outputs": [],
   "source": [
    "def save_tweets_text(all_tweets, csv_file=None):\n",
    "    '''\n",
    "    Esta función guarda los tweets en un data frame y si se especifica un \n",
    "    archivo csv tambien se guardaran ahí \n",
    "    Input:\n",
    "        all_tweets (lista): lista con tweets y sus datos\n",
    "        csv_file ('str'): nombre del archivo csv\n",
    "    Output:\n",
    "        df_all_tweets (df): tweets ordenados en una tabla con datos seleccinados\n",
    "    '''\n",
    "    all_tweets_selection = []\n",
    "\n",
    "    #Escriban acá su coodigo (el loop):\n",
    "   \n",
    "   \n",
    "    df_all_tweets = pd.DataFrame(all_tweets_selection)\n",
    "    df_all_tweets.columns = ['id_str', 'created_at', 'text', 'retweeted',\n",
    "                            'favorite_count', 'in_reply_to_screen_name']\n",
    "    if csv_file:\n",
    "        df_all_tweets.to_csv(csv_file, index=False, encoding=\"utf-8\")\n",
    "\n",
    "    return df_all_tweets"
   ]
  },
  {
   "cell_type": "markdown",
   "metadata": {},
   "source": [
    "#### Ejercicio 1b: \n",
    "Utilicen la función save_tweets_text para construir una tabla con todos los tweets y guardenlo en una archivo llamado \"tweets.csv\". Por ultimo visualicen algunas filas de la tabla. "
   ]
  },
  {
   "cell_type": "code",
   "execution_count": null,
   "metadata": {},
   "outputs": [],
   "source": []
  },
  {
   "cell_type": "markdown",
   "metadata": {},
   "source": [
    " #### Ejercicio 1c: \n",
    " Hagan print del texto de algunos tweets y luego piensen:\n",
    " \n",
    " 1) Les parece que podríamos hacer un análisis de sentimiento de estos tweets como están?\n",
    " \n",
    " 2) Porque?\n",
    " \n",
    " 3) Que errores creen que podriamos tener al trabajar con el texto tal como lo descargamos de twitter?\n",
    " \n",
    " 4) Que transformaciones le harían al texto antes de meterlo en el análisis (mencionen al menos 5 cosas)"
   ]
  },
  {
   "cell_type": "code",
   "execution_count": null,
   "metadata": {},
   "outputs": [],
   "source": [
    "# Emoticones contentos\n",
    "emoticons_happy = set([\n",
    "    ':-)', ':)', ';)', ':o)', ':]', ':3', ':c)', ':>', '=]', '8)', '=)', ':}',\n",
    "    ':^)', ':-D', ':D', '8-D', '8D', 'x-D', 'xD', 'X-D', 'XD', '=-D', '=D',\n",
    "    '=-3', '=3', ':-))', \":'-)\", \":')\", ':*', ':^*', '>:P', ':-P', ':P', 'X-P',\n",
    "    'x-p', 'xp', 'XP', ':-p', ':p', '=p', ':-b', ':b', '>:)', '>;)', '>:-)',\n",
    "    '<3'\n",
    "    ])\n",
    " \n",
    "# Emoticones Tristes\n",
    "emoticons_sad = set([\n",
    "    ':L', ':-/', '>:/', ':S', '>:[', ':@', ':-(', ':[', ':-||', '=L', ':<',\n",
    "    ':-[', ':-<', '=\\\\', '=/', '>:(', ':(', '>.<', \":'-(\", \":'(\", ':\\\\', ':-c',\n",
    "    ':c', ':{', '>:\\\\', ';('\n",
    "    ])\n",
    "\n",
    "# Combinamos emoticones contentos y tristes\n",
    "emoticons = emoticons_happy.union(emoticons_sad)"
   ]
  },
  {
   "cell_type": "code",
   "execution_count": null,
   "metadata": {},
   "outputs": [],
   "source": [
    "#Emoji patterns\n",
    "emoji_pattern = re.compile(\"[\"\n",
    "                           u\"\\U0001F600-\\U0001F64F\"  # emoticons\n",
    "                           u\"\\U0001F300-\\U0001F5FF\"  # simbolos & pictogramas\n",
    "                           u\"\\U0001F680-\\U0001F6FF\"  # transporte & simbolos mapas\n",
    "                           u\"\\U0001F1E0-\\U0001F1FF\"  # banderas (iOS)\n",
    "                           u\"\\U00002702-\\U000027B0\"\n",
    "                           u\"\\U000024C2-\\U0001F251\"\n",
    "                           \"]+\", flags=re.UNICODE)\n"
   ]
  },
  {
   "cell_type": "code",
   "execution_count": null,
   "metadata": {},
   "outputs": [],
   "source": [
    "def clean_tweet(tweet):\n",
    "    '''\n",
    "    Esta función limpia el texto de un tweet. Elimina caracteres especificos que\n",
    "    se utilizan en twitter como los de re-tweets, los links y otros Non-ASCII.\n",
    "    Devuelve el texto \"limpio\".\n",
    "    Input:\n",
    "        tweet (str): Texto del tweet original\n",
    "    Output:\n",
    "        tweet (str): Texto del tweet limpiado\n",
    "    '''   \n",
    "    #Saco los links\n",
    "    tweet = re.sub(r'https.*', '', tweet)\n",
    "    #Elimino caracteres de re-tweets   \n",
    "    tweet = re.sub(r'^RT .*:', '', tweet)\n",
    "    tweet = re.sub(r'@\\S+', '', tweet)\n",
    "    tweet = re.sub(r':', '', tweet)\n",
    "    tweet = re.sub(r'‚Ä¶', '', tweet)\n",
    "    #Reemplazo caracteres non-ASCII con espacio\n",
    "    tweet = re.sub(r'[^\\x00-\\x7F]+',' ', tweet)\n",
    "    \n",
    "    return tweet\n",
    "    "
   ]
  },
  {
   "cell_type": "code",
   "execution_count": null,
   "metadata": {},
   "outputs": [],
   "source": [
    "#Este es un tweet sucio:\n",
    "df_all_tweets['text'][1]"
   ]
  },
  {
   "cell_type": "code",
   "execution_count": null,
   "metadata": {},
   "outputs": [],
   "source": [
    "#Este es un tweet limpio:\n",
    "tweet_cleaned = clean_tweet(df_all_tweets.iloc[1]['text'])\n",
    "tweet_cleaned"
   ]
  },
  {
   "cell_type": "markdown",
   "metadata": {},
   "source": [
    "#### Análisis de Sentimiento\n",
    "https://textblob.readthedocs.io/en/dev/api_reference.html#module-textblob.en.sentiments\n",
    "- Polarity: Negative (-1.0) vs. Positive (1.0)\n",
    "- Subjectivity: Objective (0.0) vs. Subjective (1.0)"
   ]
  },
  {
   "cell_type": "code",
   "execution_count": null,
   "metadata": {},
   "outputs": [],
   "source": [
    "# Calculamos el sentimiento con el metodo TextBlob\n",
    "blob = TextBlob(tweet_cleaned)\n",
    "Sentiment = blob.sentiment\n",
    "polarity = Sentiment.polarity\n",
    "subjectivity = Sentiment.subjectivity  \n",
    "print(\"La polaridad de este tweet es :\", polarity)"
   ]
  },
  {
   "cell_type": "markdown",
   "metadata": {},
   "source": [
    "#### Ejercicio 2:\n",
    "Construyamos un loop que nos permita limpiar todos los strings y concatenarlos. Al tenerlos todos concatenados será más facil utilizarlos en un grafico, como por ejemplo una nube de pablabras "
   ]
  },
  {
   "cell_type": "code",
   "execution_count": null,
   "metadata": {},
   "outputs": [],
   "source": [
    "\n"
   ]
  },
  {
   "cell_type": "code",
   "execution_count": null,
   "metadata": {},
   "outputs": [],
   "source": [
    "# Generamos una imagen de nube de palabras \n",
    "# wordcloud = WordCloud().generate(all_tweets_cleaned)\n",
    "\n",
    "wordcloud = WordCloud().generate(all_tweets) #prueben incluir: max_font_size=40\n",
    "plt.figure(figsize=(12,9))\n",
    "plt.imshow(wordcloud, interpolation=\"bilinear\")\n",
    "plt.axis(\"off\")\n",
    "plt.show()\n",
    "\n",
    "\n",
    "wordcloud = WordCloud(background_color = 'white', stopwords = stopwords.words('english')).generate(all_tweets_cleaned)\n",
    "plt.figure(figsize=(12,9))\n",
    "plt.imshow(wordcloud, interpolation=\"bilinear\")\n",
    "plt.axis(\"off\")\n",
    "plt.show()\n",
    "\n"
   ]
  },
  {
   "cell_type": "code",
   "execution_count": null,
   "metadata": {},
   "outputs": [],
   "source": [
    "with Image.open('upvote.png') as im:\n",
    "    im.rotate(45).show()"
   ]
  },
  {
   "cell_type": "code",
   "execution_count": null,
   "metadata": {},
   "outputs": [],
   "source": [
    "# Import image to np.array\n",
    "mask = np.array(Image.open('upvote.png'))\n",
    "\n",
    "# Generate wordcloud\n",
    "wordcloud = WordCloud(width = 3000, height = 2000, background_color='white', \n",
    "                      collocations=False, stopwords = stopwords.words('english'), \n",
    "                      mask=mask).generate(all_tweets_cleaned)\n",
    "\n",
    "plt.figure(figsize=(40, 30))\n",
    "plt.imshow(wordcloud) \n",
    "plt.axis(\"off\")"
   ]
  },
  {
   "cell_type": "markdown",
   "metadata": {},
   "source": [
    "Nota: La imagen del dedo la tomé como idea de este blog https://towardsdatascience.com/simple-wordcloud-in-python-2ae54a9f58e5"
   ]
  },
  {
   "cell_type": "markdown",
   "metadata": {},
   "source": [
    "## Curso Python para Economistas\n",
    "### Trabajo Práctico Nº 5"
   ]
  },
  {
   "cell_type": "markdown",
   "metadata": {},
   "source": [
    "### Fecha de entrega:\n",
    "Viernes 28/10 a las 17:00 hs"
   ]
  },
  {
   "cell_type": "markdown",
   "metadata": {},
   "source": [
    "### Modalidad de entrega y trabajo\n",
    "- Este TP es **grupal**.\n",
    "- Un miembro del grupo debe crear un repositorio **privado** en GitHub, y dar acceso a sus compañeros y a los 5 profesores.\n",
    "- **Todos los miembros del grupo deben haber hecho al menos un commit con contribuciones sustanciales**.\n",
    "- Corroborar que el nombre de usuario que tienen configurado para `git` es el mismo nombre de usuario de GitHub. Para hacer esto, se puede correr `git config --list` en su `cmd` o terminal.\n",
    "- Cuando hayan hecho ese último commit, copien la URL para clonar su repositorio y péguenla en\n",
    "[la Google Sheet], en la hoja del TP5. Agreguen los nombres de los integrantes del grupo. Al ser un repositorio privado, solo los colaboradores habilitados podrán clonarlo.\n",
    "- Al finalizar el trabajo práctico deben hacer un último commit y push en su repositorio de GitHub con el mensaje `\"Entrega final del TP5\"`. Antes de la fecha y hora de entrega pueden hacer cuantos cambios quieran en el repositorio, pero luego de la hora de corte no deben hacer más cambios. Si un commit con el mensaje anterior se realiza luego de la hora de entrega, se supondrá que la entrega tardía fue intencional y se utilizarán los días de gracia. La última versión en el repositorio es la que será evaluada. Para esto es importante que no completen el Google Sheet hasta que no hayan finalizado el TP, como tampoco hacer pushes posteriores a la entrega."
   ]
  },
  {
   "cell_type": "markdown",
   "metadata": {},
   "source": [
    "#### Ejercicio 1:\n",
    "Creen una función que limpie cualquier tipo de texto. Esta debe eliminar emoticones, emojis, palabras vacías (también llamadas stop words en la libreria de nltk), puntuaciones, etc. \n",
    "\n",
    "Además, cuando el parametro is_tweet este seteado en True, la función debe eliminar indicaciones de retweets, links y cualquier otra particularidad de los tweets que crean relevante eliminar. \n",
    "\n",
    "Prueben el funcionamiento de su función con el texto a continuación"
   ]
  },
  {
   "cell_type": "code",
   "execution_count": null,
   "metadata": {},
   "outputs": [],
   "source": [
    "texto = \"She's got a smile :) that it seems to me. Reminds me of childhood memories. Where everything was as fresh as the bright blue sky. Now and then when I see her face \\U0001F600 . She takes me away to that special place. And if I stare too long, I'd probably break down and cry :'( Whoa, oh, oh. Sweet child o' mine. Whoa, oh, oh, oh. Sweet love of mine. She's got eyes of the bluest skies. As if they thought of rain. I'd hate to look into those eyes and see an ounce of pain. Her hair reminds me of a warm safe place. Where as a child I'd hide. And pray for the thunder and the rain to quietly pass me by. Where do we go? Where do we go now? Where do we go? Ooh, oh, where do we go? Where do we go now? \\U0001F3B8 https://www.youtube.com/watch?v=1w7OgIMMRc4\"\n",
    "print(texto)"
   ]
  },
  {
   "cell_type": "code",
   "execution_count": null,
   "metadata": {},
   "outputs": [],
   "source": [
    "def clean_text(text, is_tweet=False):\n",
    "    '''\n",
    "    Esta función limpia el caulquier texto. Elimina emoticones, emojis, palabras\n",
    "    vacías (también llamadas stop words en la libreria de nltk), links, puntuaciones\n",
    "    indicaciones de retweets, etc. Devuelve solo un string solo con las palabras  \n",
    "    con mayor contenido para el analisis.\n",
    "    Input:\n",
    "        text (str): Texto original\n",
    "        is_tweet (bool): si el texto es un tweet este parametro debe setearse a \n",
    "                         True para que también se limpie el texto con los \n",
    "                         caracteres más especificos de twitter (usa clean_tweet) \n",
    "    Output:\n",
    "        text (str): Texto limpiado\n",
    "    '''\n"
   ]
  },
  {
   "cell_type": "markdown",
   "metadata": {},
   "source": [
    "#### Ejercicio 2:\n",
    "Construyan una función que reciba una fecha a testear y dos fechas limite. La función debe chequear si la fecha a testear cae entre las dos fechas limites y devolver True cuando lo haga y False cuando no. \n",
    "\n",
    "Prueben si su función anda como esperaban con las fechas sugeridas a continuación (y con otras opciones de date para asegurarse que funcione bien):"
   ]
  },
  {
   "cell_type": "code",
   "execution_count": null,
   "metadata": {},
   "outputs": [],
   "source": [
    "date = datetime.strptime(\"2020-11-03\", '%Y-%m-%d')\n",
    "start_time = datetime.strptime(\"2020-10-20\", '%Y-%m-%d')\n",
    "end_time = datetime.strptime(\"2020-11-18\", '%Y-%m-%d')"
   ]
  },
  {
   "cell_type": "code",
   "execution_count": null,
   "metadata": {},
   "outputs": [],
   "source": [
    "def filter_year_and_month(date, start_time, end_time):\n",
    "    '''\n",
    "    Recibe una fecha y devuelve True, si la fecha de la fila esta \n",
    "    dentro de los dias especificados como inicio y fin, caso \n",
    "    contrario False.\n",
    "    '''\n"
   ]
  },
  {
   "cell_type": "markdown",
   "metadata": {},
   "source": [
    "#### Ejercicio 3:\n",
    "Construyan una función que genere un indicador de sentimiento positivo o negativo.\n",
    "\n",
    "Si estan trabajando con tweets en inglés pueden usar sentiment.polarity de TextBlob.\n",
    "\n",
    "Si estan trabajando con tweets en Español pueden usar sentiment_analysis de sentiment_analysis_spanish\n",
    "\n",
    "Prueben su función con el texto del ejercicio 1."
   ]
  },
  {
   "cell_type": "code",
   "execution_count": null,
   "metadata": {},
   "outputs": [],
   "source": [
    "def generate_sentiment(text):\n",
    "    '''\n",
    "    Esta funcion limpia el texto y analiza el sentimiento.\n",
    "    Input:\n",
    "        text (str): texto a limpiar y analizar\n",
    "    Output:\n",
    "         sentimiento (float): cuanto menor sea el número más negativo es el texto y cuanto\n",
    "                           cuanto mayor más positivo.\n",
    "    '''"
   ]
  },
  {
   "cell_type": "markdown",
   "metadata": {},
   "source": [
    "#### Ejercicio 4:\n",
    "Construyan una función que reciba un texto y detecte caritas creadas con caracteres y caritas de UNICODE. Debe devolver una tupla que contenga dos booleanos. El primer booleano indicará si había (True) o no (False) caritas tristes y el segundo si había (True) o no (False) caritas felices.\n",
    "\n",
    "Prueben esta función con el texto del ejercicio 1."
   ]
  },
  {
   "cell_type": "code",
   "execution_count": null,
   "metadata": {},
   "outputs": [],
   "source": [
    "def detect_sad_happy_icons(text):\n",
    "    '''\n",
    "    Esta funcion detecte caritas creadas con caracteres y caritas de UNICODE\n",
    "    Input:\n",
    "        text (str): texto en el cual buscar las caritas\n",
    "    Output:\n",
    "        sad, happy (bool, bool): Indican si había (True) o no (False) caritas \n",
    "                                 tristes y felices\n",
    "    '''\n"
   ]
  },
  {
   "cell_type": "markdown",
   "metadata": {},
   "source": [
    "#### Ejercicio 5:\n",
    "Elijan la cuenta de twitter de algún usuario público y algún periodo o evento que pueda haber sido importante para esa persona/cuenta y le pueda haber hecho cambiar el sentimiento de sus post. Expliquen muy brevemente su elección.\n",
    "\n",
    "Repitan los pasos que hemos realizado en clase para construir la tabla llamada `df_all_tweets` (la construimos en el ejercicio 1). \n",
    "\n",
    "No es necesario que copien las funciones vistas durante la clase sincrónica. Simplemente llamenlas a continuación con la nueva cuenta de twitter que quieran analizar. "
   ]
  },
  {
   "cell_type": "code",
   "execution_count": null,
   "metadata": {},
   "outputs": [],
   "source": []
  },
  {
   "cell_type": "markdown",
   "metadata": {},
   "source": [
    "##### Expliquen muy brevemente su elección de cuenta y periodo acá:"
   ]
  },
  {
   "cell_type": "markdown",
   "metadata": {},
   "source": []
  },
  {
   "cell_type": "markdown",
   "metadata": {},
   "source": [
    "#### Ejercicio 6:\n",
    "Construyan una función que utilice las 4 funciones creadas previamente (ej.1 al 4). Los argumentos de esta función deben ser un df y el rango de fechas que quieren analizar. \n",
    "\n",
    "Esta función debe limpiar el texto de los tweets, filtrar los tweets que correspondan a fechas dentro del rango que ustedes eligieron en el punto 5, calcular el sentimiento del texto y buscar si tiene caritas.\n",
    "\n",
    "Finalmente, la función debe devolver un data frame que solo tenga tweets posteados en el periodo que ustedes eligieron, y que tenga 4 nuevas columnas, una para el texto limpio, otra para el sentimiento y dos más que indiquen si el texto tenía caritas tristes y felices. \n",
    "\n",
    "Utilicen esta función sobre el dataframe `df_all_tweets` que armaron en el punto 5. "
   ]
  },
  {
   "cell_type": "code",
   "execution_count": null,
   "metadata": {},
   "outputs": [],
   "source": [
    "def add_sentiment(df, start_time, end_time):\n",
    "    '''\n",
    "    Esta funcion debe limpia el texto de los tweets, filtra los tweets que\n",
    "    correspondan al periodo entre start_time y end_time, calcula el sentimiento \n",
    "    del texto y buscar si tiene caritas.\n",
    "    Input:\n",
    "        df (dataframe): tabla con los tweets en una columa llamada text\n",
    "        start_time (datetime): fecha del tweet más antiguo a conservar\n",
    "        end_time (datetime): fecha del tweet más reciente a conservar\n",
    "    Output:\n",
    "        df (dataframe): df actualizado con el filtro y las nuevas columnas (estas\n",
    "                        deben ser: clean_text, sentimiento, sad_face, happy_face)\n",
    "    '''"
   ]
  },
  {
   "cell_type": "markdown",
   "metadata": {},
   "source": [
    "#### Ejercicio 7: \n",
    "Utilizado un criterio arbitratio creado por ustedes, agreguen una nueva columna al dataframe que se llame `indice_sentimiento` y combine las columnas `sentimiento`, `sad_face`, `happy_face` (con la ponderación que ustedes elijan).\n",
    "\n",
    "Expliquen muy brevemente la elección de ponderación que hicieron."
   ]
  },
  {
   "cell_type": "code",
   "execution_count": null,
   "metadata": {},
   "outputs": [],
   "source": []
  },
  {
   "cell_type": "markdown",
   "metadata": {},
   "source": [
    "##### Expliquen muy brevemente su elección:"
   ]
  },
  {
   "cell_type": "code",
   "execution_count": null,
   "metadata": {},
   "outputs": [],
   "source": []
  },
  {
   "cell_type": "markdown",
   "metadata": {},
   "source": [
    "#### Ejercicio 8: \n",
    "Elijan un umbral (por ejemplo, si su `indice_sentimiento` va de 0 a 1 el umbral podía ser el 0.5). Agreguen al df una nueva columna llamada `positivo` que tome valores:\n",
    "- 1 cuando el tweet tiene polarity >= umbral, \n",
    "- 0 cuando el tweet tiene polarity < umbral "
   ]
  },
  {
   "cell_type": "code",
   "execution_count": null,
   "metadata": {},
   "outputs": [],
   "source": []
  },
  {
   "cell_type": "markdown",
   "metadata": {},
   "source": [
    "#### Ejercicio 9: \n",
    "Realicen un gráfico de nube con las palabras de todos los textos limpios de los tweets que tienene `positivo` == 1"
   ]
  },
  {
   "cell_type": "code",
   "execution_count": null,
   "metadata": {},
   "outputs": [],
   "source": []
  },
  {
   "cell_type": "markdown",
   "metadata": {},
   "source": [
    "#### Ejercicio 10: \n",
    "Realicen un gráfico de nube con las palabras de todos los textos limpios de los tweets que tienene `positivo` == 0"
   ]
  },
  {
   "cell_type": "code",
   "execution_count": null,
   "metadata": {},
   "outputs": [],
   "source": []
  }
 ],
 "metadata": {
  "kernelspec": {
   "display_name": "Python 3 (ipykernel)",
   "language": "python",
   "name": "python3"
  },
  "language_info": {
   "codemirror_mode": {
    "name": "ipython",
    "version": 3
   },
   "file_extension": ".py",
   "mimetype": "text/x-python",
   "name": "python",
   "nbconvert_exporter": "python",
   "pygments_lexer": "ipython3",
   "version": "3.9.12"
  },
  "varInspector": {
   "cols": {
    "lenName": 16,
    "lenType": 16,
    "lenVar": 40
   },
   "kernels_config": {
    "python": {
     "delete_cmd_postfix": "",
     "delete_cmd_prefix": "del ",
     "library": "var_list.py",
     "varRefreshCmd": "print(var_dic_list())"
    },
    "r": {
     "delete_cmd_postfix": ") ",
     "delete_cmd_prefix": "rm(",
     "library": "var_list.r",
     "varRefreshCmd": "cat(var_dic_list()) "
    }
   },
   "types_to_exclude": [
    "module",
    "function",
    "builtin_function_or_method",
    "instance",
    "_Feature"
   ],
   "window_display": false
  }
 },
 "nbformat": 4,
 "nbformat_minor": 2
}
