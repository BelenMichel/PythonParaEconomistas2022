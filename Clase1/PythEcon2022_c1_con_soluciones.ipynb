{
 "cells": [
  {
   "cell_type": "markdown",
   "metadata": {},
   "source": [
    "# Taller Introducción a la Programación en Python\n",
    "## Bienvenidos a la clase 1\n",
    "\n",
    "### (0) Anuncios y temas generales\n",
    "\n",
    "- Uso de Slack\n",
    "- Dinamica para hacer preguntas durante Zoom\n",
    "- Los por qué de: enseñar las bases de Python, los ejercicios y usar recursos de internet\n",
    "- Sobre las respuestas al cuestionario de bienvenida\n",
    "- Accesibilidad\n",
    "- GitHub"
   ]
  },
  {
   "cell_type": "markdown",
   "metadata": {},
   "source": [
    "### (0) GitHub: Cómo clonar el repositorio para acceder a los archivos de código de las clases y TPs?\n",
    "\n",
    "Abran la consola y sigan estos pasos:\n",
    "\n",
    "##### 1. Moverse a la carpeta donde quieran guardar el material del curso (por ej):\n",
    "cd Desktop/UNLP/Curso_Python/\n",
    "\n",
    "##### 2. Clonen a sus computadoras el repositorio del curso:\n",
    "git clone https://github.com/BelenMichel/PythonParaEconomistas2022.git\n",
    "\n",
    "##### 3. Moverse a la carpeta del repositorio:\n",
    "cd PythonParaEconomistas2022/\n",
    "\n",
    "##### 4*. Deshacer los cambios que puedan haber hecho en el repositorio para evitar conflictos con la versión de GitHub:\n",
    "git reset --hard\n",
    "\n",
    "##### 5. Hacer un pull para traer los últimos cambios de GitHub:\n",
    "git pull\n",
    "\n",
    "*Nota para proximas clases: Recuerden que si editaron los archivos originales que había en el repositorio tienen que crear una copia y cambiarle el nombre para no tener conflicto al hacer el pull."
   ]
  },
  {
   "cell_type": "markdown",
   "metadata": {},
   "source": [
    "### (1) Conozcamos un poco sobre Jupyter Notebook\n",
    "\n",
    "Un Jupyter Notebook permite combinar bloques, o **celdas**, de texto con bloques de código en un mismo archivo (.ipynb). Una vez que aprendemos a manejarlo, es muy amigable para trabajar, sobre todo en lo que es armado, limpieza y análisis de bases de datos. \n",
    "\n",
    "Las celdas pueden ser de texto (_markdown_) o de código.\n",
    "\n",
    "Al seleccionar una celda con el mouse van a ver que el margen izquierdo es azul o verde. Cuando está verde uno puede editar la celda y moverse dentro de ella. Cuando está azul uno no puede editar la celda pero puede moverse entre celdas, agregar nuevas y eliminarlas.\n",
    "\n",
    "Para navegar entre celdas (margen azul) se puede usar las flechas del teclado. Una vez seleccionada la celda que queremos trabajar, apretando enter entramos a modo edición (verde). Apretando \"esc\" volvemos a modo navegación (azul).\n",
    "\n",
    "Para agregar celdas, posicionarse en la celda de referencia (margen azul). Con la tecla \"a\" se crea una celda nueva vacía sobre la actual. Con la tecla \"b\" se crea una celda nueva vacía debajo de la actual. Con la tecla \"x\" se elimina la celda que tenemos seleccionada.\n",
    "\n",
    "Para definir que una celda sea de texto, seleccionarla (margen azul) y apretar la tecla \"m\". Para definir que una celda sea de código, apretar la tecla \"y\". Se puede modifica en cualquier momento usando esas teclas (las celdas tienen propiedades distintas según sea el caso).\n",
    "\n",
    "A diferencia de la consola, con poner \"enter\" después de una línea de código el mismo no se ejecuta. En Jupyter Notebook el código no se ejecuta por líneas individuales, sino por celdas. Para ejecutar una celda se puede hacer:\n",
    "\"shift\" + \"enter\": corre el código y pasa a la celda de abajo\n",
    "\"ctrl\" + \"enter\": corre el código y se mantiene en la misma celda"
   ]
  },
  {
   "cell_type": "code",
   "execution_count": null,
   "metadata": {},
   "outputs": [],
   "source": []
  },
  {
   "cell_type": "markdown",
   "metadata": {},
   "source": [
    "### (2) Ejemplos simples"
   ]
  },
  {
   "cell_type": "code",
   "execution_count": 1,
   "metadata": {},
   "outputs": [
    {
     "data": {
      "text/plain": [
       "15"
      ]
     },
     "execution_count": 1,
     "metadata": {},
     "output_type": "execute_result"
    }
   ],
   "source": [
    "12 + 3"
   ]
  },
  {
   "cell_type": "code",
   "execution_count": 2,
   "metadata": {},
   "outputs": [
    {
     "data": {
      "text/plain": [
       "2.0"
      ]
     },
     "execution_count": 2,
     "metadata": {},
     "output_type": "execute_result"
    }
   ],
   "source": [
    "100 / 25 / 2"
   ]
  },
  {
   "cell_type": "code",
   "execution_count": 3,
   "metadata": {},
   "outputs": [
    {
     "data": {
      "text/plain": [
       "'Así se concatena una oración'"
      ]
     },
     "execution_count": 3,
     "metadata": {},
     "output_type": "execute_result"
    }
   ],
   "source": [
    "\"Así se\" + \" \" + 'concatena una oraci' + 'ón'"
   ]
  },
  {
   "cell_type": "code",
   "execution_count": 4,
   "metadata": {},
   "outputs": [
    {
     "data": {
      "text/plain": [
       "64"
      ]
     },
     "execution_count": 4,
     "metadata": {},
     "output_type": "execute_result"
    }
   ],
   "source": [
    "# podemos comentar el código\n",
    "4**3"
   ]
  },
  {
   "cell_type": "code",
   "execution_count": 7,
   "metadata": {},
   "outputs": [
    {
     "data": {
      "text/plain": [
       "True"
      ]
     },
     "execution_count": 7,
     "metadata": {},
     "output_type": "execute_result"
    }
   ],
   "source": [
    "# pueden haber muchas líneas en una misma celda\n",
    "a = 10 + 1\n",
    "\n",
    "# al correr la celda se ejecuta todo el código\n",
    "47%22\n",
    "\n",
    "# pero sólo se muestra el último resultado\n",
    "10.0 == 10"
   ]
  },
  {
   "cell_type": "code",
   "execution_count": 8,
   "metadata": {},
   "outputs": [
    {
     "name": "stdout",
     "output_type": "stream",
     "text": [
      "11\n"
     ]
    }
   ],
   "source": [
    "print(a)"
   ]
  },
  {
   "cell_type": "code",
   "execution_count": 6,
   "metadata": {},
   "outputs": [
    {
     "name": "stdout",
     "output_type": "stream",
     "text": [
      "resultado A:  11\n",
      "resultado B:  3\n",
      "resultado C:  True\n"
     ]
    }
   ],
   "source": [
    "# excepto que usemos el comando print()\n",
    "print(\"resultado A: \", 10 + 1)\n",
    "\n",
    "# al correr la celda se ejecuta todo el código\n",
    "print(\"resultado B: \", 47%22)\n",
    "\n",
    "# pero sólo se muestra el último resultado\n",
    "print(\"resultado C: \", 10.0 == 10)"
   ]
  },
  {
   "cell_type": "markdown",
   "metadata": {},
   "source": [
    "### (3) Sobre equivocarse en Jupyter Notebook\n",
    "\n",
    "¿Qué pasa si nos equivocamos en el código?"
   ]
  },
  {
   "cell_type": "code",
   "execution_count": 1,
   "metadata": {},
   "outputs": [
    {
     "ename": "TypeError",
     "evalue": "can only concatenate str (not \"int\") to str",
     "output_type": "error",
     "traceback": [
      "\u001b[0;31m---------------------------------------------------------------------------\u001b[0m",
      "\u001b[0;31mTypeError\u001b[0m                                 Traceback (most recent call last)",
      "Input \u001b[0;32mIn [1]\u001b[0m, in \u001b[0;36m<cell line: 1>\u001b[0;34m()\u001b[0m\n\u001b[0;32m----> 1\u001b[0m \u001b[38;5;124;43m\"\u001b[39;49m\u001b[38;5;124;43mMe equivoqué\u001b[39;49m\u001b[38;5;124;43m\"\u001b[39;49m\u001b[43m \u001b[49m\u001b[38;5;241;43m+\u001b[39;49m\u001b[43m \u001b[49m\u001b[38;5;241;43m23\u001b[39;49m\n",
      "\u001b[0;31mTypeError\u001b[0m: can only concatenate str (not \"int\") to str"
     ]
    }
   ],
   "source": [
    "\"Me equivoqué\" + 23"
   ]
  },
  {
   "cell_type": "code",
   "execution_count": 13,
   "metadata": {},
   "outputs": [
    {
     "ename": "TypeError",
     "evalue": "unsupported operand type(s) for +: 'int' and 'str'",
     "output_type": "error",
     "traceback": [
      "\u001b[0;31m---------------------------------------------------------------------------\u001b[0m",
      "\u001b[0;31mTypeError\u001b[0m                                 Traceback (most recent call last)",
      "Input \u001b[0;32mIn [13]\u001b[0m, in \u001b[0;36m<cell line: 7>\u001b[0;34m()\u001b[0m\n\u001b[1;32m      4\u001b[0m \u001b[38;5;241m5\u001b[39m \u001b[38;5;241m*\u001b[39m \u001b[38;5;241m6\u001b[39m\n\u001b[1;32m      6\u001b[0m \u001b[38;5;66;03m# Y me equivocó en el medio\u001b[39;00m\n\u001b[0;32m----> 7\u001b[0m \u001b[38;5;241;43m11\u001b[39;49m\u001b[43m \u001b[49m\u001b[38;5;241;43m+\u001b[39;49m\u001b[43m \u001b[49m\u001b[38;5;124;43m\"\u001b[39;49m\u001b[38;5;124;43m23\u001b[39;49m\u001b[38;5;124;43m\"\u001b[39;49m\n\u001b[1;32m     10\u001b[0m \u001b[38;5;66;03m# nos apunta a dónde está el error\u001b[39;00m\n\u001b[1;32m     11\u001b[0m \u001b[38;5;241m2\u001b[39m\u001b[38;5;241m+\u001b[39m\u001b[38;5;241m2\u001b[39m\n",
      "\u001b[0;31mTypeError\u001b[0m: unsupported operand type(s) for +: 'int' and 'str'"
     ]
    }
   ],
   "source": [
    "#Por ejemplo, si tengo muchas líneas\n",
    "4+5\n",
    "\n",
    "5 * 6\n",
    "\n",
    "# Y me equivocó en el medio\n",
    "11 + \"23\"\n",
    "\n",
    "# nos apunta a dónde está el error\n",
    "2+2"
   ]
  },
  {
   "cell_type": "markdown",
   "metadata": {},
   "source": [
    "No pasa nada. De hecho, nos pasa seguido. Jupyter Notebook hace fácil aislar el error y revisar. Algunas cosas nos van a ayudar con los errores:\n",
    "1. Revisar sintáxis son muy comunes los errores de tipeo sobre todo.\n",
    "2. Ganar experiencia en leer los errores. Señalan la línea dónde está el error. Los errores son mucho más expresivos de lo que estamos acostumbrados con Stata.\n",
    "3. Casi siempre hay alguien a quién ya le pasó lo mismo, lo preguntó y un ser del bien le contestó en https://stackoverflow.com/. La comunidad de apoyo de Python es un diferencial importante.\n",
    "4. Leer la documentación! Como con Stata, no muy diferente: https://docs.python.org/3.8/tutorial/index.html"
   ]
  },
  {
   "cell_type": "code",
   "execution_count": 18,
   "metadata": {},
   "outputs": [
    {
     "name": "stdout",
     "output_type": "stream",
     "text": [
      "Help on built-in function print in module builtins:\n",
      "\n",
      "print(...)\n",
      "    print(value, ..., sep=' ', end='\\n', file=sys.stdout, flush=False)\n",
      "    \n",
      "    Prints the values to a stream, or to sys.stdout by default.\n",
      "    Optional keyword arguments:\n",
      "    file:  a file-like object (stream); defaults to the current sys.stdout.\n",
      "    sep:   string inserted between values, default a space.\n",
      "    end:   string appended after the last value, default a newline.\n",
      "    flush: whether to forcibly flush the stream.\n",
      "\n"
     ]
    }
   ],
   "source": [
    "help(print)"
   ]
  },
  {
   "cell_type": "markdown",
   "metadata": {},
   "source": [
    "## Para trabajar en grupos"
   ]
  },
  {
   "cell_type": "markdown",
   "metadata": {},
   "source": [
    "### (A) Diccionarios\n",
    "Construyan un diccionario para cada integrante del equipo. Cada diccionario debe contener los siguientes keys:\n",
    "* nombre\n",
    "* apellido\n",
    "* edad\n",
    "* helado_favorito\n",
    "\n",
    "Llamen **nombre\\_carac** a cada diccionario, donde **nombre** sea el nombre de cada integrante del equipo."
   ]
  },
  {
   "cell_type": "code",
   "execution_count": 14,
   "metadata": {},
   "outputs": [],
   "source": [
    "ivana_carac = {'nombre':'Ivana','apellido':'Sicuelo','edad': \"40\",'helado_favorito':'dulce de leche'}\n",
    "fernando_carac = {\"nombre\":\"Fernando\",'apellido':\"Del Puerto\",'edad': \"42\",'helado_favorito':'frambuesa al agua'}\n",
    "axel_carac = {\"nombre\":\"Axel\",'apellido':\"McCallum\",'edad': \"30\",'helado_favorito':'menta granizada'}"
   ]
  },
  {
   "cell_type": "markdown",
   "metadata": {},
   "source": [
    "Construyan un diccionario llamado **alumnos** que tenga como llave el apodo de cada integrante y como valor su correspondiente diccionario **nombre\\_carac**"
   ]
  },
  {
   "cell_type": "code",
   "execution_count": 5,
   "metadata": {},
   "outputs": [],
   "source": [
    "alumnos = {'I': ivana_carac, 'F':fernando_carac, 'A': axel_carac}"
   ]
  },
  {
   "cell_type": "markdown",
   "metadata": {},
   "source": [
    "### (B) Bucle (for loop)\n",
    "\n",
    "Construyan una lista con el apodo de cada integrante del grupo. Luego definan un for loop que itere por cada elemento de la lista y lo use como key en el diccionario **alumnos** para llamar al diccionario que contiene las caracteristicas de cada alumno. Finalmente, en cada iteracción el loop debe imprimir:\n",
    "* el nombre (no el apodo)\n",
    "* el gusto de helado favorito"
   ]
  },
  {
   "cell_type": "markdown",
   "metadata": {},
   "source": [
    "Tengan en cuenta que para imprimir van a tener que escribir código de la siguiente estructura:\n",
    "\n",
    "print(\"Texto que quieran escribir\" + str(alumnos[apodo][key_diccionario_individual]))\n",
    "\n",
    "A tener en cuenta:\n",
    "* str(): transforma el tipo de dato a un string\n",
    "* alumnos[X]: va a devolver el valor asociado a la llave \"X\", en este caso un diccionario individual\n",
    "* apodo: va a ser uno de los elementos de la lista de apodos (en formato string)\n",
    "* [key_diccionario_individual]: llama a un key del diccionario individual que nos devolvió diccionario_apodos[X]. La llave debería ser una de las variables que queremos imprimir"
   ]
  },
  {
   "cell_type": "code",
   "execution_count": 7,
   "metadata": {},
   "outputs": [
    {
     "name": "stdout",
     "output_type": "stream",
     "text": [
      "nombre: Axel\n",
      "helado favorito: menta granizada\n",
      "nombre: Ivana\n",
      "helado favorito: dulce de leche\n",
      "nombre: Fernando\n",
      "helado favorito: frambuesa al agua\n"
     ]
    }
   ],
   "source": [
    "apodos = ['A', 'I', 'F']\n",
    "\n",
    "for a in apodos:\n",
    "    print('nombre: ' + alumnos[a]['nombre'])\n",
    "    print('helado favorito: ' + alumnos[a]['helado_favorito'])\n",
    "    "
   ]
  },
  {
   "cell_type": "markdown",
   "metadata": {},
   "source": [
    "### (C) While loop\n",
    "\n",
    "Ahora construyan una variable count = 3. Luego usen esa variable para iterar sobre un while loop mientras que count sea mayor a 0. En cada iteración se debe restar 1 del count. En la clase asincrónica vimos una forma de hacer esto, otra forma es la siguiente:\n"
   ]
  },
  {
   "cell_type": "code",
   "execution_count": null,
   "metadata": {},
   "outputs": [],
   "source": [
    "# corran esta celda\n",
    "count = 3\n",
    "\n",
    "while count > 0:\n",
    "    print('Count actual es: ' + str(count)) # imprime count antes de restar 1\n",
    "    count -= 1 # redefine la variable count tomando el valor actual - 1"
   ]
  },
  {
   "cell_type": "code",
   "execution_count": 22,
   "metadata": {},
   "outputs": [
    {
     "name": "stdout",
     "output_type": "stream",
     "text": [
      "apellido: Del Puerto\n",
      "edad:  42\n",
      "apellido: Sicuelo\n",
      "edad:  40\n",
      "apellido: McCallum\n",
      "edad:  30\n"
     ]
    }
   ],
   "source": [
    "count = 2\n",
    "apodos = ['A', 'I', 'F']\n",
    "\n",
    "while count >= 0:\n",
    "    print('apellido: ' + alumnos[apodos[count]]['apellido'])\n",
    "    print('edad: ', alumnos[apodos[count]]['edad'])\n",
    "    count -= 1 \n",
    "\n"
   ]
  },
  {
   "cell_type": "markdown",
   "metadata": {},
   "source": [
    "Usando esa estructura, usen la variable count para indexar la lista con el apodo de cada integrante del grupo. Dentro del mismo loop, usen esa lista indexada para llamar al key del diccionario ya definido (igual que el ejercio anterior) pero impriman:\n",
    "* el apellido\n",
    "* la edad"
   ]
  },
  {
   "cell_type": "markdown",
   "metadata": {},
   "source": [
    "## Duda cuestionario"
   ]
  },
  {
   "cell_type": "code",
   "execution_count": 24,
   "metadata": {},
   "outputs": [
    {
     "name": "stdout",
     "output_type": "stream",
     "text": [
      "None\n",
      "{'PRY', 'BRA', 'BOL'}\n",
      "PRY\n",
      "{'BRA', 'BOL'}\n"
     ]
    }
   ],
   "source": [
    "pry_limit = {\"URY\", \"BOL\", \"PRY\", \"BRA\"}\n",
    "temp1 = pry_limit.remove(\"URY\")\n",
    "print(temp1)\n",
    "print(pry_limit)\n",
    "temp2 = pry_limit.pop()\n",
    "print(temp2)\n",
    "print(pry_limit)"
   ]
  },
  {
   "cell_type": "markdown",
   "metadata": {},
   "source": [
    "## Para ver todos juntos\n",
    "\n",
    "### (4) Cast_(ear)_ y verificar tipo de dato\n",
    "\n",
    "\"Cast\" significa convertir una variable de un \"type\" a otro. Por ejemplo, covertir \"2020\" a 2020, o 2020 a 2020.0. Ahora vamos a ver como inspeccionar el tipo de dato y como convertirlo a otro (no todo tipo de dato puede ser convertido).\n",
    "\n",
    "Esto se hace con una funciones preestablecida de Python. Más adelante vamos a aprender sobre funciones en detalle, por ahora solo vamos a ver lo que necesitamos.\n",
    "\n",
    "¿Por qué es importante? \n",
    "\n",
    "Trabajando con bases de datos muy frecuentemente van a tener que convertir types de variables para poder trabajar con ellas. Python, cómo todo lenguaje formal, es sensible a los tipos de datos."
   ]
  },
  {
   "cell_type": "code",
   "execution_count": 25,
   "metadata": {},
   "outputs": [
    {
     "data": {
      "text/plain": [
       "str"
      ]
     },
     "execution_count": 25,
     "metadata": {},
     "output_type": "execute_result"
    }
   ],
   "source": [
    "#defino una variable de prueba en formato string\n",
    "variable_prueba = '2020'\n",
    "\n",
    "# verifico que sea string\n",
    "type(variable_prueba)"
   ]
  },
  {
   "cell_type": "markdown",
   "metadata": {},
   "source": [
    "Los tipos de datos se identifican por palabras reservadas (_keywords_): str, int, float, bool.\n",
    "\n",
    "Estos son ejemplos pertinentes a esta clase, hay muchas más."
   ]
  },
  {
   "cell_type": "code",
   "execution_count": 26,
   "metadata": {},
   "outputs": [
    {
     "data": {
      "text/plain": [
       "int"
      ]
     },
     "execution_count": 26,
     "metadata": {},
     "output_type": "execute_result"
    }
   ],
   "source": [
    "type(2020)"
   ]
  },
  {
   "cell_type": "code",
   "execution_count": 27,
   "metadata": {},
   "outputs": [
    {
     "data": {
      "text/plain": [
       "float"
      ]
     },
     "execution_count": 27,
     "metadata": {},
     "output_type": "execute_result"
    }
   ],
   "source": [
    "type(2020.0)"
   ]
  },
  {
   "cell_type": "code",
   "execution_count": 28,
   "metadata": {},
   "outputs": [
    {
     "data": {
      "text/plain": [
       "bool"
      ]
     },
     "execution_count": 28,
     "metadata": {},
     "output_type": "execute_result"
    }
   ],
   "source": [
    "type(True)"
   ]
  },
  {
   "cell_type": "code",
   "execution_count": 29,
   "metadata": {},
   "outputs": [
    {
     "data": {
      "text/plain": [
       "True"
      ]
     },
     "execution_count": 29,
     "metadata": {},
     "output_type": "execute_result"
    }
   ],
   "source": [
    "type(variable_prueba)==str"
   ]
  },
  {
   "cell_type": "markdown",
   "metadata": {},
   "source": [
    "Bien, ahora para cambiar el tipo de dato usamos funciones predefinidas:\n",
    "str()\n",
    "int()\n",
    "float()"
   ]
  },
  {
   "cell_type": "code",
   "execution_count": 30,
   "metadata": {},
   "outputs": [
    {
     "data": {
      "text/plain": [
       "'22'"
      ]
     },
     "execution_count": 30,
     "metadata": {},
     "output_type": "execute_result"
    }
   ],
   "source": [
    "str(22)"
   ]
  },
  {
   "cell_type": "code",
   "execution_count": 31,
   "metadata": {},
   "outputs": [
    {
     "data": {
      "text/plain": [
       "22"
      ]
     },
     "execution_count": 31,
     "metadata": {},
     "output_type": "execute_result"
    }
   ],
   "source": [
    "int(\"22\")"
   ]
  },
  {
   "cell_type": "code",
   "execution_count": 32,
   "metadata": {},
   "outputs": [
    {
     "data": {
      "text/plain": [
       "10.0"
      ]
     },
     "execution_count": 32,
     "metadata": {},
     "output_type": "execute_result"
    }
   ],
   "source": [
    "float(10)"
   ]
  },
  {
   "cell_type": "code",
   "execution_count": 33,
   "metadata": {},
   "outputs": [
    {
     "data": {
      "text/plain": [
       "True"
      ]
     },
     "execution_count": 33,
     "metadata": {},
     "output_type": "execute_result"
    }
   ],
   "source": [
    "bool(\"True\")"
   ]
  },
  {
   "cell_type": "code",
   "execution_count": 34,
   "metadata": {},
   "outputs": [
    {
     "data": {
      "text/plain": [
       "'Me equivoqué23'"
      ]
     },
     "execution_count": 34,
     "metadata": {},
     "output_type": "execute_result"
    }
   ],
   "source": [
    "# retomando nuestro ejemplo de error anterior\n",
    "\"Me equivoqué\" + str(23)\n"
   ]
  },
  {
   "cell_type": "markdown",
   "metadata": {},
   "source": [
    "### (5) Algunos comandos útiles (y necesarios para los ejercicios)\n",
    "\n"
   ]
  },
  {
   "cell_type": "markdown",
   "metadata": {},
   "source": [
    "#### (5.1) Como armar listas de números con la función range()\n",
    "\n",
    "Ya aprendimos a armar listas:"
   ]
  },
  {
   "cell_type": "code",
   "execution_count": null,
   "metadata": {},
   "outputs": [],
   "source": [
    "num_list = [0,5,2,3,4,5]"
   ]
  },
  {
   "cell_type": "markdown",
   "metadata": {},
   "source": [
    "Para secuencias regulares de números (incrementos homogéneos), podemos usar la función range() para hacer lo mismo. Muy útil para loops."
   ]
  },
  {
   "cell_type": "code",
   "execution_count": null,
   "metadata": {},
   "outputs": [],
   "source": [
    "# La función tiene tres partes range(start, stop, step)\n",
    "# para ver la documentación de una variable podemos hacer:\n",
    "?range\n"
   ]
  },
  {
   "cell_type": "code",
   "execution_count": 36,
   "metadata": {},
   "outputs": [
    {
     "data": {
      "text/plain": [
       "range"
      ]
     },
     "execution_count": 36,
     "metadata": {},
     "output_type": "execute_result"
    }
   ],
   "source": [
    "# Probemos\n",
    "type(range(0,6))"
   ]
  },
  {
   "cell_type": "code",
   "execution_count": null,
   "metadata": {},
   "outputs": [],
   "source": []
  },
  {
   "cell_type": "markdown",
   "metadata": {},
   "source": [
    "Bueno, tecnicamente no produce una lista, sino un _range object_ que es una secuencia de números sobre la cual un loop puede iterar. Pero, aplicando una función se puede castear a una lista:"
   ]
  },
  {
   "cell_type": "code",
   "execution_count": 39,
   "metadata": {},
   "outputs": [
    {
     "data": {
      "text/plain": [
       "[0, 3, 6, 9]"
      ]
     },
     "execution_count": 39,
     "metadata": {},
     "output_type": "execute_result"
    }
   ],
   "source": [
    "list(range(0,10,3))"
   ]
  },
  {
   "cell_type": "markdown",
   "metadata": {},
   "source": [
    "Pero no es necesario hacer para un loop:"
   ]
  },
  {
   "cell_type": "code",
   "execution_count": 40,
   "metadata": {},
   "outputs": [
    {
     "name": "stdout",
     "output_type": "stream",
     "text": [
      "0\n",
      "1\n",
      "2\n",
      "3\n",
      "4\n",
      "5\n"
     ]
    }
   ],
   "source": [
    "for n in range(0,6):\n",
    "    print(n)"
   ]
  },
  {
   "cell_type": "markdown",
   "metadata": {},
   "source": [
    "Y ahora un ejemplo con pasos mayores a 1"
   ]
  },
  {
   "cell_type": "code",
   "execution_count": 41,
   "metadata": {},
   "outputs": [
    {
     "name": "stdout",
     "output_type": "stream",
     "text": [
      "10\n",
      "30\n",
      "50\n",
      "70\n",
      "90\n"
     ]
    }
   ],
   "source": [
    "for n in range(10,100,20):\n",
    "    print(n)"
   ]
  },
  {
   "cell_type": "markdown",
   "metadata": {
    "collapsed": true
   },
   "source": [
    "#### (5.2) Como medir la longitud de un string con len()\n",
    "Lo último que vamos a ver es cómo usar la función len() para medir la longitud, en caracteres, de un string. Simplemente insertar la variable string dentro de los paréntesis y nos dice la longitud:"
   ]
  },
  {
   "cell_type": "code",
   "execution_count": 42,
   "metadata": {},
   "outputs": [
    {
     "data": {
      "text/plain": [
       "16"
      ]
     },
     "execution_count": 42,
     "metadata": {},
     "output_type": "execute_result"
    }
   ],
   "source": [
    "texto = \"jupyter notebook\"\n",
    "\n",
    "len(texto)"
   ]
  },
  {
   "cell_type": "code",
   "execution_count": null,
   "metadata": {},
   "outputs": [],
   "source": []
  }
 ],
 "metadata": {
  "anaconda-cloud": {},
  "kernelspec": {
   "display_name": "Python 3 (ipykernel)",
   "language": "python",
   "name": "python3"
  },
  "language_info": {
   "codemirror_mode": {
    "name": "ipython",
    "version": 3
   },
   "file_extension": ".py",
   "mimetype": "text/x-python",
   "name": "python",
   "nbconvert_exporter": "python",
   "pygments_lexer": "ipython3",
   "version": "3.9.12"
  },
  "varInspector": {
   "cols": {
    "lenName": 16,
    "lenType": 16,
    "lenVar": 40
   },
   "kernels_config": {
    "python": {
     "delete_cmd_postfix": "",
     "delete_cmd_prefix": "del ",
     "library": "var_list.py",
     "varRefreshCmd": "print(var_dic_list())"
    },
    "r": {
     "delete_cmd_postfix": ") ",
     "delete_cmd_prefix": "rm(",
     "library": "var_list.r",
     "varRefreshCmd": "cat(var_dic_list()) "
    }
   },
   "types_to_exclude": [
    "module",
    "function",
    "builtin_function_or_method",
    "instance",
    "_Feature"
   ],
   "window_display": false
  }
 },
 "nbformat": 4,
 "nbformat_minor": 2
}
