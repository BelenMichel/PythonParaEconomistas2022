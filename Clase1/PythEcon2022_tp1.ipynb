{
 "cells": [
  {
   "cell_type": "markdown",
   "metadata": {
    "collapsed": true
   },
   "source": [
    "# Taller Introducción a la Programación en Python\n",
    "## Ejercicios Clase 1"
   ]
  },
  {
   "cell_type": "markdown",
   "metadata": {},
   "source": [
    "#### Ejercicio 1\n",
    "Este ejercicio simplemente busca repasar lo que aprendimos sobre definición de variables. Definí tres variables con un nombre combinado (al menos dos palabras): \n",
    "(a) Una siguiendo las buenas prácticas. \n",
    "(b) Hacer lo mismo de manera técnicamente correcta (sin error) pero sin seguir las buenas prácticas. \n",
    "(c) Intentar definir una variable con un nombre inacceptable (genera error)."
   ]
  },
  {
   "cell_type": "code",
   "execution_count": null,
   "metadata": {
    "collapsed": true
   },
   "outputs": [],
   "source": [
    "# Caso A\n",
    "\n",
    "\n",
    "# Caso B\n",
    "\n",
    "\n",
    "# Caso C (acá abajo debería saltar un error)\n"
   ]
  },
  {
   "cell_type": "markdown",
   "metadata": {},
   "source": [
    "#### Ejercicio 2\n",
    "Este ejercicio trata sobre la sustitución de variables y el uso de variables temporales para hacerlo. Las variables temporales y la sustitución de valores termina siendo útil en algunos loops. Los pasos a seguir son: (a) definir variables A y B (cuyos valores buscaremos invertir); (b) definir una variable temporal que hace de \"memoria\" y resguardo del valor; (c) sustitución (asignar B igual a A y también A a la variable temporal); (d) imprimir valores para verificar."
   ]
  },
  {
   "cell_type": "code",
   "execution_count": null,
   "metadata": {
    "collapsed": true
   },
   "outputs": [],
   "source": [
    "# Definir variables A y B, \n",
    "a = 1\n",
    "b = 2\n",
    "\n",
    "# definir variable temporal \"tmp\" igual a B (la variable, no el valor)\n",
    "\n",
    "\n",
    "# Ahora sustituir variables\n",
    "# variable B igual a variable A (la variable, no el valor)\n",
    "\n",
    "# variable A igual a variable \"tmp\"\n",
    "\n",
    "\n",
    "# verifiquemos resultados, imprimir variables A y B\n"
   ]
  },
  {
   "cell_type": "markdown",
   "metadata": {},
   "source": [
    "#### Ejercicio 3\n",
    "Pongamos en práctica el uso de range() en un for loop. \n",
    "\n",
    "Construir un for loop usando un range(). El range debe puede ser entre los valores que quieran (con una diferencia mínima de 15 entre start y stop), en incrementos de 3 unidades. Dentro del loop, implementar una sentencia condicional que imprimar una leyenda indicando si el input es par o impar."
   ]
  },
  {
   "cell_type": "code",
   "execution_count": null,
   "metadata": {
    "collapsed": true
   },
   "outputs": [],
   "source": []
  },
  {
   "cell_type": "markdown",
   "metadata": {},
   "source": [
    "#### Ejercicio 4\n",
    "Para practicar el uso de condiciones lógicas, construyamos una sentencia condicional que verifique si un año es bisiesto o no. Para que un año sea bisiesto debe cumplir una de dos condiciones:\n",
    "(a) sea divisible por 400 OR\n",
    "(b) sea divisible por 4 AND no sea divisible por 100\n",
    "\n",
    "Nótese que son dos condiciones, dónde la segunda condición tiene dos componentes. Prueben la sentencia con una serie de valores para verificar que funcione."
   ]
  },
  {
   "cell_type": "code",
   "execution_count": null,
   "metadata": {
    "collapsed": true
   },
   "outputs": [],
   "source": []
  },
  {
   "cell_type": "markdown",
   "metadata": {
    "collapsed": true
   },
   "source": [
    "#### Ejercicio 5\n",
    "Pongamos en práctica identificar el type() de cada variable. A continuación tenemos una lista con elementos de diferentes tipos. Construyan un for loop que itere sobre la lista e imprima un cartel indicando el tipo de dato que hay en cada caso.\n"
   ]
  },
  {
   "cell_type": "code",
   "execution_count": 1,
   "metadata": {},
   "outputs": [],
   "source": [
    "mi_lista = [1, 3.4, 5666666666, 'hola', [1,2,3], ('ARG', 45808747), {'pob_arg': 45808747}, True]\n",
    "\n"
   ]
  },
  {
   "cell_type": "markdown",
   "metadata": {},
   "source": [
    "#### Ejercicio 6\n",
    "Ahora definan ustedes una lista, en la que los primeros 4 elementos sean palabras (strings) la 5ta no sea string, y la 6ta sea string. Construyan un for loop que corra por la lista y que imprima la palabra y la longitud de la misma. Que el loop contenga una sentencia condicional que imprima un cartel \"Elemento no es un string: < el elemento > | < class del elemento >\" para los casos dónde el elemento evaluado no sea string.\n",
    "\n",
    "_Comentario: más adelante vamos a aprender como manejar errores._"
   ]
  },
  {
   "cell_type": "code",
   "execution_count": null,
   "metadata": {
    "collapsed": true
   },
   "outputs": [],
   "source": []
  },
  {
   "cell_type": "markdown",
   "metadata": {},
   "source": [
    "#### Ejercicio 7\n",
    "\n",
    "Ahora probemos algo con un nivel más de dificultad. Argentina tiene una representación legislativa proporcional en la cual la cantidad de diputados se debería ajustar según el tamaño de población de cada provincia. Otra característica de la representación legislativa del país es que hay una cantidad mínima de diputados por provincia (5). Esto genera un desbalance en la cantidad de ciudadanos por cada representante en el Congreso entre provincias.\n",
    "\n",
    "A continuación les dejamos la cantidad de bancas y la población de algunas provincias (según estimación para el 2021) y del agregado a nivel país.\n",
    "\n",
    "En este ejercicio les pedimos que primero construyan un diccionario para cada provincia que contenga 3 llaves: nombre de la provincia, población y bancas. Luego creen otro conjunto que contenga los diccionarios de las 5 provincias. Finalmente deben crear un loop que itere sobre el conjunto creado y calcule para cada provincia la proporción de población por bancas, a su vez, el loop debe hacer dos tareas con dicha proporción:\n",
    "\n",
    "- debe comparar cada proporción provincial contra el valor de proporcionalidad directa (la poblacion argentina sobre las bancas de todo el país). El loop debe imprimir una leyenda que indique: (a) nombre de la jurisdicción, (b) cantidad de bancas y (c) si la provincia está sobrerepresentada, subrepresentada o con representación proporcional. Por ejemplo la leyenda podría decir: \"La provincia (a) tiene (b) bancas, lo que significa que está (c) con su cantidad de diputados\". Esta leyenda se deberá imprimir tantas veces como provincias en su conjunto.\n",
    "\n",
    "- debe distinguir la _proporción de población por bancas_ de las provincias sobrerepresentadas y guardar el valor de la provincia con mayor sobrerepresentación. Una vez terminado el loop, impriman la leyenda: \"La provincia con mayor sobrerepresentación es (a)\" Esta leyenda se deberá imprimir una sola vez.\n",
    "\n",
    "_Ayuda: el ejercicio 2 les puede ayudar para resolver parte de este problema._\n",
    "\n",
    "\n",
    "Fuente para población: https://es.wikipedia.org/wiki/Demograf%C3%ADa_de_Argentina\n",
    "\n",
    "Fuente para representantes: https://es.wikipedia.org/wiki/C%C3%A1mara_de_Diputados_de_la_Naci%C3%B3n_Argentina"
   ]
  },
  {
   "cell_type": "code",
   "execution_count": 3,
   "metadata": {},
   "outputs": [],
   "source": [
    "#La proporción se calcula haciendo: población / bancas en el Congreso\n",
    "\n",
    "# Variables con la población y las bancas a nivel Nacional\n",
    "argentina_poblacion = 47327407 \n",
    "argentina_bancas =  257\n",
    "\n",
    "# Variables con la población y las bancas para una selección de jurisdicciones\n",
    "catamarca_poblacion = 367820\n",
    "catamarca_bancas = 5\n",
    "\n",
    "buenos_aires_poblacion = 17594428\n",
    "buenos_aires_bancas = 70\n",
    "\n",
    "misiones_poblacion = 1097829\n",
    "misiones_bancas = 7\n",
    "\n",
    "tierra_fuego_poblacion = 126190\n",
    "tierra_fuego_bancas = 5\n",
    "\n",
    "tucuman_poblacion = 1950878\n",
    "tucuman_bancas = 9\n"
   ]
  },
  {
   "cell_type": "code",
   "execution_count": 7,
   "metadata": {},
   "outputs": [],
   "source": [
    "# resuelvan acá:\n",
    "\n"
   ]
  },
  {
   "cell_type": "markdown",
   "metadata": {},
   "source": [
    "#### Ejercicio 8\n",
    "Excelente! Un último ejercicio. Si buscáramos minimizar la subrepresentación de la provincia de Buenos Aires, ¿cuántos representantes debería tener según el Censo 2022? Usemos el mismo criterio de sub/sobrerepresentacion que en el ejercicio anterior: población sobre cantidad de representantes.\n",
    "\n",
    "Para responder esta pregunta construyan un while loop que incremente de a uno la cantidad de representantes de la Provincia hasta minimizar la subrepresentación (sin pasar el límite de la proporción directa, lo cual implicaría una sobrerepresentación). En cada iteración impriman un cartel que diga: \"Se agregó un represntante, el total ahora es X\" dónde X es el número de representantes simulado. Luego de correr el loop escriban su respuesta final. Su respuesta final debiera ser el número de representantes que minimza la subrepresentación."
   ]
  },
  {
   "cell_type": "code",
   "execution_count": 42,
   "metadata": {
    "collapsed": true
   },
   "outputs": [],
   "source": [
    "# estos son los valores de la provincia\n",
    "representantes_pba = 70\n",
    "poblacion2010_pba = 1950878\n",
    "\n",
    "\n",
    "# y el valor de referencia nacional\n",
    "argentina = 47327407 / 256"
   ]
  },
  {
   "cell_type": "code",
   "execution_count": null,
   "metadata": {
    "collapsed": true
   },
   "outputs": [],
   "source": []
  }
 ],
 "metadata": {
  "anaconda-cloud": {},
  "kernelspec": {
   "display_name": "Python 3 (ipykernel)",
   "language": "python",
   "name": "python3"
  },
  "language_info": {
   "codemirror_mode": {
    "name": "ipython",
    "version": 3
   },
   "file_extension": ".py",
   "mimetype": "text/x-python",
   "name": "python",
   "nbconvert_exporter": "python",
   "pygments_lexer": "ipython3",
   "version": "3.9.12"
  },
  "varInspector": {
   "cols": {
    "lenName": 16,
    "lenType": 16,
    "lenVar": 40
   },
   "kernels_config": {
    "python": {
     "delete_cmd_postfix": "",
     "delete_cmd_prefix": "del ",
     "library": "var_list.py",
     "varRefreshCmd": "print(var_dic_list())"
    },
    "r": {
     "delete_cmd_postfix": ") ",
     "delete_cmd_prefix": "rm(",
     "library": "var_list.r",
     "varRefreshCmd": "cat(var_dic_list()) "
    }
   },
   "types_to_exclude": [
    "module",
    "function",
    "builtin_function_or_method",
    "instance",
    "_Feature"
   ],
   "window_display": false
  }
 },
 "nbformat": 4,
 "nbformat_minor": 2
}
