{
 "cells": [
  {
   "cell_type": "markdown",
   "metadata": {},
   "source": [
    "# Python para Economistas - Clase 3"
   ]
  },
  {
   "cell_type": "markdown",
   "metadata": {},
   "source": [
    "**Plan de clase:**  \n",
    "**(1)** GitHub para entregar tarea \\\n",
    "**(2)** Repaso de `Pandas` \\\n",
    "**(3)** `Pandas`: temas nuevos \\\n",
    "**(4)** `Matplotlib` \\\n",
    "**(5)** Ejercicios"
   ]
  },
  {
   "cell_type": "markdown",
   "metadata": {},
   "source": [
    "___\n",
    "## (1) GitHub\n",
    "\n",
    "A partir de esta clase, **los trabajos prácticos se entregarán a través de GitHub** (ya no a través de Slack).\\\n",
    "Supondremos que ya tienen una cuenta personal de GitHub. Vamos a ver:\n",
    "\n",
    "\n",
    " **(a)** Cómo crear un repo privado: https://docs.github.com/en/get-started/quickstart/create-a-repo  \n",
    " **(b)** Cómo agregar colaboradores: https://docs.github.com/en/account-and-profile/setting-up-and-managing-your-github-user-account/managing-access-to-your-personal-repositories/inviting-collaborators-to-a-personal-repository  \n",
    " **(c)** Clonar repo en computadora  \n",
    " **(d)** Comandos nuevos: `status`, `add`, `commit` y `push`  \n",
    " \n",
    " _Sólo si es necesario: https://docs.github.com/en/authentication/keeping-your-account-and-data-secure/creating-a-personal-access-token_"
   ]
  },
  {
   "cell_type": "markdown",
   "metadata": {},
   "source": [
    "Los nombres de usuario de GitHub de los profesores están en el notebook correspondiente al trabajo práctico."
   ]
  },
  {
   "cell_type": "markdown",
   "metadata": {},
   "source": [
    "___"
   ]
  },
  {
   "cell_type": "markdown",
   "metadata": {},
   "source": [
    "**_Recordatorio:_**\n",
    "Como siempre, para seguir esta clase, pueden ejecutar `git pull` para bajarse este notebook. Recuerden guardar los cambios en los archivos del repositorio que hayan modificado (y que quieran preservar) con \"Save as...\", luego ejecutar `git reset --hard` para volver los archivos al estado original y así evitar conflictos al hacer el pull."
   ]
  },
  {
   "cell_type": "markdown",
   "metadata": {
    "id": "EcNl9ORpsP9e"
   },
   "source": [
    "___\n",
    "## (2) Repaso de Pandas\n",
    "Vamos a trabajar sobre un archivo CSV que contiene una serie temporal con la potencia de distintas centrales eléctricas de Argentina.\n",
    "\n",
    "- abrir archivos\n",
    "- inspeccionar los datos\n",
    "- crear columnas\n",
    "- seleccionar y dropear columnas\n",
    "- seleccionar segmentos de una base (filtrar, slice, loc)"
   ]
  },
  {
   "cell_type": "markdown",
   "metadata": {},
   "source": [
    "**(a)** cargar los datos en el archivo `potencia_instalada_mod.csv`. (_Nota: van a tener que definir el parámetro_ `encoding='latin1'`_)_  \n",
    "**(b)** identificar cuántas columnas y filas hay, cantidades según tipo de dato y si alguna tiene valores faltantes.  \n",
    "**(c)** inspeccionemos las primeras 5 líneas: ¿qué problema ven?  \n",
    "**(d)** armar un dataframe llamado `df` que tenga las siguientes columnas: periodo, el agente, la descripcion del agente, la fuente de generación y la potencia instalada.  \n",
    "**(e)** redondear la columna de potencia instalada al entero más cercano  \n",
    "**(f)** cambiar el formato de la columna de potencia instalada a `int`. \\\n",
    "**(g)** cortar la base para quedarnos únicamente con las primeras 11497 filas"
   ]
  },
  {
   "cell_type": "code",
   "execution_count": 3,
   "metadata": {},
   "outputs": [],
   "source": [
    "import pandas as pd"
   ]
  },
  {
   "cell_type": "code",
   "execution_count": 4,
   "metadata": {},
   "outputs": [],
   "source": [
    "potencia_df = pd.read_csv(\"potencia_instalada_mod.csv\", encoding='latin1', sep=\"|\", index_col=\"Unnamed: 0\")"
   ]
  },
  {
   "cell_type": "code",
   "execution_count": 5,
   "metadata": {},
   "outputs": [
    {
     "data": {
      "text/plain": [
       "(15793, 15)"
      ]
     },
     "execution_count": 5,
     "metadata": {},
     "output_type": "execute_result"
    }
   ],
   "source": [
    "potencia_df.shape"
   ]
  },
  {
   "cell_type": "code",
   "execution_count": 6,
   "metadata": {},
   "outputs": [
    {
     "name": "stdout",
     "output_type": "stream",
     "text": [
      "<class 'pandas.core.frame.DataFrame'>\n",
      "Int64Index: 15793 entries, 0 to 15792\n",
      "Data columns (total 15 columns):\n",
      " #   Column                 Non-Null Count  Dtype  \n",
      "---  ------                 --------------  -----  \n",
      " 0   id                     15793 non-null  int64  \n",
      " 1   periodo                15793 non-null  object \n",
      " 2   central                15793 non-null  object \n",
      " 3   agente                 15789 non-null  object \n",
      " 4   agente_descripcion     15789 non-null  object \n",
      " 5   region                 15793 non-null  object \n",
      " 6   categoria_region       15793 non-null  object \n",
      " 7   tipo_maquina           15793 non-null  object \n",
      " 8   fuente_generacion      15793 non-null  object \n",
      " 9   tecnologia             15793 non-null  object \n",
      " 10  potencia_instalada_mw  15793 non-null  float64\n",
      " 11  fecha_proceso          15793 non-null  object \n",
      " 12  lote_id_log            15793 non-null  int64  \n",
      " 13  mes                    15793 non-null  int64  \n",
      " 14  indice_tiempo          15793 non-null  object \n",
      "dtypes: float64(1), int64(3), object(11)\n",
      "memory usage: 1.9+ MB\n"
     ]
    },
    {
     "data": {
      "text/html": [
       "<div>\n",
       "<style scoped>\n",
       "    .dataframe tbody tr th:only-of-type {\n",
       "        vertical-align: middle;\n",
       "    }\n",
       "\n",
       "    .dataframe tbody tr th {\n",
       "        vertical-align: top;\n",
       "    }\n",
       "\n",
       "    .dataframe thead th {\n",
       "        text-align: right;\n",
       "    }\n",
       "</style>\n",
       "<table border=\"1\" class=\"dataframe\">\n",
       "  <thead>\n",
       "    <tr style=\"text-align: right;\">\n",
       "      <th></th>\n",
       "      <th>id</th>\n",
       "      <th>periodo</th>\n",
       "      <th>central</th>\n",
       "      <th>agente</th>\n",
       "      <th>agente_descripcion</th>\n",
       "      <th>region</th>\n",
       "      <th>categoria_region</th>\n",
       "      <th>tipo_maquina</th>\n",
       "      <th>fuente_generacion</th>\n",
       "      <th>tecnologia</th>\n",
       "      <th>potencia_instalada_mw</th>\n",
       "      <th>fecha_proceso</th>\n",
       "      <th>lote_id_log</th>\n",
       "      <th>mes</th>\n",
       "      <th>indice_tiempo</th>\n",
       "    </tr>\n",
       "    <tr>\n",
       "      <th>Unnamed: 0</th>\n",
       "      <th></th>\n",
       "      <th></th>\n",
       "      <th></th>\n",
       "      <th></th>\n",
       "      <th></th>\n",
       "      <th></th>\n",
       "      <th></th>\n",
       "      <th></th>\n",
       "      <th></th>\n",
       "      <th></th>\n",
       "      <th></th>\n",
       "      <th></th>\n",
       "      <th></th>\n",
       "      <th></th>\n",
       "      <th></th>\n",
       "    </tr>\n",
       "  </thead>\n",
       "  <tbody>\n",
       "    <tr>\n",
       "      <th>0</th>\n",
       "      <td>2</td>\n",
       "      <td>01/10/2015 0:00</td>\n",
       "      <td>ABRO</td>\n",
       "      <td>CTBROWNG</td>\n",
       "      <td>C.T. ALMIRANTE BROWN</td>\n",
       "      <td>GRAN BS.AS.</td>\n",
       "      <td>Gba - Litoral - Buenos Aires</td>\n",
       "      <td>DI</td>\n",
       "      <td>Térmica</td>\n",
       "      <td>Motor Diesel</td>\n",
       "      <td>25.00</td>\n",
       "      <td>47:17.9</td>\n",
       "      <td>4</td>\n",
       "      <td>10</td>\n",
       "      <td>2015-10</td>\n",
       "    </tr>\n",
       "    <tr>\n",
       "      <th>1</th>\n",
       "      <td>3</td>\n",
       "      <td>01/10/2015 0:00</td>\n",
       "      <td>ACAJ</td>\n",
       "      <td>CAPEXSAG</td>\n",
       "      <td>C.T. AGUA DEL CAJON</td>\n",
       "      <td>COMAHUE</td>\n",
       "      <td>Comahue</td>\n",
       "      <td>TG</td>\n",
       "      <td>Térmica</td>\n",
       "      <td>Ciclos Combinados</td>\n",
       "      <td>184.40</td>\n",
       "      <td>47:17.9</td>\n",
       "      <td>4</td>\n",
       "      <td>10</td>\n",
       "      <td>2015-10</td>\n",
       "    </tr>\n",
       "    <tr>\n",
       "      <th>2</th>\n",
       "      <td>4</td>\n",
       "      <td>01/10/2015 0:00</td>\n",
       "      <td>ADTOHI</td>\n",
       "      <td>HIDIAMAG</td>\n",
       "      <td>H. DIAMANTE SA</td>\n",
       "      <td>CUYO</td>\n",
       "      <td>Cuyo</td>\n",
       "      <td>HI</td>\n",
       "      <td>Hidráulica</td>\n",
       "      <td>Hidráulica</td>\n",
       "      <td>150.00</td>\n",
       "      <td>47:17.9</td>\n",
       "      <td>4</td>\n",
       "      <td>10</td>\n",
       "      <td>2015-10</td>\n",
       "    </tr>\n",
       "    <tr>\n",
       "      <th>3</th>\n",
       "      <td>5</td>\n",
       "      <td>01/10/2015 0:00</td>\n",
       "      <td>AESP</td>\n",
       "      <td>CTAESPAG</td>\n",
       "      <td>C.T. AES PARANA</td>\n",
       "      <td>BUENOS AIRES</td>\n",
       "      <td>Gba - Litoral - Buenos Aires</td>\n",
       "      <td>TG</td>\n",
       "      <td>Térmica</td>\n",
       "      <td>Ciclos Combinados</td>\n",
       "      <td>525.96</td>\n",
       "      <td>47:17.9</td>\n",
       "      <td>4</td>\n",
       "      <td>10</td>\n",
       "      <td>2015-10</td>\n",
       "    </tr>\n",
       "    <tr>\n",
       "      <th>4</th>\n",
       "      <td>6</td>\n",
       "      <td>01/10/2015 0:00</td>\n",
       "      <td>AESP</td>\n",
       "      <td>CTAESPAG</td>\n",
       "      <td>C.T. AES PARANA</td>\n",
       "      <td>BUENOS AIRES</td>\n",
       "      <td>Gba - Litoral - Buenos Aires</td>\n",
       "      <td>TV</td>\n",
       "      <td>Térmica</td>\n",
       "      <td>Ciclos Combinados</td>\n",
       "      <td>319.30</td>\n",
       "      <td>47:17.9</td>\n",
       "      <td>4</td>\n",
       "      <td>10</td>\n",
       "      <td>2015-10</td>\n",
       "    </tr>\n",
       "  </tbody>\n",
       "</table>\n",
       "</div>"
      ],
      "text/plain": [
       "            id          periodo central    agente    agente_descripcion  \\\n",
       "Unnamed: 0                                                                \n",
       "0            2  01/10/2015 0:00    ABRO  CTBROWNG  C.T. ALMIRANTE BROWN   \n",
       "1            3  01/10/2015 0:00    ACAJ  CAPEXSAG   C.T. AGUA DEL CAJON   \n",
       "2            4  01/10/2015 0:00  ADTOHI  HIDIAMAG        H. DIAMANTE SA   \n",
       "3            5  01/10/2015 0:00    AESP  CTAESPAG       C.T. AES PARANA   \n",
       "4            6  01/10/2015 0:00    AESP  CTAESPAG       C.T. AES PARANA   \n",
       "\n",
       "                  region              categoria_region tipo_maquina  \\\n",
       "Unnamed: 0                                                            \n",
       "0            GRAN BS.AS.  Gba - Litoral - Buenos Aires           DI   \n",
       "1                COMAHUE                       Comahue           TG   \n",
       "2                   CUYO                          Cuyo           HI   \n",
       "3           BUENOS AIRES  Gba - Litoral - Buenos Aires           TG   \n",
       "4           BUENOS AIRES  Gba - Litoral - Buenos Aires           TV   \n",
       "\n",
       "           fuente_generacion         tecnologia  potencia_instalada_mw  \\\n",
       "Unnamed: 0                                                               \n",
       "0                    Térmica       Motor Diesel                  25.00   \n",
       "1                    Térmica  Ciclos Combinados                 184.40   \n",
       "2                 Hidráulica         Hidráulica                 150.00   \n",
       "3                    Térmica  Ciclos Combinados                 525.96   \n",
       "4                    Térmica  Ciclos Combinados                 319.30   \n",
       "\n",
       "           fecha_proceso  lote_id_log  mes indice_tiempo  \n",
       "Unnamed: 0                                                \n",
       "0                47:17.9            4   10       2015-10  \n",
       "1                47:17.9            4   10       2015-10  \n",
       "2                47:17.9            4   10       2015-10  \n",
       "3                47:17.9            4   10       2015-10  \n",
       "4                47:17.9            4   10       2015-10  "
      ]
     },
     "execution_count": 6,
     "metadata": {},
     "output_type": "execute_result"
    }
   ],
   "source": [
    "potencia_df.dtypes\n",
    "potencia_df.info(verbose=True)\n",
    "potencia_df.head(5)"
   ]
  },
  {
   "cell_type": "code",
   "execution_count": 7,
   "metadata": {},
   "outputs": [],
   "source": [
    "# potencia_df = potencia_df.drop(\"Unnamed: 0\", axis=1).head(5)"
   ]
  },
  {
   "cell_type": "code",
   "execution_count": 8,
   "metadata": {},
   "outputs": [],
   "source": [
    "potencia_df.index.name = \"indice\""
   ]
  },
  {
   "cell_type": "code",
   "execution_count": 9,
   "metadata": {},
   "outputs": [
    {
     "data": {
      "text/html": [
       "<div>\n",
       "<style scoped>\n",
       "    .dataframe tbody tr th:only-of-type {\n",
       "        vertical-align: middle;\n",
       "    }\n",
       "\n",
       "    .dataframe tbody tr th {\n",
       "        vertical-align: top;\n",
       "    }\n",
       "\n",
       "    .dataframe thead th {\n",
       "        text-align: right;\n",
       "    }\n",
       "</style>\n",
       "<table border=\"1\" class=\"dataframe\">\n",
       "  <thead>\n",
       "    <tr style=\"text-align: right;\">\n",
       "      <th></th>\n",
       "      <th>id</th>\n",
       "      <th>periodo</th>\n",
       "      <th>central</th>\n",
       "      <th>agente</th>\n",
       "      <th>agente_descripcion</th>\n",
       "      <th>region</th>\n",
       "      <th>categoria_region</th>\n",
       "      <th>tipo_maquina</th>\n",
       "      <th>fuente_generacion</th>\n",
       "      <th>tecnologia</th>\n",
       "      <th>potencia_instalada_mw</th>\n",
       "      <th>fecha_proceso</th>\n",
       "      <th>lote_id_log</th>\n",
       "      <th>mes</th>\n",
       "      <th>indice_tiempo</th>\n",
       "    </tr>\n",
       "    <tr>\n",
       "      <th>indice</th>\n",
       "      <th></th>\n",
       "      <th></th>\n",
       "      <th></th>\n",
       "      <th></th>\n",
       "      <th></th>\n",
       "      <th></th>\n",
       "      <th></th>\n",
       "      <th></th>\n",
       "      <th></th>\n",
       "      <th></th>\n",
       "      <th></th>\n",
       "      <th></th>\n",
       "      <th></th>\n",
       "      <th></th>\n",
       "      <th></th>\n",
       "    </tr>\n",
       "  </thead>\n",
       "  <tbody>\n",
       "    <tr>\n",
       "      <th>0</th>\n",
       "      <td>2</td>\n",
       "      <td>01/10/2015 0:00</td>\n",
       "      <td>ABRO</td>\n",
       "      <td>CTBROWNG</td>\n",
       "      <td>C.T. ALMIRANTE BROWN</td>\n",
       "      <td>GRAN BS.AS.</td>\n",
       "      <td>Gba - Litoral - Buenos Aires</td>\n",
       "      <td>DI</td>\n",
       "      <td>Térmica</td>\n",
       "      <td>Motor Diesel</td>\n",
       "      <td>25.00</td>\n",
       "      <td>47:17.9</td>\n",
       "      <td>4</td>\n",
       "      <td>10</td>\n",
       "      <td>2015-10</td>\n",
       "    </tr>\n",
       "    <tr>\n",
       "      <th>1</th>\n",
       "      <td>3</td>\n",
       "      <td>01/10/2015 0:00</td>\n",
       "      <td>ACAJ</td>\n",
       "      <td>CAPEXSAG</td>\n",
       "      <td>C.T. AGUA DEL CAJON</td>\n",
       "      <td>COMAHUE</td>\n",
       "      <td>Comahue</td>\n",
       "      <td>TG</td>\n",
       "      <td>Térmica</td>\n",
       "      <td>Ciclos Combinados</td>\n",
       "      <td>184.40</td>\n",
       "      <td>47:17.9</td>\n",
       "      <td>4</td>\n",
       "      <td>10</td>\n",
       "      <td>2015-10</td>\n",
       "    </tr>\n",
       "    <tr>\n",
       "      <th>2</th>\n",
       "      <td>4</td>\n",
       "      <td>01/10/2015 0:00</td>\n",
       "      <td>ADTOHI</td>\n",
       "      <td>HIDIAMAG</td>\n",
       "      <td>H. DIAMANTE SA</td>\n",
       "      <td>CUYO</td>\n",
       "      <td>Cuyo</td>\n",
       "      <td>HI</td>\n",
       "      <td>Hidráulica</td>\n",
       "      <td>Hidráulica</td>\n",
       "      <td>150.00</td>\n",
       "      <td>47:17.9</td>\n",
       "      <td>4</td>\n",
       "      <td>10</td>\n",
       "      <td>2015-10</td>\n",
       "    </tr>\n",
       "    <tr>\n",
       "      <th>3</th>\n",
       "      <td>5</td>\n",
       "      <td>01/10/2015 0:00</td>\n",
       "      <td>AESP</td>\n",
       "      <td>CTAESPAG</td>\n",
       "      <td>C.T. AES PARANA</td>\n",
       "      <td>BUENOS AIRES</td>\n",
       "      <td>Gba - Litoral - Buenos Aires</td>\n",
       "      <td>TG</td>\n",
       "      <td>Térmica</td>\n",
       "      <td>Ciclos Combinados</td>\n",
       "      <td>525.96</td>\n",
       "      <td>47:17.9</td>\n",
       "      <td>4</td>\n",
       "      <td>10</td>\n",
       "      <td>2015-10</td>\n",
       "    </tr>\n",
       "    <tr>\n",
       "      <th>4</th>\n",
       "      <td>6</td>\n",
       "      <td>01/10/2015 0:00</td>\n",
       "      <td>AESP</td>\n",
       "      <td>CTAESPAG</td>\n",
       "      <td>C.T. AES PARANA</td>\n",
       "      <td>BUENOS AIRES</td>\n",
       "      <td>Gba - Litoral - Buenos Aires</td>\n",
       "      <td>TV</td>\n",
       "      <td>Térmica</td>\n",
       "      <td>Ciclos Combinados</td>\n",
       "      <td>319.30</td>\n",
       "      <td>47:17.9</td>\n",
       "      <td>4</td>\n",
       "      <td>10</td>\n",
       "      <td>2015-10</td>\n",
       "    </tr>\n",
       "    <tr>\n",
       "      <th>...</th>\n",
       "      <td>...</td>\n",
       "      <td>...</td>\n",
       "      <td>...</td>\n",
       "      <td>...</td>\n",
       "      <td>...</td>\n",
       "      <td>...</td>\n",
       "      <td>...</td>\n",
       "      <td>...</td>\n",
       "      <td>...</td>\n",
       "      <td>...</td>\n",
       "      <td>...</td>\n",
       "      <td>...</td>\n",
       "      <td>...</td>\n",
       "      <td>...</td>\n",
       "      <td>...</td>\n",
       "    </tr>\n",
       "    <tr>\n",
       "      <th>15788</th>\n",
       "      <td>16810</td>\n",
       "      <td>01/02/2020 0:00</td>\n",
       "      <td>LOM2EO</td>\n",
       "      <td>PELOMA2G</td>\n",
       "      <td>P.EOLICO LOMA BLANCA 2</td>\n",
       "      <td>PATAGONICA</td>\n",
       "      <td>Patagonia</td>\n",
       "      <td>EO</td>\n",
       "      <td>Renovable</td>\n",
       "      <td>Eólica</td>\n",
       "      <td>51.20</td>\n",
       "      <td>06:12.2</td>\n",
       "      <td>67</td>\n",
       "      <td>2</td>\n",
       "      <td>2020-02</td>\n",
       "    </tr>\n",
       "    <tr>\n",
       "      <th>15789</th>\n",
       "      <td>16811</td>\n",
       "      <td>01/02/2020 0:00</td>\n",
       "      <td>ENE1EO</td>\n",
       "      <td>PEENER2G</td>\n",
       "      <td>P.EOLICO LA ENERGETICA Renov2</td>\n",
       "      <td>BUENOS AIRES</td>\n",
       "      <td>Gba - Litoral - Buenos Aires</td>\n",
       "      <td>EO</td>\n",
       "      <td>Renovable</td>\n",
       "      <td>Eólica</td>\n",
       "      <td>79.80</td>\n",
       "      <td>06:12.2</td>\n",
       "      <td>67</td>\n",
       "      <td>2</td>\n",
       "      <td>2020-02</td>\n",
       "    </tr>\n",
       "    <tr>\n",
       "      <th>15790</th>\n",
       "      <td>16812</td>\n",
       "      <td>01/02/2020 0:00</td>\n",
       "      <td>SANDFV</td>\n",
       "      <td>PFSOLAAG</td>\n",
       "      <td>PQUE FOTOV.SOLAR DE LOS ANDES</td>\n",
       "      <td>CUYO</td>\n",
       "      <td>Cuyo</td>\n",
       "      <td>FV</td>\n",
       "      <td>Renovable</td>\n",
       "      <td>Solar</td>\n",
       "      <td>5.00</td>\n",
       "      <td>06:12.2</td>\n",
       "      <td>67</td>\n",
       "      <td>2</td>\n",
       "      <td>2020-02</td>\n",
       "    </tr>\n",
       "    <tr>\n",
       "      <th>15791</th>\n",
       "      <td>16813</td>\n",
       "      <td>01/02/2020 0:00</td>\n",
       "      <td>OLIVEO</td>\n",
       "      <td>PEOLIVOG</td>\n",
       "      <td>P.EOLICO LOS OLIVOS MATER</td>\n",
       "      <td>CENTRO</td>\n",
       "      <td>Centro</td>\n",
       "      <td>EO</td>\n",
       "      <td>Renovable</td>\n",
       "      <td>Eólica</td>\n",
       "      <td>22.80</td>\n",
       "      <td>06:12.2</td>\n",
       "      <td>67</td>\n",
       "      <td>2</td>\n",
       "      <td>2020-02</td>\n",
       "    </tr>\n",
       "    <tr>\n",
       "      <th>15792</th>\n",
       "      <td>16814</td>\n",
       "      <td>01/02/2020 0:00</td>\n",
       "      <td>NEC1EO</td>\n",
       "      <td>PEVINECG</td>\n",
       "      <td>P.EOLICO VIENTOS DE NECOCHEA</td>\n",
       "      <td>BUENOS AIRES</td>\n",
       "      <td>Gba - Litoral - Buenos Aires</td>\n",
       "      <td>EO</td>\n",
       "      <td>Renovable</td>\n",
       "      <td>Eólica</td>\n",
       "      <td>37.95</td>\n",
       "      <td>06:12.2</td>\n",
       "      <td>67</td>\n",
       "      <td>2</td>\n",
       "      <td>2020-02</td>\n",
       "    </tr>\n",
       "  </tbody>\n",
       "</table>\n",
       "<p>15793 rows × 15 columns</p>\n",
       "</div>"
      ],
      "text/plain": [
       "           id          periodo central    agente  \\\n",
       "indice                                             \n",
       "0           2  01/10/2015 0:00    ABRO  CTBROWNG   \n",
       "1           3  01/10/2015 0:00    ACAJ  CAPEXSAG   \n",
       "2           4  01/10/2015 0:00  ADTOHI  HIDIAMAG   \n",
       "3           5  01/10/2015 0:00    AESP  CTAESPAG   \n",
       "4           6  01/10/2015 0:00    AESP  CTAESPAG   \n",
       "...       ...              ...     ...       ...   \n",
       "15788   16810  01/02/2020 0:00  LOM2EO  PELOMA2G   \n",
       "15789   16811  01/02/2020 0:00  ENE1EO  PEENER2G   \n",
       "15790   16812  01/02/2020 0:00  SANDFV  PFSOLAAG   \n",
       "15791   16813  01/02/2020 0:00  OLIVEO  PEOLIVOG   \n",
       "15792   16814  01/02/2020 0:00  NEC1EO  PEVINECG   \n",
       "\n",
       "                   agente_descripcion        region  \\\n",
       "indice                                                \n",
       "0                C.T. ALMIRANTE BROWN   GRAN BS.AS.   \n",
       "1                 C.T. AGUA DEL CAJON       COMAHUE   \n",
       "2                      H. DIAMANTE SA          CUYO   \n",
       "3                     C.T. AES PARANA  BUENOS AIRES   \n",
       "4                     C.T. AES PARANA  BUENOS AIRES   \n",
       "...                               ...           ...   \n",
       "15788          P.EOLICO LOMA BLANCA 2    PATAGONICA   \n",
       "15789   P.EOLICO LA ENERGETICA Renov2  BUENOS AIRES   \n",
       "15790   PQUE FOTOV.SOLAR DE LOS ANDES          CUYO   \n",
       "15791       P.EOLICO LOS OLIVOS MATER        CENTRO   \n",
       "15792    P.EOLICO VIENTOS DE NECOCHEA  BUENOS AIRES   \n",
       "\n",
       "                    categoria_region tipo_maquina fuente_generacion  \\\n",
       "indice                                                                \n",
       "0       Gba - Litoral - Buenos Aires           DI           Térmica   \n",
       "1                            Comahue           TG           Térmica   \n",
       "2                               Cuyo           HI        Hidráulica   \n",
       "3       Gba - Litoral - Buenos Aires           TG           Térmica   \n",
       "4       Gba - Litoral - Buenos Aires           TV           Térmica   \n",
       "...                              ...          ...               ...   \n",
       "15788                      Patagonia           EO         Renovable   \n",
       "15789   Gba - Litoral - Buenos Aires           EO         Renovable   \n",
       "15790                           Cuyo           FV         Renovable   \n",
       "15791                         Centro           EO         Renovable   \n",
       "15792   Gba - Litoral - Buenos Aires           EO         Renovable   \n",
       "\n",
       "               tecnologia  potencia_instalada_mw fecha_proceso  lote_id_log  \\\n",
       "indice                                                                        \n",
       "0            Motor Diesel                  25.00       47:17.9            4   \n",
       "1       Ciclos Combinados                 184.40       47:17.9            4   \n",
       "2              Hidráulica                 150.00       47:17.9            4   \n",
       "3       Ciclos Combinados                 525.96       47:17.9            4   \n",
       "4       Ciclos Combinados                 319.30       47:17.9            4   \n",
       "...                   ...                    ...           ...          ...   \n",
       "15788              Eólica                  51.20       06:12.2           67   \n",
       "15789              Eólica                  79.80       06:12.2           67   \n",
       "15790               Solar                   5.00       06:12.2           67   \n",
       "15791              Eólica                  22.80       06:12.2           67   \n",
       "15792              Eólica                  37.95       06:12.2           67   \n",
       "\n",
       "        mes indice_tiempo  \n",
       "indice                     \n",
       "0        10       2015-10  \n",
       "1        10       2015-10  \n",
       "2        10       2015-10  \n",
       "3        10       2015-10  \n",
       "4        10       2015-10  \n",
       "...     ...           ...  \n",
       "15788     2       2020-02  \n",
       "15789     2       2020-02  \n",
       "15790     2       2020-02  \n",
       "15791     2       2020-02  \n",
       "15792     2       2020-02  \n",
       "\n",
       "[15793 rows x 15 columns]"
      ]
     },
     "execution_count": 9,
     "metadata": {},
     "output_type": "execute_result"
    }
   ],
   "source": [
    "potencia_df"
   ]
  },
  {
   "cell_type": "code",
   "execution_count": 10,
   "metadata": {},
   "outputs": [],
   "source": [
    "columnas_deseadas = [\"periodo\", \"agente\", \"agente_descripcion\", \"fuente_generacion\", \"potencia_instalada_mw\"]"
   ]
  },
  {
   "cell_type": "code",
   "execution_count": 11,
   "metadata": {},
   "outputs": [],
   "source": [
    "df = potencia_df[columnas_deseadas]"
   ]
  },
  {
   "cell_type": "code",
   "execution_count": 12,
   "metadata": {},
   "outputs": [
    {
     "data": {
      "text/html": [
       "<div>\n",
       "<style scoped>\n",
       "    .dataframe tbody tr th:only-of-type {\n",
       "        vertical-align: middle;\n",
       "    }\n",
       "\n",
       "    .dataframe tbody tr th {\n",
       "        vertical-align: top;\n",
       "    }\n",
       "\n",
       "    .dataframe thead th {\n",
       "        text-align: right;\n",
       "    }\n",
       "</style>\n",
       "<table border=\"1\" class=\"dataframe\">\n",
       "  <thead>\n",
       "    <tr style=\"text-align: right;\">\n",
       "      <th></th>\n",
       "      <th>periodo</th>\n",
       "      <th>agente</th>\n",
       "      <th>agente_descripcion</th>\n",
       "      <th>fuente_generacion</th>\n",
       "      <th>potencia_instalada_mw</th>\n",
       "    </tr>\n",
       "    <tr>\n",
       "      <th>indice</th>\n",
       "      <th></th>\n",
       "      <th></th>\n",
       "      <th></th>\n",
       "      <th></th>\n",
       "      <th></th>\n",
       "    </tr>\n",
       "  </thead>\n",
       "  <tbody>\n",
       "    <tr>\n",
       "      <th>0</th>\n",
       "      <td>01/10/2015 0:00</td>\n",
       "      <td>CTBROWNG</td>\n",
       "      <td>C.T. ALMIRANTE BROWN</td>\n",
       "      <td>Térmica</td>\n",
       "      <td>25.00</td>\n",
       "    </tr>\n",
       "    <tr>\n",
       "      <th>1</th>\n",
       "      <td>01/10/2015 0:00</td>\n",
       "      <td>CAPEXSAG</td>\n",
       "      <td>C.T. AGUA DEL CAJON</td>\n",
       "      <td>Térmica</td>\n",
       "      <td>184.40</td>\n",
       "    </tr>\n",
       "    <tr>\n",
       "      <th>2</th>\n",
       "      <td>01/10/2015 0:00</td>\n",
       "      <td>HIDIAMAG</td>\n",
       "      <td>H. DIAMANTE SA</td>\n",
       "      <td>Hidráulica</td>\n",
       "      <td>150.00</td>\n",
       "    </tr>\n",
       "    <tr>\n",
       "      <th>3</th>\n",
       "      <td>01/10/2015 0:00</td>\n",
       "      <td>CTAESPAG</td>\n",
       "      <td>C.T. AES PARANA</td>\n",
       "      <td>Térmica</td>\n",
       "      <td>525.96</td>\n",
       "    </tr>\n",
       "    <tr>\n",
       "      <th>4</th>\n",
       "      <td>01/10/2015 0:00</td>\n",
       "      <td>CTAESPAG</td>\n",
       "      <td>C.T. AES PARANA</td>\n",
       "      <td>Térmica</td>\n",
       "      <td>319.30</td>\n",
       "    </tr>\n",
       "  </tbody>\n",
       "</table>\n",
       "</div>"
      ],
      "text/plain": [
       "                periodo    agente    agente_descripcion fuente_generacion  \\\n",
       "indice                                                                      \n",
       "0       01/10/2015 0:00  CTBROWNG  C.T. ALMIRANTE BROWN           Térmica   \n",
       "1       01/10/2015 0:00  CAPEXSAG   C.T. AGUA DEL CAJON           Térmica   \n",
       "2       01/10/2015 0:00  HIDIAMAG        H. DIAMANTE SA        Hidráulica   \n",
       "3       01/10/2015 0:00  CTAESPAG       C.T. AES PARANA           Térmica   \n",
       "4       01/10/2015 0:00  CTAESPAG       C.T. AES PARANA           Térmica   \n",
       "\n",
       "        potencia_instalada_mw  \n",
       "indice                         \n",
       "0                       25.00  \n",
       "1                      184.40  \n",
       "2                      150.00  \n",
       "3                      525.96  \n",
       "4                      319.30  "
      ]
     },
     "execution_count": 12,
     "metadata": {},
     "output_type": "execute_result"
    }
   ],
   "source": [
    "df.head()"
   ]
  },
  {
   "cell_type": "code",
   "execution_count": 13,
   "metadata": {},
   "outputs": [
    {
     "name": "stderr",
     "output_type": "stream",
     "text": [
      "/tmp/ipykernel_26009/3867108667.py:1: SettingWithCopyWarning: \n",
      "A value is trying to be set on a copy of a slice from a DataFrame.\n",
      "Try using .loc[row_indexer,col_indexer] = value instead\n",
      "\n",
      "See the caveats in the documentation: https://pandas.pydata.org/pandas-docs/stable/user_guide/indexing.html#returning-a-view-versus-a-copy\n",
      "  df.potencia_instalada_mw = round(df[\"potencia_instalada_mw\"])\n"
     ]
    }
   ],
   "source": [
    "df.potencia_instalada_mw = round(df[\"potencia_instalada_mw\"])"
   ]
  },
  {
   "cell_type": "code",
   "execution_count": 14,
   "metadata": {
    "collapsed": true
   },
   "outputs": [
    {
     "name": "stderr",
     "output_type": "stream",
     "text": [
      "/tmp/ipykernel_26009/3647397309.py:1: SettingWithCopyWarning: \n",
      "A value is trying to be set on a copy of a slice from a DataFrame.\n",
      "Try using .loc[row_indexer,col_indexer] = value instead\n",
      "\n",
      "See the caveats in the documentation: https://pandas.pydata.org/pandas-docs/stable/user_guide/indexing.html#returning-a-view-versus-a-copy\n",
      "  df.potencia_instalada_mw = df.potencia_instalada_mw.astype(int)\n"
     ]
    }
   ],
   "source": [
    "df.potencia_instalada_mw = df.potencia_instalada_mw.astype(int)"
   ]
  },
  {
   "cell_type": "code",
   "execution_count": 15,
   "metadata": {},
   "outputs": [
    {
     "data": {
      "text/plain": [
       "dtype('int64')"
      ]
     },
     "execution_count": 15,
     "metadata": {},
     "output_type": "execute_result"
    }
   ],
   "source": [
    "df.potencia_instalada_mw.dtype"
   ]
  },
  {
   "cell_type": "code",
   "execution_count": 16,
   "metadata": {},
   "outputs": [],
   "source": [
    "df.loc[:11496]\n",
    "df.iloc[:11497]\n",
    "df = df.head(11497)"
   ]
  },
  {
   "cell_type": "code",
   "execution_count": 17,
   "metadata": {},
   "outputs": [
    {
     "data": {
      "text/html": [
       "<div>\n",
       "<style scoped>\n",
       "    .dataframe tbody tr th:only-of-type {\n",
       "        vertical-align: middle;\n",
       "    }\n",
       "\n",
       "    .dataframe tbody tr th {\n",
       "        vertical-align: top;\n",
       "    }\n",
       "\n",
       "    .dataframe thead th {\n",
       "        text-align: right;\n",
       "    }\n",
       "</style>\n",
       "<table border=\"1\" class=\"dataframe\">\n",
       "  <thead>\n",
       "    <tr style=\"text-align: right;\">\n",
       "      <th></th>\n",
       "      <th>periodo</th>\n",
       "      <th>agente</th>\n",
       "      <th>agente_descripcion</th>\n",
       "      <th>fuente_generacion</th>\n",
       "      <th>potencia_instalada_mw</th>\n",
       "    </tr>\n",
       "    <tr>\n",
       "      <th>indice</th>\n",
       "      <th></th>\n",
       "      <th></th>\n",
       "      <th></th>\n",
       "      <th></th>\n",
       "      <th></th>\n",
       "    </tr>\n",
       "  </thead>\n",
       "  <tbody>\n",
       "    <tr>\n",
       "      <th>11492</th>\n",
       "      <td>01/04/2019 0:00</td>\n",
       "      <td>CTENSENG</td>\n",
       "      <td>BIOGAS RS CT ENSENADA SECCO</td>\n",
       "      <td>Renovable</td>\n",
       "      <td>5</td>\n",
       "    </tr>\n",
       "    <tr>\n",
       "      <th>11493</th>\n",
       "      <td>01/04/2019 0:00</td>\n",
       "      <td>CTAVELLG</td>\n",
       "      <td>BIOGAS CT AVELLANEDA SECCO</td>\n",
       "      <td>Renovable</td>\n",
       "      <td>6</td>\n",
       "    </tr>\n",
       "    <tr>\n",
       "      <th>11494</th>\n",
       "      <td>01/04/2019 0:00</td>\n",
       "      <td>PSTINO2G</td>\n",
       "      <td>PQUE SOLAR TINOGASTA II</td>\n",
       "      <td>Renovable</td>\n",
       "      <td>7</td>\n",
       "    </tr>\n",
       "    <tr>\n",
       "      <th>11495</th>\n",
       "      <td>01/04/2019 0:00</td>\n",
       "      <td>PEBICE2G</td>\n",
       "      <td>P.EOLICO BICENTENARIO 2</td>\n",
       "      <td>Renovable</td>\n",
       "      <td>25</td>\n",
       "    </tr>\n",
       "    <tr>\n",
       "      <th>11496</th>\n",
       "      <td>01/04/2019 0:00</td>\n",
       "      <td>PEBANDEG</td>\n",
       "      <td>P.EOLICO LA BANDERITA</td>\n",
       "      <td>Renovable</td>\n",
       "      <td>40</td>\n",
       "    </tr>\n",
       "  </tbody>\n",
       "</table>\n",
       "</div>"
      ],
      "text/plain": [
       "                periodo    agente           agente_descripcion  \\\n",
       "indice                                                           \n",
       "11492   01/04/2019 0:00  CTENSENG  BIOGAS RS CT ENSENADA SECCO   \n",
       "11493   01/04/2019 0:00  CTAVELLG   BIOGAS CT AVELLANEDA SECCO   \n",
       "11494   01/04/2019 0:00  PSTINO2G      PQUE SOLAR TINOGASTA II   \n",
       "11495   01/04/2019 0:00  PEBICE2G      P.EOLICO BICENTENARIO 2   \n",
       "11496   01/04/2019 0:00  PEBANDEG        P.EOLICO LA BANDERITA   \n",
       "\n",
       "       fuente_generacion  potencia_instalada_mw  \n",
       "indice                                           \n",
       "11492          Renovable                      5  \n",
       "11493          Renovable                      6  \n",
       "11494          Renovable                      7  \n",
       "11495          Renovable                     25  \n",
       "11496          Renovable                     40  "
      ]
     },
     "execution_count": 17,
     "metadata": {},
     "output_type": "execute_result"
    }
   ],
   "source": [
    "df.tail()"
   ]
  },
  {
   "cell_type": "markdown",
   "metadata": {},
   "source": [
    "___\n",
    "## (3) Pandas: temas nuevos"
   ]
  },
  {
   "cell_type": "markdown",
   "metadata": {},
   "source": [
    "### Operaciones a nivel de grupos"
   ]
  },
  {
   "cell_type": "markdown",
   "metadata": {},
   "source": [
    "Si queremos agrupar nuestras filas de acuerdo al valor de alguna columna, debemos usar el método `.groupby()`:"
   ]
  },
  {
   "cell_type": "code",
   "execution_count": null,
   "metadata": {},
   "outputs": [],
   "source": []
  },
  {
   "cell_type": "code",
   "execution_count": null,
   "metadata": {},
   "outputs": [],
   "source": []
  },
  {
   "cell_type": "code",
   "execution_count": null,
   "metadata": {},
   "outputs": [],
   "source": []
  },
  {
   "cell_type": "code",
   "execution_count": null,
   "metadata": {},
   "outputs": [],
   "source": []
  },
  {
   "cell_type": "code",
   "execution_count": null,
   "metadata": {},
   "outputs": [],
   "source": []
  },
  {
   "cell_type": "markdown",
   "metadata": {},
   "source": [
    "### Unir dataframes"
   ]
  },
  {
   "cell_type": "markdown",
   "metadata": {},
   "source": [
    "Para unir dataframes, utilizamos el método `.merge()`:"
   ]
  },
  {
   "cell_type": "code",
   "execution_count": null,
   "metadata": {},
   "outputs": [],
   "source": []
  },
  {
   "cell_type": "code",
   "execution_count": null,
   "metadata": {},
   "outputs": [],
   "source": []
  },
  {
   "cell_type": "code",
   "execution_count": null,
   "metadata": {},
   "outputs": [],
   "source": []
  },
  {
   "cell_type": "code",
   "execution_count": null,
   "metadata": {},
   "outputs": [],
   "source": []
  },
  {
   "cell_type": "markdown",
   "metadata": {
    "id": "59PJh-FGsP9g"
   },
   "source": [
    "___\n",
    "## (4) Matplotlib"
   ]
  },
  {
   "cell_type": "markdown",
   "metadata": {},
   "source": [
    "Para instalar `matplotlib` (no viene con Python por defecto), pueden usar `conda` o `pip`:\n",
    "\n",
    "     conda install matplotlib -c anaconda\n",
    "\n",
    "o\n",
    "    `pip install matplotlib`\n",
    "    "
   ]
  },
  {
   "cell_type": "code",
   "execution_count": null,
   "metadata": {
    "id": "WwqIpOC_sP9h"
   },
   "outputs": [],
   "source": [
    "import matplotlib.pyplot as plt"
   ]
  },
  {
   "cell_type": "code",
   "execution_count": null,
   "metadata": {
    "id": "lBYwp72NsP9v"
   },
   "outputs": [],
   "source": [
    "# la siguiente linea de código hace que los gráficos se muestren en el mismo notebook (y no en una ventana nueva)\n",
    "%matplotlib inline\n",
    "# es una configuración de jupyter notebook"
   ]
  },
  {
   "cell_type": "markdown",
   "metadata": {},
   "source": [
    "### Preparamos los datos"
   ]
  },
  {
   "cell_type": "code",
   "execution_count": null,
   "metadata": {},
   "outputs": [],
   "source": [
    "# esto retoma lo hecho en el primer ejemplo\n",
    "df.sample(3)"
   ]
  },
  {
   "cell_type": "code",
   "execution_count": null,
   "metadata": {
    "id": "BQPpEHl2sP-A",
    "outputId": "a9607410-79f8-4b6b-d01b-7278e03fd6e9"
   },
   "outputs": [],
   "source": [
    "# cómo agregamos a nivel de tipo de fuente?\n",
    "df_fuente = "
   ]
  },
  {
   "cell_type": "markdown",
   "metadata": {},
   "source": [
    "Veamos esta columna de tiempo"
   ]
  },
  {
   "cell_type": "code",
   "execution_count": null,
   "metadata": {},
   "outputs": [],
   "source": [
    "df_fuente['periodo']"
   ]
  },
  {
   "cell_type": "markdown",
   "metadata": {},
   "source": [
    "Para cambiar de `str` a `datetime` podemos usar `pd.to_datetime`\n",
    "Para especificar formato ver: https://docs.python.org/3/library/datetime.html#strftime-and-strptime-behavior"
   ]
  },
  {
   "cell_type": "code",
   "execution_count": null,
   "metadata": {},
   "outputs": [],
   "source": [
    "pd.to_datetime(df_fuente['periodo'],format=\"%d/%m/%Y %H:%M\")"
   ]
  },
  {
   "cell_type": "markdown",
   "metadata": {},
   "source": [
    "Para transformar y realizar operaciones sobre datos de tiempo podemos usar la librería datetime."
   ]
  },
  {
   "cell_type": "code",
   "execution_count": null,
   "metadata": {},
   "outputs": [],
   "source": [
    "import datetime"
   ]
  },
  {
   "cell_type": "code",
   "execution_count": null,
   "metadata": {},
   "outputs": [],
   "source": [
    "pd.to_datetime(df_fuente['periodo'],format=\"%d/%m/%Y %H:%M\").dt.strftime(\"%Y-%m\")"
   ]
  },
  {
   "cell_type": "code",
   "execution_count": null,
   "metadata": {},
   "outputs": [],
   "source": [
    "df_fuente['periodo'] = pd.to_datetime(\n",
    "    df_fuente['periodo'],format=\"%d/%m/%Y %H:%M\").dt.strftime(\"%Y-%m\")"
   ]
  },
  {
   "cell_type": "code",
   "execution_count": null,
   "metadata": {},
   "outputs": [],
   "source": [
    "df_fuente.sort_values(by='periodo', ascending=True, inplace=True)"
   ]
  },
  {
   "cell_type": "code",
   "execution_count": null,
   "metadata": {},
   "outputs": [],
   "source": [
    "df_fuente"
   ]
  },
  {
   "cell_type": "code",
   "execution_count": null,
   "metadata": {
    "id": "rD28nOKqsP-G"
   },
   "outputs": [],
   "source": [
    "# defino vectores de datos para serie 1\n",
    "y1 = df_fuente[df_fuente[\"fuente_generacion\"]==\"Renovable\"][\"potencia_instalada_mw\"]\n",
    "x1 = df_fuente[df_fuente[\"fuente_generacion\"]==\"Renovable\"][\"periodo\"]\n",
    "# defino vectores de datos para serie 2\n",
    "y2 = df_fuente[df_fuente[\"fuente_generacion\"]==\"Térmica\"][\"potencia_instalada_mw\"]\n",
    "x2 = df_fuente[df_fuente[\"fuente_generacion\"]==\"Térmica\"][\"periodo\"]"
   ]
  },
  {
   "cell_type": "markdown",
   "metadata": {
    "id": "zNxg0_4psP-R"
   },
   "source": [
    "### Matplotlib: ejercicio"
   ]
  },
  {
   "cell_type": "markdown",
   "metadata": {},
   "source": [
    "Practiquemos Matplotlib! Usando los vectores que acabamos de definir, construyamos un gráfico de linea con dos series: una graficando la evolución de producción energética de fuente renovable y otra de fuente térmica. El gráfico debe contener:\n",
    "- serie con datos de fuente renovable\n",
    "- serie con datos de fuente térmica\n",
    "- los ejes deben tener títulos\n",
    "- el gráfico debe tener título\n",
    "- rotar los ticks del eje x para que estén verticales\n",
    "- leyenda"
   ]
  },
  {
   "cell_type": "code",
   "execution_count": null,
   "metadata": {
    "id": "28firAFxsP-U",
    "outputId": "4a291a42-d5db-471c-ddc6-fc1b9dc0c3c4"
   },
   "outputs": [],
   "source": [
    "# plotear dos lineas, una para fuente Renovable y otro para Térmica\n",
    "plt.figure(figsize=(12 , 5))\n",
    "# serie 1\n",
    "\n",
    "# serie 2 sobre mismos ejes\n",
    "\n",
    "# Modifiquen nombres de ejes y título\n",
    "\n",
    "# agregamos leyenda\n",
    "plt.legend()\n",
    "\n",
    "#show"
   ]
  },
  {
   "cell_type": "markdown",
   "metadata": {},
   "source": [
    "### Ejemplo para ver en clase"
   ]
  },
  {
   "cell_type": "code",
   "execution_count": 19,
   "metadata": {},
   "outputs": [],
   "source": [
    "tick_list = [\n",
    "    '2015-12',\n",
    "    '2016-03','2016-06','2016-09','2016-12',\n",
    "    '2017-03','2017-06','2017-09','2017-12',\n",
    "    '2018-03','2018-06','2018-09','2018-12'\n",
    "]"
   ]
  },
  {
   "cell_type": "code",
   "execution_count": null,
   "metadata": {},
   "outputs": [],
   "source": [
    "# creo el grafico\n",
    "plt.plot(x1,y1, label='Renovable', linestyle='--', linewidth=3) # serie 1\n",
    "plt.plot(x2, y2, label='Térmica', linestyle='-.', linewidth=3) # serie 2 sobre mismos ejes\n",
    "\n",
    "# modifico labels\n",
    "plt.xlabel('Periodo',color='darkgrey')\n",
    "plt.ylabel('Potencia Instalada (MW)',color='darkgrey')\n",
    "plt.xticks(tick_list, rotation=45, horizontalalignment=\"right\")\n",
    "\n",
    "# agregamos linea horizontal con potencia termica promedio\n",
    "y2_promedio = y2.mean()\n",
    "plt.axhline(y2_promedio,\n",
    "    alpha=0.8, color='orange', \n",
    "    linestyle=':',linewidth=2)\n",
    "\n",
    "# escribo sobre el gráfico\n",
    "plt.annotate('Promedio', ('2018-06', y2_promedio-1400), color='orange')\n",
    "\n",
    "# apagamos los \"spines\"\n",
    "# plt.gca() trae las propiedades del current axes\n",
    "plt.gca().spines['top'].set_visible(False) \n",
    "plt.gca().spines['right'].set_visible(False)\n",
    "\n",
    "plt.title(\"Producción Energética Argentina\",\n",
    "          fontdict={\n",
    "              'size':16,\n",
    "              'color': 'darkred',\n",
    "              'weight': 'bold'\n",
    "          })\n",
    "# agrego leyenda\n",
    "plt.legend()\n",
    "plt.show() #esto es necesario para visualizar"
   ]
  },
  {
   "cell_type": "markdown",
   "metadata": {},
   "source": [
    "Acá link a un post donde explica comandos simples para mejorar los gráficos:  \n",
    "https://towardsdatascience.com/simple-ways-to-improve-your-matplotlib-b64eebccfd5"
   ]
  }
 ],
 "metadata": {
  "anaconda-cloud": {},
  "colab": {
   "name": "Clase 4 - asincronica.ipynb",
   "provenance": []
  },
  "kernelspec": {
   "display_name": "Python 3 (ipykernel)",
   "language": "python",
   "name": "python3"
  },
  "language_info": {
   "codemirror_mode": {
    "name": "ipython",
    "version": 3
   },
   "file_extension": ".py",
   "mimetype": "text/x-python",
   "name": "python",
   "nbconvert_exporter": "python",
   "pygments_lexer": "ipython3",
   "version": "3.9.12"
  }
 },
 "nbformat": 4,
 "nbformat_minor": 1
}
