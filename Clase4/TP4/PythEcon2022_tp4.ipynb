{
 "cells": [
  {
   "cell_type": "markdown",
   "id": "1b31968d",
   "metadata": {},
   "source": [
    "## Curso Python para Economistas\n",
    "### Trabajo Práctico Nº 4"
   ]
  },
  {
   "cell_type": "markdown",
   "id": "64080201",
   "metadata": {},
   "source": [
    "### Fecha de entrega:\n",
    "Viernes 21/10 a las 17:00 hs"
   ]
  },
  {
   "cell_type": "markdown",
   "id": "9ec43331",
   "metadata": {},
   "source": [
    "### Modalidad de entrega y trabajo\n",
    "- Este TP es **grupal**. _Al definir los integrantes del grupo, tengan en cuenta los días de gracia disponibles que tiene cada uno_.\n",
    "- Un miembro del grupo debe crear un repositorio **privado** en GitHub, y dar acceso a sus compañeros y a los 5 profesores.\n",
    "- **Todos los miembros del grupo deben haber hecho al menos un commit con contribuciones sustanciales**. Tengan esto en cuenta especialmente si, por ejemplo, van a estar trabajando en una misma computadora.\n",
    "- Corroborar que el nombre de usuario que tienen configurado para `git` es el mismo nombre de usuario de GitHub. Para hacer esto, se puede correr `git config --list` en `cmd` oterminal.\n",
    "- Cuando hayan hecho ese último commit, copien la URL para clonar su repositorio y péguenla en\n",
    "[este Google Sheet](https://docs.google.com/spreadsheets/d/1JmrvClRxxb3luzbDrzAMUC2cfQXyGIV0cev0JTi_Ff4/edit?usp=sharing), en la hoja del TP4. Agreguen los nombres de los integrantes del grupo. Al ser un repositorio privado, sólo los colaboradores habilitados podrán clonarlo.\n",
    "- Al finalizar el trabajo práctico deben hacer un último commit y push en su repositorio de GitHub con el mensaje `\"Entrega final del TP4\"`. Antes de la fecha y hora de entrega pueden hacer cuantos cambios quieran en el repositorio, pero luego de la hora de corte no deben hacer más cambios. Si un commit con el mensaje anterior se realiza luego de la hora de entrega, se supondrá que la entrega tardía fue intencional y se utilizarán los días de gracia. La última versión en el repositorio es la que será evaluada. Para esto es importante que no completen el Google Sheet hasta que no hayan finalizado el TP, como tampoco hacer pushes posteriores a la entrega."
   ]
  },
  {
   "cell_type": "markdown",
   "id": "7f27415f",
   "metadata": {},
   "source": [
    "### Ejercicios"
   ]
  },
  {
   "cell_type": "markdown",
   "id": "1f225d2a",
   "metadata": {},
   "source": [
    "En el siguiente trabajo vamos a trabajar con datos de domicilios (muy) malformados, que se encuentran en el archivo `Clase4/TP4/domicilios.csv` de este repositorio. \n"
   ]
  },
  {
   "cell_type": "markdown",
   "id": "5c0078e3",
   "metadata": {},
   "source": [
    "Primero, leamos el contenido del archivo:"
   ]
  },
  {
   "cell_type": "code",
   "execution_count": null,
   "id": "90ce461d",
   "metadata": {},
   "outputs": [],
   "source": [
    "# Para correr este código como está debemos ubicarnos en\n",
    "# el directorio Clase4/TP4 del repositorio, por ejemplo haciendo\n",
    "# import os\n",
    "# os.chdir(\"Clase4/TP4\")\n",
    "\n",
    "with open(\"domicilios.csv\", encoding=\"latin1\") as domicilios_f:\n",
    "    domicilios = domicilios_f.readlines()\n",
    "    header = domicilios.pop(0) # quitamos el encabezado (primera línea) del archivo"
   ]
  },
  {
   "cell_type": "code",
   "execution_count": null,
   "id": "907ceb8d",
   "metadata": {},
   "outputs": [],
   "source": [
    "# Examinemos el contenido\n",
    "domicilios"
   ]
  },
  {
   "cell_type": "markdown",
   "id": "f094fa81",
   "metadata": {},
   "source": [
    "La mayoría de las líneas contienen el ID del domicilio, el nombre de un barrio, el número de manzana y el número de casa. Vamos a enfocarnos sólo en las que tienen estos campos. \n",
    "\n",
    "Notar que los nombres de los barrios suelen estar precedidos por `B`, `Bº` o similar; los códigos de manzana (que pueden ser letras, números o combinaciones) por `M`, `MZ`, `MZA` o similar (seguido de espacios, `.`, `:`, etc.); y los números de casa por `C`, `CS`, `CSA`, `CASA` o similar; pero hay una gran variedad.\n",
    "\n",
    "\n",
    "Además, la manzana y la casa no aparecen siempre en ese orden."
   ]
  },
  {
   "cell_type": "markdown",
   "id": "062811c7",
   "metadata": {},
   "source": [
    "El objetivo de este trabajo es utilizar expresiones regulares para _parsear_ estos strings y darles un formato estructurado. _Notar que no vamos a intentar parsear todos los domicilios. Esta sería una tarea imposible, porque están realmente muy malformados._ La idea es utilizar lo que aprendimos para parsear un buen número de ellos, con la ayuda de widgets."
   ]
  },
  {
   "cell_type": "markdown",
   "id": "418560d5",
   "metadata": {},
   "source": [
    "### Consignas"
   ]
  },
  {
   "cell_type": "markdown",
   "id": "f1651efe",
   "metadata": {},
   "source": [
    "1. Utilizar el método [`strip`](https://docs.python.org/3/library/stdtypes.html#str.strip) de `string`'s para quitar el salto de línea final (`\"\\n\"`) de cada elemento de la lista."
   ]
  },
  {
   "cell_type": "code",
   "execution_count": null,
   "id": "5339593e",
   "metadata": {},
   "outputs": [],
   "source": []
  },
  {
   "cell_type": "markdown",
   "id": "e1959c8e",
   "metadata": {},
   "source": [
    "2. Separar el número que representa el ID del domicilio, del `string` que representa al domicilio en sí. El resultado debe ser una lista anidada, donde cada elemento de la lista maestra esté compuesto por estos dos componentes. Utilizar expresiones regulares y el método `group` para hacerlo."
   ]
  },
  {
   "cell_type": "code",
   "execution_count": null,
   "id": "16eb2891",
   "metadata": {},
   "outputs": [],
   "source": []
  },
  {
   "cell_type": "markdown",
   "id": "0b23e329",
   "metadata": {},
   "source": [
    "3. Crear un `DataFrame` de `pandas`, llamado `domicilios_df`, con las columnas `ID` y `string_crudo`. El contenido debe ser la lista anidada creada arriba."
   ]
  },
  {
   "cell_type": "code",
   "execution_count": null,
   "id": "486908f5",
   "metadata": {},
   "outputs": [],
   "source": []
  },
  {
   "cell_type": "markdown",
   "id": "6d743604",
   "metadata": {},
   "source": [
    "4. Agregar al `DataFrame` las columnas `barrio`, `manzana`, `casa`, `lote` (todas de tipo `string`), pero inicialmente vacías (es decir, con `None`). En los siguientes incisos vamos a poblar estos campos usando expresiones regulares para parsear la columna `string_crudo`."
   ]
  },
  {
   "cell_type": "code",
   "execution_count": null,
   "id": "6a46f9c2",
   "metadata": {},
   "outputs": [],
   "source": []
  },
  {
   "cell_type": "markdown",
   "id": "03734a81",
   "metadata": {},
   "source": [
    "5. Empecemos primero analizando un `string_crudo` particular: `\"B° SAN LUIS XV(15);C: 03;;M: G;\"`\n",
    "\n",
    "Escribir una expresión regular que contenga grupos (sub-expresiones regulares escritas entre paréntesis) y permita extraer los campos `barrio`, `manzana`, `casa` y `lote` del `string_crudo` anterior. Usarla para extraer estos campos en un diccionario. El resultado debería ser `{\"barrio\": \"SAN LUIS XV(15)\", \"manzana\": \"G\", \"casa\": \"03\"}`."
   ]
  },
  {
   "cell_type": "code",
   "execution_count": null,
   "id": "f08c023b",
   "metadata": {},
   "outputs": [],
   "source": []
  },
  {
   "cell_type": "markdown",
   "id": "98335002",
   "metadata": {},
   "source": [
    "6. Dependiendo de cómo hayan escrito la expresión regular anterior, puede ser más o menos general. Vamos a determinar cuántos domicilios satisfacen la expresión regular que escribieron en 5).\n",
    "Para eso, crear un widget tipo `Textarea` donde puedan escribir una expresión regular, y una función reactiva a este widget (usando `ipywidgets.interact`) en que determine cuántos domicilios satisfacen la expresión regular e imprima este número. Realicen pequeños cambios a la expresión regular de manera que capture más casos."
   ]
  },
  {
   "cell_type": "code",
   "execution_count": null,
   "id": "9e2f885b",
   "metadata": {},
   "outputs": [],
   "source": []
  },
  {
   "cell_type": "markdown",
   "id": "73c7bf27",
   "metadata": {},
   "source": [
    "7. Crear una nueva función para `interact`, basada en la función del punto 6), pero que reciba un segundo argumento, dado por un segundo widget que tome un valor booleano. Dependiendo de este valor, la función decidirá mostrar las filas de `domicilios_df` para las cuales la columna `string_crudo` satisface a la expresión regular del primer widget, o las que no la cumplen. Deben mirar la documentación de widgets para determinar qué tipo de widget usar en este caso: https://ipywidgets.readthedocs.io/en/latest/examples/Widget%20List.html. Usar para los widgets una descripción adecuada."
   ]
  },
  {
   "cell_type": "code",
   "execution_count": null,
   "id": "40e6d9d2",
   "metadata": {},
   "outputs": [],
   "source": []
  },
  {
   "cell_type": "markdown",
   "id": "136da988",
   "metadata": {},
   "source": [
    "8. En este ejercicio van a crear nuevas expresiones regulares para capturar tantos casos de domicilios como puedan, y lo van a hacer con la ayuda de los widgets que crearon anteriormente, de la siguiente manera. Primero, deben crear una copia de `domicilios_df` (obviamente, con algún otro nombre), una lista (inicialmente vacía) que se puede llamar `lista_regex`, y un widget tipo `Button` (ver [aquí](https://ipywidgets.readthedocs.io/en/latest/examples/Widget%20List.html#Button)). Luego, van a realizar el siguiente procedimiento de manera iterativa.\n",
    "\n",
    "- Usar el widget de `Textarea` para escribir una candidata a expresión regular.\n",
    "- Chequear que la expresión regular permite extraer los campos correctamente para los casos en los que matchea. Si están satisfechos con esta expresión regular, presionar el widget `Button`, cuyo efecto será: 1) agregar la expresión regular a la lista `lista_regex` y 2) filtrar la copia del `domicilios_df` de manera de conservar sólo aquellas filas que no cumplen ninguna de las expresiones regulares que contiene `lista_regex`, incluida la agregada en el punto 1).\n",
    "- Iterar en este procedimiento hasta tener una lista de unas ~10 expresiones regulares con bastante variedad.\n",
    "\n",
    "_Deben dejar la lista de expresiones regulares que les quedó al final como comentario en el notebook, para que podamos probarlas al corregir._"
   ]
  },
  {
   "cell_type": "code",
   "execution_count": null,
   "id": "44590a94",
   "metadata": {},
   "outputs": [],
   "source": []
  },
  {
   "cell_type": "code",
   "execution_count": null,
   "id": "be64965d",
   "metadata": {},
   "outputs": [],
   "source": []
  },
  {
   "cell_type": "code",
   "execution_count": null,
   "id": "17239aa7",
   "metadata": {},
   "outputs": [],
   "source": []
  },
  {
   "cell_type": "code",
   "execution_count": null,
   "id": "70335454",
   "metadata": {},
   "outputs": [],
   "source": [
    "# regex_list = [regex1, regex2, ...]"
   ]
  },
  {
   "cell_type": "markdown",
   "id": "c19f5266",
   "metadata": {},
   "source": [
    "9. Ahora poblemos los campos faltantes del DataFrame `domicilios_df`. Para eso, vamos a crear una función para ser pasada al método `apply` de DataFrame's. Esta función debe ser tal que reciba una lista de expresiones regulares (como la `lista_regex` de arriba), pruebe las mismas una a una, y si alguna matchea con `string_crudo`, pueble los campos restantes del `domicilios_df` con la información extraída."
   ]
  },
  {
   "cell_type": "code",
   "execution_count": null,
   "id": "81bc5d4f",
   "metadata": {},
   "outputs": [],
   "source": []
  }
 ],
 "metadata": {
  "kernelspec": {
   "display_name": "Python 3 (ipykernel)",
   "language": "python",
   "name": "python3"
  },
  "language_info": {
   "codemirror_mode": {
    "name": "ipython",
    "version": 3
   },
   "file_extension": ".py",
   "mimetype": "text/x-python",
   "name": "python",
   "nbconvert_exporter": "python",
   "pygments_lexer": "ipython3",
   "version": "3.9.12"
  }
 },
 "nbformat": 4,
 "nbformat_minor": 5
}
