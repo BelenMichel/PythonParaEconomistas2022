{
 "cells": [
  {
   "cell_type": "markdown",
   "id": "e0cba9f8",
   "metadata": {},
   "source": [
    "# Clase Nº 4"
   ]
  },
  {
   "cell_type": "markdown",
   "id": "ca6dacef",
   "metadata": {},
   "source": [
    "**Plan de la clase:**  \n",
    "**(1)** Preguntas sobre la clase asincrónica - Revisar el cuestionario. <br>\n",
    "**(2)** Comentarios sobre la modalidad de entrega del TP4. <br>\n",
    "**(3)** Repasar `pandas` y `seaborn` (y widgets) <br>\n",
    "**(4)** Repasar expresiones regulares (y widgets) <br>\n",
    "~~**(5)** _Fuzzy matching_~~ (lo dejamos para la siguiente clase)"
   ]
  },
  {
   "cell_type": "markdown",
   "id": "f2e6c347",
   "metadata": {},
   "source": [
    "### Preguntas sobre la clase asincrónica / cuestionario"
   ]
  },
  {
   "cell_type": "markdown",
   "id": "6f0be954",
   "metadata": {},
   "source": [
    "**Ayudamemoria**: <br>\n",
    "`\\d`: match cuando el string contiene digitos (equivalente a [0-9]) <br>\n",
    "`\\D`: match cuando el string NO contiene digitos <br>\n",
    "`\\s`: match cuando el string contiene un espacio en blanco <br>\n",
    "`\\S`: match cuando el string NO contiene un espacio en blanco <br>\n",
    "`\\w`: match cuando el string contiene caracteres de alfanuméricos o \"\\_\" <br>\n",
    "`\\W`: match cuando el string NO contiene caracteres de alfanuméricos o \"\\_\" <br>"
   ]
  },
  {
   "cell_type": "markdown",
   "id": "6ab0919f",
   "metadata": {},
   "source": [
    "Revisemos la pregunta 3 del cuestionario:"
   ]
  },
  {
   "cell_type": "markdown",
   "id": "d18e4225",
   "metadata": {},
   "source": [
    "3) Escribir una expresión regular que matchee con:"
   ]
  },
  {
   "cell_type": "markdown",
   "id": "e5023aee",
   "metadata": {},
   "source": [
    "a.  un string que _contiene_ una letra `a` seguida de cualesquiera  caracteres, y termina en una letra `b`."
   ]
  },
  {
   "cell_type": "code",
   "execution_count": null,
   "id": "9d2bc73b",
   "metadata": {},
   "outputs": [],
   "source": [
    "import re"
   ]
  },
  {
   "cell_type": "code",
   "execution_count": null,
   "id": "1f7fbd4a",
   "metadata": {},
   "outputs": [],
   "source": [
    "string = \"12ab091a00abaaba---b\""
   ]
  },
  {
   "cell_type": "code",
   "execution_count": null,
   "id": "4db7c1d1",
   "metadata": {},
   "outputs": [],
   "source": [
    "varias_regex = [\n",
    "  \"a.*b\", # correcto\n",
    "  \"a.+b\", # correcto, si interpretan que debe haber 1 o más \"cualesquiera caracteres\", esta sería la expresión regular correcta.\n",
    "  \"a.*?b\", # el ? permite que re.findall encuentre submatches dentro de un match grande (por defecto devuelve el grande)\n",
    "  \"a.+?b\", # ídem arriba, pero no encuentre el primer match, \"ab\", porque no hay caracteres entre la \"a\" y la \"b\n",
    "  \"a\\w*b\", # \\w sólo tiene en cuenta caracteres alfanuméricos\n",
    "  \"a\\w+b\", # ídem arriba\n",
    "  \"[a].*[b]\", # los corchetes alrededor de un solo caracter no son necesarios  \n",
    "]\n",
    "\n",
    "for regex in varias_regex:\n",
    "    print(f\"{regex}: {re.findall(regex, string)}\")"
   ]
  },
  {
   "cell_type": "markdown",
   "id": "4e5c162b",
   "metadata": {},
   "source": [
    "b. un string que _contiene_ una o más letras `a` seguidas inmediatamente de cero o más dı́gitos."
   ]
  },
  {
   "cell_type": "code",
   "execution_count": null,
   "id": "48575970",
   "metadata": {},
   "outputs": [],
   "source": [
    "regex = \"a+\\d*\"\n",
    "# regex1 = \"a+[0-9]*\" # equivalente\n",
    "# regex2 = \"a+[0123456789]*\" # otra regex equivalente"
   ]
  },
  {
   "cell_type": "code",
   "execution_count": null,
   "id": "4cbf0144",
   "metadata": {},
   "outputs": [],
   "source": [
    "algunos_strings = [\"asaas0000\", \"a0000\", \"aba0000\"]\n",
    "\n",
    "for string in algunos_strings:\n",
    "    print(re.findall(regex, string))"
   ]
  },
  {
   "cell_type": "markdown",
   "id": "be624cfa",
   "metadata": {},
   "source": [
    "___"
   ]
  },
  {
   "cell_type": "markdown",
   "id": "73e3e7ef",
   "metadata": {},
   "source": [
    "## Modalidad de entrega del TP Nº4"
   ]
  },
  {
   "cell_type": "markdown",
   "id": "8d2d12f4",
   "metadata": {},
   "source": [
    "El próximo TP va a ser entregado nuevamente a través de GitHub, pero en este caso va ser **grupal**."
   ]
  },
  {
   "cell_type": "markdown",
   "id": "509e3c4a",
   "metadata": {},
   "source": [
    "Un miembro del grupo debe crear un repositorio en GitHub como se hizo en el TP3, y agregar como colaboradores a sus dos compañeros y a los docentes."
   ]
  },
  {
   "cell_type": "markdown",
   "id": "aa9cd35c",
   "metadata": {},
   "source": [
    "Un requisito va ser que cada miembro del grupo haga al menos un commit, con contribuciones sustanciales.\n",
    "Para esto es importante que tengan configurado su nombre de usuario de `git` con el mismo nombre que el de GitHub, así los podemos identificar fácilmente."
   ]
  },
  {
   "cell_type": "markdown",
   "id": "071f666a",
   "metadata": {},
   "source": [
    "___"
   ]
  },
  {
   "cell_type": "markdown",
   "id": "35a00fb2",
   "metadata": {},
   "source": [
    "## Pandas y Seaborn"
   ]
  },
  {
   "cell_type": "markdown",
   "id": "2b06c68c",
   "metadata": {},
   "source": [
    "### Reformateo de `DataFrame`'s"
   ]
  },
  {
   "cell_type": "markdown",
   "id": "145b133b",
   "metadata": {},
   "source": [
    "Sigamos trabajando con el DataFrame de centrales eléctricas."
   ]
  },
  {
   "cell_type": "code",
   "execution_count": null,
   "id": "1b478824",
   "metadata": {},
   "outputs": [],
   "source": [
    "import pandas as pd"
   ]
  },
  {
   "cell_type": "code",
   "execution_count": null,
   "id": "2760fe82",
   "metadata": {},
   "outputs": [],
   "source": [
    "df = pd.read_csv(\"potencia_instalada_mod.csv\", sep=\"|\", encoding=\"latin1\")"
   ]
  },
  {
   "cell_type": "code",
   "execution_count": null,
   "id": "3ec31a9d",
   "metadata": {},
   "outputs": [],
   "source": [
    "df.region.value_counts()"
   ]
  },
  {
   "cell_type": "code",
   "execution_count": null,
   "id": "177d0f8b",
   "metadata": {},
   "outputs": [],
   "source": [
    "df.fuente_generacion.value_counts()"
   ]
  },
  {
   "cell_type": "code",
   "execution_count": null,
   "id": "f87e2a02",
   "metadata": {},
   "outputs": [],
   "source": [
    "df.head(2)"
   ]
  },
  {
   "cell_type": "markdown",
   "id": "4129d9c0",
   "metadata": {},
   "source": [
    "1. Primero, calculemos la potencia total instalada en cada región en un período dado, haciendo un `groupby` y usando la función de agregación adecuada."
   ]
  },
  {
   "cell_type": "code",
   "execution_count": null,
   "id": "49ff91c1",
   "metadata": {},
   "outputs": [],
   "source": [
    "df_region = df.groupby([\"region\", \"periodo\"]).agg({\"potencia_instalada_mw\": \"sum\"}).reset_index()\n",
    "\n",
    "# Pregunta de Franco: \n",
    "# para generarnos un DataFrame de una sola columna (en lugar de una Series),\n",
    "# pasamos una lista con una sola columna:\n",
    "df_region[\"potencia_instalada_mw\"] # esto devuelve una Series\n",
    "df_region[[\"potencia_instalada_mw\"]] # esto devuelve un DataFrame"
   ]
  },
  {
   "cell_type": "markdown",
   "id": "3122611e",
   "metadata": {},
   "source": [
    "2. Luego, formateemos el `DataFrame` de manera que los nombres de las regiones sean ahora los nombres de nuevas columnas, y el contenido de la celda sea la potencia instalada en esa región en el período correspondiente (dado en filas). <br>\n",
    "Hay que ir de un formato \"largo\" a uno \"ancho\".\n",
    "Pueden consultar la documentación acerca de reformateo de dataframes aquí: https://pandas.pydata.org/pandas-docs/stable/user_guide/reshaping.html, para ver qué método necesitarían usar."
   ]
  },
  {
   "cell_type": "code",
   "execution_count": null,
   "id": "d0b067b1",
   "metadata": {},
   "outputs": [],
   "source": [
    "df_region_pivot = df_region.pivot(index=\"periodo\", columns=\"region\", values=\"potencia_instalada_mw\")\n",
    "df_region_pivot.drop(\"(en blanco)\", axis=1, inplace=True) # eliminamos una columna indeseada\n",
    "\n",
    "# Durante la clase me olvidé de agregar el string de formateo!\n",
    "# Eso hizo que las fechas no se parseen correctamente\n",
    "df_region_pivot.index = pd.to_datetime(df_region_pivot.index, format=\"%d/%m/%Y %H:%M\")\n",
    "df_region_pivot.sort_index()"
   ]
  },
  {
   "cell_type": "markdown",
   "id": "a732a4d3",
   "metadata": {},
   "source": [
    "3. Escribamos una función que reciba como argumento el `DataFrame` formateado como en el punto anterior y un string que represente una región, y utilicemos `seaborn` para hacer un gráfico de la potencia instalada para esa región. Pueden usar, por ejemplo, el tipo de plot `lineplot` (el argumento `data` de la función debe ser el `DataFrame` formateado). Pueden usar los comandos vistos en matplotlib para formatear un plot de Seaborn."
   ]
  },
  {
   "cell_type": "code",
   "execution_count": null,
   "id": "d9cda2d6",
   "metadata": {},
   "outputs": [],
   "source": [
    "import seaborn as sns"
   ]
  },
  {
   "cell_type": "code",
   "execution_count": null,
   "id": "8cea03a0",
   "metadata": {},
   "outputs": [],
   "source": [
    "def plot(df, region):\n",
    "    sns.lineplot(data=df, x=\"periodo\", y=region)"
   ]
  },
  {
   "cell_type": "code",
   "execution_count": null,
   "id": "0ec92299",
   "metadata": {},
   "outputs": [],
   "source": [
    "# Examinemos los valores para una región\n",
    "df_region_pivot[[\"BUENOS AIRES\"]].sort_index().head()"
   ]
  },
  {
   "cell_type": "markdown",
   "id": "fdfed82a",
   "metadata": {},
   "source": [
    "Podemos obtener una lista de las regiones, simplemente obteniendo las columnas del dataframe pivoteado"
   ]
  },
  {
   "cell_type": "code",
   "execution_count": null,
   "id": "98cd720e",
   "metadata": {},
   "outputs": [],
   "source": [
    "regiones = df_region_pivot.columns.to_list()\n",
    "regiones"
   ]
  },
  {
   "cell_type": "code",
   "execution_count": null,
   "id": "d921b0ca",
   "metadata": {},
   "outputs": [],
   "source": [
    "plot(df_region_pivot, \"CENTRO\")"
   ]
  },
  {
   "cell_type": "markdown",
   "id": "a12816d7",
   "metadata": {},
   "source": [
    "4. Finalmente, usemos un widget reactivo para elegir qué región graficar. Pueden consultar la documentación de widget acá: https://ipywidgets.readthedocs.io/en/latest/examples/Widget%20List.html."
   ]
  },
  {
   "cell_type": "code",
   "execution_count": null,
   "id": "d3e44c72",
   "metadata": {},
   "outputs": [],
   "source": [
    "import ipywidgets as widgets\n",
    "from ipywidgets import interact\n",
    "\n",
    "region_w = widgets.Select(options=df_region_pivot.columns)"
   ]
  },
  {
   "cell_type": "markdown",
   "id": "f3f04647",
   "metadata": {},
   "source": [
    "Escribimos una función `f` que es una aplicación parcial de la función de arriba, en la cual fijamos uno de los argumentos (el dataframe), de manera que el argumento sea sólo la región. \n",
    "\n",
    "Lo pueden pensar similar a lo que ocurre cuando tienen una función de dos variables $f(x,y)$, y definen una nueva al fijar uno de sus argumentos, por ejemplo $g(y)=f(2,y)$ ó $h(x)=f(x,0)$."
   ]
  },
  {
   "cell_type": "code",
   "execution_count": null,
   "id": "adcedfc8",
   "metadata": {},
   "outputs": [],
   "source": [
    "# Pueden usar\n",
    "sns.set(rc={'figure.figsize':(10, 4)})\n",
    "# para cambiar el tamaño de la figura\n",
    "\n",
    "def f(region):\n",
    "    plot(df_region_pivot, region)\n",
    "    \n",
    "interact(f, region=region_w);"
   ]
  },
  {
   "cell_type": "markdown",
   "id": "a65bd23a",
   "metadata": {},
   "source": [
    "La siguiente es otra forma de hacerlo, que usa \"decoradores\" (esto no lo vimos en clase, pero ahorra un poco de código):"
   ]
  },
  {
   "cell_type": "code",
   "execution_count": null,
   "id": "889a68c6",
   "metadata": {},
   "outputs": [],
   "source": [
    "@interact\n",
    "def f(region=region_w):\n",
    "    plot(df_region_pivot, region)"
   ]
  },
  {
   "cell_type": "markdown",
   "id": "ab473e84",
   "metadata": {},
   "source": [
    "___________________________________________________"
   ]
  },
  {
   "cell_type": "markdown",
   "id": "8965adc4",
   "metadata": {},
   "source": [
    "## Expresiones regulares"
   ]
  },
  {
   "cell_type": "code",
   "execution_count": null,
   "id": "3d79a419",
   "metadata": {},
   "outputs": [],
   "source": [
    "import re"
   ]
  },
  {
   "cell_type": "markdown",
   "id": "a7693ab7",
   "metadata": {},
   "source": [
    "#### Ejercicio:\n",
    "Vamos a seguir trabajando con el Martín Fierro. <br>\n",
    "Primero repitamos el proceso de _parseo_ realizado durante la clase asincrónica"
   ]
  },
  {
   "cell_type": "code",
   "execution_count": null,
   "id": "90c42fbe",
   "metadata": {},
   "outputs": [],
   "source": [
    "with open(\"martin_fierro.txt\") as archivo:\n",
    "    martin_fierro = archivo.read()"
   ]
  },
  {
   "cell_type": "code",
   "execution_count": null,
   "id": "50759fb2",
   "metadata": {},
   "outputs": [],
   "source": [
    "def parsear_martin_fierro(martin_fierro):\n",
    "    partes = re.split(\"[IVX]+ - .*\\n\", martin_fierro)\n",
    "    partes.pop(0)\n",
    "    \n",
    "    estrofas = partes.copy()\n",
    "    for i in range(len(estrofas)):\n",
    "        estrofas[i] = re.split(\"\\n\\d+\\n\", estrofas[i])\n",
    "        estrofas[i].pop(0)\n",
    "    \n",
    "    versos = estrofas.copy()\n",
    "    for i in range(len(versos)):\n",
    "        for j in range(len(versos[i])):\n",
    "            versos[i][j] = versos[i][j].split(\"\\n\")\n",
    "            del versos[i][j][-1] # Agregué esto para eliminar el string vacío al final de cada estrofa\n",
    "    \n",
    "    # Quitamos\n",
    "    versos[-1][-1] = versos[-1][-1][0:6]\n",
    "    \n",
    "    return versos"
   ]
  },
  {
   "cell_type": "code",
   "execution_count": null,
   "id": "00a00ec1",
   "metadata": {},
   "outputs": [],
   "source": [
    "todos_los_versos = parsear_martin_fierro(martin_fierro)\n",
    "todos_los_versos"
   ]
  },
  {
   "cell_type": "markdown",
   "id": "deadb2d6",
   "metadata": {},
   "source": [
    "**Consigna**\n",
    "\n",
    "Construir un _widget_ reactivo tal que uno pueda escribir una expresión regular y, si tal expresión regular matchea con alguna parte del libro, muestre todos los números de parte, estrofa y verso en los que aparece. Si no aparecen en ningún lado, debe imprimir un mensaje diciendo `\"La expresión regular <EXPRESIÓN REGULAR> no matchea con ningún verso del Martín Fierro.`\n",
    "\n",
    "_Ayudas_: \n",
    "- El widget que deberían usar es de tipo `TextArea`. \n",
    "- Dentro de la función que se le pasa a `interact` debería haber loops `for` anidados (como se hizo en la clase asincrónica), para iterar sobre las estructuras jerárquicas que componen el libro.\n",
    "- Recordar, por ejemplo, el método `enumerate` que devuelve tanto los índices como los elementos sobre los cuales se itera (no es estrictamente necesario usarlo, pero puede ser útil).\n"
   ]
  },
  {
   "cell_type": "code",
   "execution_count": null,
   "id": "cbee18ef",
   "metadata": {},
   "outputs": [],
   "source": [
    "regex_w = widgets.Textarea()"
   ]
  },
  {
   "cell_type": "code",
   "execution_count": null,
   "id": "fca33597",
   "metadata": {},
   "outputs": [],
   "source": [
    "def encontrar_ocurrencia(patron):\n",
    "    \n",
    "    regex = re.compile(patron)\n",
    "    \n",
    "    no_match = True\n",
    "    \n",
    "    for i, parte in enumerate(todos_los_versos):    \n",
    "        for j, estrofa in enumerate(parte):\n",
    "            for k, verso in enumerate(estrofa):\n",
    "                if regex.match(verso):\n",
    "                    no_match = False\n",
    "                    print(f\"parte {i}, estrofa {j}, verso {k}: {verso}\")\n",
    "                    \n",
    "    if no_match:\n",
    "        print(f\"La expresión regular {patron} no matchea con ningún verso del Martín Fierro.\")"
   ]
  },
  {
   "cell_type": "code",
   "execution_count": null,
   "id": "16503f7a",
   "metadata": {},
   "outputs": [],
   "source": [
    "interact(encontrar_ocurrencia, patron=regex_w);"
   ]
  },
  {
   "cell_type": "markdown",
   "id": "11cd86f1",
   "metadata": {},
   "source": [
    "_______________________________________________________________"
   ]
  },
  {
   "cell_type": "markdown",
   "id": "a3e0e861",
   "metadata": {},
   "source": [
    "## _Fuzzy matching_ (esto lo veremos la próxima clase)"
   ]
  },
  {
   "cell_type": "markdown",
   "id": "6bdadade",
   "metadata": {},
   "source": [
    "_Fuzzy matching_ refiere al concepto de encontrar correspondencias entre strings que no son exactamente iguales."
   ]
  },
  {
   "cell_type": "markdown",
   "id": "b7db62c4",
   "metadata": {},
   "source": [
    "Instalemos el módulo `fuzzywuzzy` con `pip install fuzzywuzzy`."
   ]
  },
  {
   "cell_type": "code",
   "execution_count": null,
   "id": "b379e3d7",
   "metadata": {},
   "outputs": [],
   "source": [
    "from fuzzywuzzy import fuzz, process"
   ]
  },
  {
   "cell_type": "markdown",
   "id": "d9e8a778",
   "metadata": {},
   "source": [
    "### Distancia de Levenshtein"
   ]
  },
  {
   "cell_type": "markdown",
   "id": "d782969a",
   "metadata": {},
   "source": [
    "Es la cantidad mínima de caracteres que deben editarse en un string para equipararlo a otro. Una edición puede ser una inserción, una eliminación o una substitución."
   ]
  },
  {
   "cell_type": "markdown",
   "id": "9266a732",
   "metadata": {},
   "source": [
    "`fuzzywuzzy` es una librería de Python que tiene funciones para medir distancias entre `string`'s. Estima la distancia y devuelve un indicador de similitud entre 0 (menor similitud) y 100 (máxima similitud)."
   ]
  },
  {
   "cell_type": "markdown",
   "id": "f2d5bffc",
   "metadata": {},
   "source": [
    "Documentación (es algo básica): https://github.com/seatgeek/fuzzywuzzy"
   ]
  },
  {
   "cell_type": "code",
   "execution_count": null,
   "id": "dde6f741",
   "metadata": {},
   "outputs": [],
   "source": [
    "# Simple Ratio\n",
    "fuzz.ratio(\"Energía Termica\", \"Energía Térmica\")"
   ]
  },
  {
   "cell_type": "code",
   "execution_count": null,
   "id": "45cb4e9c",
   "metadata": {},
   "outputs": [],
   "source": [
    "# Partial Ratio\n",
    "fuzz.partial_ratio(\"Energía Termica\", \"La Energía Térmica es la más común\")"
   ]
  },
  {
   "cell_type": "code",
   "execution_count": null,
   "id": "22109a38",
   "metadata": {},
   "outputs": [],
   "source": [
    "# Token set ratio\n",
    "fuzz.token_sort_ratio(\"La Energía Térmica es la más común\", \"La más común es Energía Térmica la\")"
   ]
  },
  {
   "cell_type": "code",
   "execution_count": null,
   "id": "11b806be",
   "metadata": {},
   "outputs": [],
   "source": [
    "# Token set ratio\n",
    "fuzz.token_set_ratio(\"La Energía Térmica es la más común\", \"La más más común es Energía Térmica la la \")"
   ]
  },
  {
   "cell_type": "code",
   "execution_count": null,
   "id": "ca9bda35",
   "metadata": {},
   "outputs": [],
   "source": [
    "from fuzzywuzzy import process"
   ]
  },
  {
   "cell_type": "code",
   "execution_count": null,
   "id": "1cebb92f",
   "metadata": {},
   "outputs": [],
   "source": [
    "?process.extractOne"
   ]
  },
  {
   "cell_type": "code",
   "execution_count": null,
   "id": "9956f214",
   "metadata": {},
   "outputs": [],
   "source": [
    "fuentes_validas = ['Térmica','Renovable','Hidráulica','Nuclear']"
   ]
  },
  {
   "cell_type": "code",
   "execution_count": null,
   "id": "fd90ed07",
   "metadata": {},
   "outputs": [],
   "source": [
    "process.extractOne(\"Temica\", fuentes_validas)"
   ]
  },
  {
   "cell_type": "code",
   "execution_count": null,
   "id": "a2cc88a2",
   "metadata": {},
   "outputs": [],
   "source": [
    "process.extractOne(\"Temica\", fuentes_validas)[0]"
   ]
  },
  {
   "cell_type": "markdown",
   "id": "5d1f3c9d",
   "metadata": {},
   "source": [
    "**Aplicación**: examinemos la tabla de potencia instalada:"
   ]
  },
  {
   "cell_type": "code",
   "execution_count": null,
   "id": "14584379",
   "metadata": {},
   "outputs": [],
   "source": [
    "df = pd.read_csv(\"Material para Zoom/potencia_instalada_con_errores.csv\", sep=\"|\", encoding=\"latin1\")"
   ]
  },
  {
   "cell_type": "code",
   "execution_count": null,
   "id": "420420ba",
   "metadata": {},
   "outputs": [],
   "source": [
    "df['fuente_generacion'].value_counts()"
   ]
  },
  {
   "cell_type": "code",
   "execution_count": null,
   "id": "7b7240f6",
   "metadata": {},
   "outputs": [],
   "source": [
    "def limpiar_fuente(fuente_generacion, fuentes_validas=['Térmica','Renovable','Hidráulica','Nuclear']):\n",
    "    '''\n",
    "    Función toma como input un string que identifica una fuente\n",
    "    de generación eléctrica mal escrita y la reemplaza por la fuente\n",
    "    válida más parecida.\n",
    "    '''\n",
    "            \n",
    "    fuente_procesada = process.extractOne(fuente_generacion, fuentes_validas)[0]    \n",
    "    return fuente_procesada"
   ]
  },
  {
   "cell_type": "code",
   "execution_count": null,
   "id": "de5230df",
   "metadata": {},
   "outputs": [],
   "source": [
    "df['fuente_generacion'] = df['fuente_generacion'].apply(limpiar_fuente)"
   ]
  },
  {
   "cell_type": "code",
   "execution_count": null,
   "id": "3349ef58",
   "metadata": {},
   "outputs": [],
   "source": [
    "df['fuente_generacion'].value_counts()"
   ]
  },
  {
   "cell_type": "code",
   "execution_count": null,
   "id": "d762b511",
   "metadata": {},
   "outputs": [],
   "source": []
  }
 ],
 "metadata": {
  "kernelspec": {
   "display_name": "Python 3 (ipykernel)",
   "language": "python",
   "name": "python3"
  },
  "language_info": {
   "codemirror_mode": {
    "name": "ipython",
    "version": 3
   },
   "file_extension": ".py",
   "mimetype": "text/x-python",
   "name": "python",
   "nbconvert_exporter": "python",
   "pygments_lexer": "ipython3",
   "version": "3.9.12"
  }
 },
 "nbformat": 4,
 "nbformat_minor": 5
}
