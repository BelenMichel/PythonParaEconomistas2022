{
 "cells": [
  {
   "cell_type": "markdown",
   "id": "e0cba9f8",
   "metadata": {},
   "source": [
    "# Clase Nº 4"
   ]
  },
  {
   "cell_type": "markdown",
   "id": "ca6dacef",
   "metadata": {},
   "source": [
    "**Plan de la clase:**  \n",
    "**(1)** Preguntas sobre la clase asincrónica - Revisar el cuestionario. <br>\n",
    "**(2)** Comentarios sobre la modalidad de entrega del TP4. <br>\n",
    "**(3)** Repasar `pandas` y `seaborn` (y widgets) <br>\n",
    "**(4)** Repasar expresiones regulares (y widgets) <br>\n",
    "**(5)** _Fuzzy matching_"
   ]
  },
  {
   "cell_type": "markdown",
   "id": "f2e6c347",
   "metadata": {},
   "source": [
    "### Preguntas sobre la clase asincrónica / cuestionario"
   ]
  },
  {
   "cell_type": "markdown",
   "id": "6f0be954",
   "metadata": {},
   "source": [
    "**Ayudamemoria**: <br>\n",
    "`\\d`: match cuando el string contiene digitos (equivalente a [0-9]) <br>\n",
    "`\\D`: match cuando el string NO contiene digitos <br>\n",
    "`\\s`: match cuando el string contiene un espacio en blanco <br>\n",
    "`\\S`: match cuando el string NO contiene un espacio en blanco <br>\n",
    "`\\w`: match cuando el string contiene caracteres de alfanuméricos o \"\\_\" <br>\n",
    "`\\W`: match cuando el string NO contiene caracteres de alfanuméricos o \"\\_\" <br>"
   ]
  },
  {
   "cell_type": "markdown",
   "id": "6ab0919f",
   "metadata": {},
   "source": [
    "Revisemos la pregunta 3 del cuestionario:"
   ]
  },
  {
   "cell_type": "markdown",
   "id": "d18e4225",
   "metadata": {},
   "source": [
    "3) Escribir una expresión regular que matchee con:"
   ]
  },
  {
   "cell_type": "markdown",
   "id": "e5023aee",
   "metadata": {},
   "source": [
    "a.  un string que _contiene_ una letra `a` seguida de cualesquiera  caracteres, y termina en una letra `b`."
   ]
  },
  {
   "cell_type": "code",
   "execution_count": null,
   "id": "7d8ba2d4",
   "metadata": {},
   "outputs": [],
   "source": []
  },
  {
   "cell_type": "markdown",
   "id": "4e5c162b",
   "metadata": {},
   "source": [
    "b. un string que _contiene_ una o más letras `a` seguidas inmediatamente de cero o más dı́gitos."
   ]
  },
  {
   "cell_type": "code",
   "execution_count": null,
   "id": "ed932c95",
   "metadata": {},
   "outputs": [],
   "source": []
  },
  {
   "cell_type": "markdown",
   "id": "73e3e7ef",
   "metadata": {},
   "source": [
    "## Modalidad de entrega del TP Nº4"
   ]
  },
  {
   "cell_type": "markdown",
   "id": "8d2d12f4",
   "metadata": {},
   "source": [
    "El próximo TP va a ser entregado nuevamente a través de GitHub, pero en este caso va ser **grupal**."
   ]
  },
  {
   "cell_type": "markdown",
   "id": "509e3c4a",
   "metadata": {},
   "source": [
    "Un miembro del grupo debe crear un repositorio en GitHub como se hizo en el TP3, y agregar como colaboradores a sus dos compañeros y a los docentes."
   ]
  },
  {
   "cell_type": "markdown",
   "id": "aa9cd35c",
   "metadata": {},
   "source": [
    "Un requisito va ser que cada miembro del grupo haga al menos un commit, con contribuciones sustanciales.\n",
    "Para esto es importante que tengan configurado su nombre de usuario de `git` con el mismo nombre que el de GitHub, así los podemos identificar fácilmente."
   ]
  },
  {
   "cell_type": "markdown",
   "id": "35a00fb2",
   "metadata": {},
   "source": [
    "## Pandas y Seaborn"
   ]
  },
  {
   "cell_type": "markdown",
   "id": "2b06c68c",
   "metadata": {},
   "source": [
    "### Reformateo de `DataFrame`'s"
   ]
  },
  {
   "cell_type": "markdown",
   "id": "145b133b",
   "metadata": {},
   "source": [
    "Sigamos trabajando con el DataFrame de centrales eléctricas."
   ]
  },
  {
   "cell_type": "code",
   "execution_count": null,
   "id": "2760fe82",
   "metadata": {},
   "outputs": [],
   "source": [
    "df = pd.read_csv(\"Material para Zoom/potencia_instalada_mod.csv\", sep=\"|\", encoding=\"latin1\")"
   ]
  },
  {
   "cell_type": "code",
   "execution_count": null,
   "id": "3ec31a9d",
   "metadata": {},
   "outputs": [],
   "source": [
    "df.region.value_counts()"
   ]
  },
  {
   "cell_type": "code",
   "execution_count": null,
   "id": "177d0f8b",
   "metadata": {},
   "outputs": [],
   "source": [
    "df.fuente_generacion.value_counts()"
   ]
  },
  {
   "cell_type": "markdown",
   "id": "4129d9c0",
   "metadata": {},
   "source": [
    "1. Primero, calculemos la potencia total instalada en cada región en un período dado, haciendo un `groupby` y usando la función de agregación adecuada."
   ]
  },
  {
   "cell_type": "code",
   "execution_count": null,
   "id": "49ff91c1",
   "metadata": {},
   "outputs": [],
   "source": []
  },
  {
   "cell_type": "code",
   "execution_count": null,
   "id": "56cf85c8",
   "metadata": {},
   "outputs": [],
   "source": []
  },
  {
   "cell_type": "markdown",
   "id": "3122611e",
   "metadata": {},
   "source": [
    "2. Luego, formateemos el `DataFrame` de manera que los nombres de las regiones sean ahora los nombres de nuevas columnas, y el contenido de la celda sea la potencia instalada en esa región en el período correspondiente (dado en filas). <br>\n",
    "Hay que ir de un formato \"largo\" a uno \"ancho\".\n",
    "Pueden consultar la documentación acerca de reformateo de dataframes aquí: https://pandas.pydata.org/pandas-docs/stable/user_guide/reshaping.html, para ver qué método necesitarían usar."
   ]
  },
  {
   "cell_type": "code",
   "execution_count": null,
   "id": "c32263b3",
   "metadata": {},
   "outputs": [],
   "source": []
  },
  {
   "cell_type": "code",
   "execution_count": null,
   "id": "d0b067b1",
   "metadata": {},
   "outputs": [],
   "source": []
  },
  {
   "cell_type": "markdown",
   "id": "a732a4d3",
   "metadata": {},
   "source": [
    "3. Escribamos una función que reciba como argumento el `DataFrame` formateado como en el punto anterior y un string que represente una región, y utilicemos `seaborn` para hacer un gráfico de la potencia instalada para esa región. Pueden usar, por ejemplo, el tipo de plot `lineplot` (el argumento `data` de la función debe ser el `DataFrame` formateado). Pueden usar los comandos vistos en matplotlib para formatear un plot de Seaborn."
   ]
  },
  {
   "cell_type": "code",
   "execution_count": null,
   "id": "8cea03a0",
   "metadata": {},
   "outputs": [],
   "source": []
  },
  {
   "cell_type": "code",
   "execution_count": null,
   "id": "d921b0ca",
   "metadata": {},
   "outputs": [],
   "source": []
  },
  {
   "cell_type": "markdown",
   "id": "a12816d7",
   "metadata": {},
   "source": [
    "4. Finalmente, usemos un widget reactivo para elegir qué región graficar. Pueden consultar la documentación de widget acá: https://ipywidgets.readthedocs.io/en/latest/examples/Widget%20List.html."
   ]
  },
  {
   "cell_type": "code",
   "execution_count": null,
   "id": "d3e44c72",
   "metadata": {},
   "outputs": [],
   "source": [
    "import ipywidgets as widgets\n",
    "from ipywidgets import interact\n",
    "\n",
    "# Pueden usar\n",
    "# sns.set(rc={'figure.figsize':(TAMANO_X, TAMANO_Y)})\n",
    "# para cambiar el tamaño de la figura"
   ]
  },
  {
   "cell_type": "code",
   "execution_count": null,
   "id": "3a472a3b",
   "metadata": {},
   "outputs": [],
   "source": []
  },
  {
   "cell_type": "code",
   "execution_count": null,
   "id": "15ee45e1",
   "metadata": {},
   "outputs": [],
   "source": []
  },
  {
   "cell_type": "markdown",
   "id": "ab473e84",
   "metadata": {},
   "source": [
    "___________________________________________________"
   ]
  },
  {
   "cell_type": "markdown",
   "id": "8965adc4",
   "metadata": {},
   "source": [
    "## Expresiones regulares"
   ]
  },
  {
   "cell_type": "code",
   "execution_count": null,
   "id": "3d79a419",
   "metadata": {},
   "outputs": [],
   "source": [
    "import re"
   ]
  },
  {
   "cell_type": "markdown",
   "id": "a7693ab7",
   "metadata": {},
   "source": [
    "#### Ejercicio:\n",
    "Vamos a seguir trabajando con el Martín Fierro. <br>\n",
    "Primero repitamos el proceso de _parseo_ realizado durante la clase asincrónica"
   ]
  },
  {
   "cell_type": "code",
   "execution_count": null,
   "id": "90c42fbe",
   "metadata": {},
   "outputs": [],
   "source": [
    "with open(\"Material para Zoom/martin_fierro.txt\") as archivo:\n",
    "    martin_fierro = archivo.read()"
   ]
  },
  {
   "cell_type": "code",
   "execution_count": null,
   "id": "50759fb2",
   "metadata": {},
   "outputs": [],
   "source": [
    "def parsear_martin_fierro(martin_fierro):\n",
    "    partes = re.split(\"[IVX]+ - .*\\n\", martin_fierro)\n",
    "    partes.pop(0)\n",
    "    \n",
    "    estrofas = partes.copy()\n",
    "    for i in range(len(estrofas)):\n",
    "        estrofas[i] = re.split(\"\\n\\d+\\n\", estrofas[i])\n",
    "        estrofas[i].pop(0)\n",
    "    \n",
    "    versos = estrofas.copy()\n",
    "    for i in range(len(versos)):\n",
    "        for j in range(len(versos[i])):\n",
    "            versos[i][j] = versos[i][j].split(\"\\n\")\n",
    "            del versos[i][j][-1] # Agregué esto para eliminar el string vacío al final de cada estrofa\n",
    "    \n",
    "    # Quitamos\n",
    "    versos[-1][-1] = versos[-1][-1][0:6]\n",
    "    \n",
    "    return versos"
   ]
  },
  {
   "cell_type": "code",
   "execution_count": null,
   "id": "00a00ec1",
   "metadata": {},
   "outputs": [],
   "source": [
    "versos = parsear_martin_fierro(martin_fierro)"
   ]
  },
  {
   "cell_type": "markdown",
   "id": "deadb2d6",
   "metadata": {},
   "source": [
    "**Consigna**\n",
    "\n",
    "Construir un _widget_ reactivo tal que uno pueda escribir una expresión regular y, si tal expresión regular matchea con alguna parte del libro, muestre todos los números de parte, estrofa y verso en los que aparece. Si no aparecen en ningún lado, debe imprimir un mensaje diciendo `\"La expresión regular <EXPRESIÓN REGULAR> no matchea con ningún verso del Martín Fierro.`\n",
    "\n",
    "_Ayudas_: \n",
    "- El widget que deberían usar es de tipo `TextArea`. \n",
    "- Dentro de la función que se le pasa a `interact` debería haber loops `for` anidados (como se hizo en la clase asincrónica), para iterar sobre las estructuras jerárquicas que componen el libro.\n",
    "- Recordar, por ejemplo, el método `enumerate` que devuelve tanto los índices como los elementos sobre los cuales se itera (no es estrictamente necesario usarlo, pero puede ser útil).\n"
   ]
  },
  {
   "cell_type": "markdown",
   "id": "11cd86f1",
   "metadata": {},
   "source": [
    "_______________________________________________________________"
   ]
  },
  {
   "cell_type": "markdown",
   "id": "a3e0e861",
   "metadata": {},
   "source": [
    "## _Fuzzy matching_"
   ]
  },
  {
   "cell_type": "markdown",
   "id": "6bdadade",
   "metadata": {},
   "source": [
    "_Fuzzy matching_ refiere al concepto de encontrar correspondencias entre strings que no son exactamente iguales."
   ]
  },
  {
   "cell_type": "markdown",
   "id": "b7db62c4",
   "metadata": {},
   "source": [
    "Instalemos el módulo `fuzzywuzzy` con `pip install fuzzywuzzy`."
   ]
  },
  {
   "cell_type": "code",
   "execution_count": null,
   "id": "b379e3d7",
   "metadata": {},
   "outputs": [],
   "source": [
    "from fuzzywuzzy import fuzz, process"
   ]
  },
  {
   "cell_type": "markdown",
   "id": "d9e8a778",
   "metadata": {},
   "source": [
    "### Distancia de Levenshtein"
   ]
  },
  {
   "cell_type": "markdown",
   "id": "d782969a",
   "metadata": {},
   "source": [
    "Es la cantidad mínima de caracteres que deben editarse en un string para equipararlo a otro. Una edición puede ser una inserción, una eliminación o una substitución."
   ]
  },
  {
   "cell_type": "markdown",
   "id": "9266a732",
   "metadata": {},
   "source": [
    "`fuzzywuzzy` es una librería de Python que tiene funciones para medir distancias entre `string`'s. Estima la distancia y devuelve un indicador de similitud entre 0 (menor similitud) y 100 (máxima similitud)."
   ]
  },
  {
   "cell_type": "markdown",
   "id": "f2d5bffc",
   "metadata": {},
   "source": [
    "Documentación (es algo básica): https://github.com/seatgeek/fuzzywuzzy"
   ]
  },
  {
   "cell_type": "code",
   "execution_count": null,
   "id": "dde6f741",
   "metadata": {},
   "outputs": [],
   "source": [
    "# Simple Ratio\n",
    "fuzz.ratio(\"Energía Termica\", \"Energía Térmica\")"
   ]
  },
  {
   "cell_type": "code",
   "execution_count": null,
   "id": "45cb4e9c",
   "metadata": {},
   "outputs": [],
   "source": [
    "# Partial Ratio\n",
    "fuzz.partial_ratio(\"Energía Termica\", \"La Energía Térmica es la más común\")"
   ]
  },
  {
   "cell_type": "code",
   "execution_count": null,
   "id": "22109a38",
   "metadata": {},
   "outputs": [],
   "source": [
    "# Token set ratio\n",
    "fuzz.token_sort_ratio(\"La Energía Térmica es la más común\", \"La más común es Energía Térmica la\")"
   ]
  },
  {
   "cell_type": "code",
   "execution_count": null,
   "id": "11b806be",
   "metadata": {},
   "outputs": [],
   "source": [
    "# Token set ratio\n",
    "fuzz.token_set_ratio(\"La Energía Térmica es la más común\", \"La más más común es Energía Térmica la la \")"
   ]
  },
  {
   "cell_type": "code",
   "execution_count": null,
   "id": "ca9bda35",
   "metadata": {},
   "outputs": [],
   "source": [
    "from fuzzywuzzy import process"
   ]
  },
  {
   "cell_type": "code",
   "execution_count": null,
   "id": "1cebb92f",
   "metadata": {},
   "outputs": [],
   "source": [
    "?process.extractOne"
   ]
  },
  {
   "cell_type": "code",
   "execution_count": null,
   "id": "9956f214",
   "metadata": {},
   "outputs": [],
   "source": [
    "fuentes_validas = ['Térmica','Renovable','Hidráulica','Nuclear']"
   ]
  },
  {
   "cell_type": "code",
   "execution_count": null,
   "id": "fd90ed07",
   "metadata": {},
   "outputs": [],
   "source": [
    "process.extractOne(\"Temica\", fuentes_validas)"
   ]
  },
  {
   "cell_type": "code",
   "execution_count": null,
   "id": "a2cc88a2",
   "metadata": {},
   "outputs": [],
   "source": [
    "process.extractOne(\"Temica\", fuentes_validas)[0]"
   ]
  },
  {
   "cell_type": "markdown",
   "id": "5d1f3c9d",
   "metadata": {},
   "source": [
    "**Aplicación**: examinemos la tabla de potencia instalada:"
   ]
  },
  {
   "cell_type": "code",
   "execution_count": null,
   "id": "14584379",
   "metadata": {},
   "outputs": [],
   "source": [
    "df = pd.read_csv(\"Material para Zoom/potencia_instalada_con_errores.csv\", sep=\"|\", encoding=\"latin1\")"
   ]
  },
  {
   "cell_type": "code",
   "execution_count": null,
   "id": "420420ba",
   "metadata": {},
   "outputs": [],
   "source": [
    "df['fuente_generacion'].value_counts()"
   ]
  },
  {
   "cell_type": "code",
   "execution_count": null,
   "id": "7b7240f6",
   "metadata": {},
   "outputs": [],
   "source": [
    "def limpiar_fuente(fuente_generacion, fuentes_validas=['Térmica','Renovable','Hidráulica','Nuclear']):\n",
    "    '''\n",
    "    Función toma como input un string que identifica una fuente\n",
    "    de generación eléctrica mal escrita y la reemplaza por la fuente\n",
    "    válida más parecida.\n",
    "    '''\n",
    "            \n",
    "    fuente_procesada = process.extractOne(fuente_generacion, fuentes_validas)[0]    \n",
    "    return fuente_procesada"
   ]
  },
  {
   "cell_type": "code",
   "execution_count": null,
   "id": "de5230df",
   "metadata": {},
   "outputs": [],
   "source": [
    "df['fuente_generacion'] = df['fuente_generacion'].apply(limpiar_fuente)"
   ]
  },
  {
   "cell_type": "code",
   "execution_count": null,
   "id": "3349ef58",
   "metadata": {},
   "outputs": [],
   "source": [
    "df['fuente_generacion'].value_counts()"
   ]
  },
  {
   "cell_type": "code",
   "execution_count": null,
   "id": "d762b511",
   "metadata": {},
   "outputs": [],
   "source": []
  }
 ],
 "metadata": {
  "kernelspec": {
   "display_name": "Python 3 (ipykernel)",
   "language": "python",
   "name": "python3"
  },
  "language_info": {
   "codemirror_mode": {
    "name": "ipython",
    "version": 3
   },
   "file_extension": ".py",
   "mimetype": "text/x-python",
   "name": "python",
   "nbconvert_exporter": "python",
   "pygments_lexer": "ipython3",
   "version": "3.9.12"
  }
 },
 "nbformat": 4,
 "nbformat_minor": 5
}
