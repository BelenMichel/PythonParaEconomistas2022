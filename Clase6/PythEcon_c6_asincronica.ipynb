{
 "cells": [
  {
   "cell_type": "markdown",
   "id": "3496c888",
   "metadata": {},
   "source": [
    "# Clase asincrónica 6: Georreferenciación"
   ]
  },
  {
   "cell_type": "markdown",
   "id": "15759060",
   "metadata": {},
   "source": [
    "**Nota**: Este notebook contiene el código utilizado para demostrar los temas de la clase 6.\n",
    "Si lo ejecutás o modificás, recomendamos que hagas una copia (\"_save as_\" con otro nombre) para de esa manera evitar errores de `git` al hacer `pull`'s desde GitHub en el futuro."
   ]
  },
  {
   "cell_type": "markdown",
   "id": "0860153b",
   "metadata": {},
   "source": [
    "## 1. GeoPandas"
   ]
  },
  {
   "cell_type": "markdown",
   "id": "0d790849",
   "metadata": {},
   "source": [
    "Instalar previamente con `conda install -c conda-forge geopandas`"
   ]
  },
  {
   "cell_type": "code",
   "execution_count": null,
   "id": "33de64b2",
   "metadata": {},
   "outputs": [],
   "source": [
    "import geopandas as gpd"
   ]
  },
  {
   "cell_type": "markdown",
   "id": "fd181120",
   "metadata": {},
   "source": [
    "Importamos un dataset del mundo:"
   ]
  },
  {
   "cell_type": "code",
   "execution_count": null,
   "id": "c8f06ca9",
   "metadata": {},
   "outputs": [],
   "source": [
    "path_to_data = gpd.datasets.get_path(\"naturalearth_lowres\")"
   ]
  },
  {
   "cell_type": "code",
   "execution_count": null,
   "id": "377a9b0e",
   "metadata": {},
   "outputs": [],
   "source": [
    "print(path_to_data)"
   ]
  },
  {
   "cell_type": "code",
   "execution_count": null,
   "id": "856e6a2e",
   "metadata": {},
   "outputs": [],
   "source": [
    "mundo_gdf = gpd.read_file(path_to_data)"
   ]
  },
  {
   "cell_type": "code",
   "execution_count": null,
   "id": "a61e68a8",
   "metadata": {},
   "outputs": [],
   "source": [
    "type(mundo)"
   ]
  },
  {
   "cell_type": "code",
   "execution_count": null,
   "id": "ec6bb224",
   "metadata": {},
   "outputs": [],
   "source": [
    "mundo_gdf.crs"
   ]
  },
  {
   "cell_type": "code",
   "execution_count": null,
   "id": "769306a0",
   "metadata": {},
   "outputs": [],
   "source": [
    "print(mundo_gdf.geometry[0])"
   ]
  },
  {
   "cell_type": "code",
   "execution_count": null,
   "id": "4c99a109",
   "metadata": {},
   "outputs": [],
   "source": [
    "fiji = mundo_gdf.geometry[0]"
   ]
  },
  {
   "cell_type": "code",
   "execution_count": null,
   "id": "962d54bc",
   "metadata": {},
   "outputs": [],
   "source": [
    "fiji.area"
   ]
  },
  {
   "cell_type": "code",
   "execution_count": null,
   "id": "1d10a1a1",
   "metadata": {},
   "outputs": [],
   "source": [
    "type(fiji.centroid)"
   ]
  },
  {
   "cell_type": "code",
   "execution_count": null,
   "id": "d0b6f20f",
   "metadata": {},
   "outputs": [],
   "source": [
    "gdf_mask = gpd.read_file(\n",
    "    gpd.datasets.get_path(\"naturalearth_lowres\")\n",
    ")\n",
    "gdf = gpd.read_file(\n",
    "    gpd.datasets.get_path(\"naturalearth_cities\"),\n",
    "    mask=gdf_mask[gdf_mask.continent==\"Africa\"],\n",
    ")\n"
   ]
  },
  {
   "cell_type": "code",
   "execution_count": null,
   "id": "47258aca",
   "metadata": {},
   "outputs": [],
   "source": [
    "gdf"
   ]
  },
  {
   "cell_type": "markdown",
   "id": "979fa4eb",
   "metadata": {},
   "source": [
    "### Bajamos un mapa de las provincias de Argentina"
   ]
  },
  {
   "cell_type": "markdown",
   "id": "dc22204e",
   "metadata": {},
   "source": [
    "Pueden mirar la siguiente página del *Instituto Geográfico Nacional* (IGN): https://www.ign.gob.ar/NuestrasActividades/InformacionGeoespacial/CapasSIG"
   ]
  },
  {
   "cell_type": "code",
   "execution_count": null,
   "id": "c39bc2a7",
   "metadata": {},
   "outputs": [],
   "source": [
    "provincias_gdf = gpd.read_file(filename=\"datos/provincia/provincia.shp\")"
   ]
  },
  {
   "cell_type": "code",
   "execution_count": null,
   "id": "da9b8e5b",
   "metadata": {},
   "outputs": [],
   "source": [
    "provincias_gdf.columns"
   ]
  },
  {
   "cell_type": "code",
   "execution_count": null,
   "id": "c637875c",
   "metadata": {},
   "outputs": [],
   "source": [
    "provincias2_gdf = gpd.read_file(filename=\"datos/provincia.json\")"
   ]
  },
  {
   "cell_type": "code",
   "execution_count": null,
   "id": "24907737",
   "metadata": {},
   "outputs": [],
   "source": [
    "provincias2_gdf.shape"
   ]
  },
  {
   "cell_type": "code",
   "execution_count": null,
   "id": "46ba163a",
   "metadata": {},
   "outputs": [],
   "source": [
    "bbox = [-90, -35, -60, -20]"
   ]
  },
  {
   "cell_type": "code",
   "execution_count": null,
   "id": "6bbdc27f",
   "metadata": {},
   "outputs": [],
   "source": [
    "provincias3_gdf = gpd.read_file(filename=\"datos/provincia.json\", bbox=bbox)"
   ]
  },
  {
   "cell_type": "code",
   "execution_count": null,
   "id": "640d3224",
   "metadata": {},
   "outputs": [],
   "source": [
    "provincias3_gdf.geometry"
   ]
  },
  {
   "cell_type": "code",
   "execution_count": null,
   "id": "c44fecdb",
   "metadata": {},
   "outputs": [],
   "source": []
  },
  {
   "cell_type": "code",
   "execution_count": null,
   "id": "8fd7bc3e",
   "metadata": {},
   "outputs": [],
   "source": [
    "provincias3_gdf.to_file(\"provincias_subconjunto.geojson\", driver='GeoJSON')"
   ]
  },
  {
   "cell_type": "markdown",
   "id": "7e833bbd",
   "metadata": {},
   "source": [
    "## Elaboración de mapas "
   ]
  },
  {
   "cell_type": "code",
   "execution_count": null,
   "id": "d5637783",
   "metadata": {},
   "outputs": [],
   "source": [
    "pp = mundo_gdf.plot(figsize=(20,10))"
   ]
  },
  {
   "cell_type": "code",
   "execution_count": null,
   "id": "901b40d0",
   "metadata": {},
   "outputs": [],
   "source": [
    "pp = mundo_gdf.sample(frac=1).reset_index(drop=True).plot(figsize=(20,10), cmap=\"tab10\")"
   ]
  },
  {
   "cell_type": "code",
   "execution_count": null,
   "id": "617ddab0",
   "metadata": {},
   "outputs": [],
   "source": [
    "pp = mundo_gdf.plot(figsize=(20,10), column=\"pop_est\", legend=True)"
   ]
  },
  {
   "cell_type": "code",
   "execution_count": null,
   "id": "430a277b",
   "metadata": {},
   "outputs": [],
   "source": [
    "mundo_gdf[\"gdp_per_cap\"] = mundo_gdf.gdp_md_est / mundo_gdf.pop_est * 1e6"
   ]
  },
  {
   "cell_type": "code",
   "execution_count": null,
   "id": "c394852f",
   "metadata": {},
   "outputs": [],
   "source": [
    "pp = mundo_gdf[mundo_gdf.continent != \"Antarctica\"].plot(\n",
    "    figsize=(20,10), \n",
    "    column=\"gdp_per_cap\", \n",
    "    legend=True,\n",
    "    legend_kwds={'label': \"PBI per cápita\", 'orientation': \"horizontal\"}\n",
    ")"
   ]
  },
  {
   "cell_type": "markdown",
   "id": "f11d0491",
   "metadata": {},
   "source": [
    "### Valores faltantes"
   ]
  },
  {
   "cell_type": "code",
   "execution_count": null,
   "id": "ca73597d",
   "metadata": {},
   "outputs": [],
   "source": [
    "import numpy as np"
   ]
  },
  {
   "cell_type": "code",
   "execution_count": null,
   "id": "63906dae",
   "metadata": {},
   "outputs": [],
   "source": [
    "mundo_vf_gdf = mundo_gdf.copy()"
   ]
  },
  {
   "cell_type": "code",
   "execution_count": null,
   "id": "e9998890",
   "metadata": {},
   "outputs": [],
   "source": [
    "mundo_vf_gdf.loc[np.random.choice(mundo_vf_gdf.index, 50), \"pop_est\"] = np.nan"
   ]
  },
  {
   "cell_type": "code",
   "execution_count": null,
   "id": "039de0c5",
   "metadata": {},
   "outputs": [],
   "source": [
    "pp = mundo_vf_gdf.plot(figsize=(20,10), column=\"pop_est\", legend=True)"
   ]
  },
  {
   "cell_type": "code",
   "execution_count": null,
   "id": "603b7b4d",
   "metadata": {},
   "outputs": [],
   "source": [
    "pp = mundo_vf_gdf.plot(figsize=(20,10), column=\"pop_est\", legend=True, missing_kwds={'color': 'lightgrey'})"
   ]
  },
  {
   "cell_type": "markdown",
   "id": "5a4cbee8",
   "metadata": {},
   "source": [
    "## Mapas interactivos"
   ]
  },
  {
   "cell_type": "code",
   "execution_count": null,
   "id": "8e55db86",
   "metadata": {},
   "outputs": [],
   "source": [
    "provincias_gdf.explore()"
   ]
  }
 ],
 "metadata": {
  "kernelspec": {
   "display_name": "Python 3 (ipykernel)",
   "language": "python",
   "name": "python3"
  },
  "language_info": {
   "codemirror_mode": {
    "name": "ipython",
    "version": 3
   },
   "file_extension": ".py",
   "mimetype": "text/x-python",
   "name": "python",
   "nbconvert_exporter": "python",
   "pygments_lexer": "ipython3",
   "version": "3.9.12"
  }
 },
 "nbformat": 4,
 "nbformat_minor": 5
}
