{
 "cells": [
  {
   "cell_type": "markdown",
   "id": "514c6d58",
   "metadata": {},
   "source": [
    "## Curso Python para Economistas\n",
    "### Trabajo Práctico Nº 6 (integrador)"
   ]
  },
  {
   "cell_type": "markdown",
   "id": "83f79c40",
   "metadata": {},
   "source": [
    "### Fecha de entrega:\n",
    "Lunes 14/11* a las 17:00 hs\n",
    "\n",
    "\\* *tienen una semana más para resolver este TP*"
   ]
  },
  {
   "cell_type": "markdown",
   "id": "eb682638",
   "metadata": {},
   "source": [
    "### Modalidad de entrega y trabajo\n",
    "- Este TP es **individual**.\n",
    "- Un repositorio **privado** debe ser creado en GitHub para el TP, y dar acceso a los 5 profesores.\n",
    "- Cuando hayan hecho ese último commit, copien la URL para clonar su repositorio y péguenla en\n",
    "[este Google Sheet](https://docs.google.com/spreadsheets/d/1JmrvClRxxb3luzbDrzAMUC2cfQXyGIV0cev0JTi_Ff4/edit?usp=sharing), en la hoja del TP6. Al ser un repositorio privado, solo los colaboradores habilitados podrán clonarlo.\n",
    "- Al finalizar el trabajo práctico deben hacer un último commit y push en su repositorio de GitHub con el mensaje `\"Entrega final del TP6\"`. Antes de la fecha y hora de entrega pueden hacer cuantos cambios quieran en el repositorio, pero luego de la hora de corte no deben hacer más cambios. Si un commit con el mensaje anterior se realiza luego de la hora de entrega, se supondrá que la entrega tardía fue intencional y se utilizarán los días de gracia. La última versión en el repositorio es la que será evaluada. Para esto es importante que no completen el Google Sheet hasta que no hayan finalizado el TP, como tampoco hacer pushes posteriores a la entrega.\n",
    "- El estilo tendrá un peso en la nota de este trabajo. Pueden utilizar esta [guía de estilo](https://recursospython.com/pep8es.pdf) como referencia."
   ]
  },
  {
   "cell_type": "markdown",
   "id": "78fc5245",
   "metadata": {},
   "source": [
    "___"
   ]
  },
  {
   "cell_type": "markdown",
   "id": "a2c9c42c",
   "metadata": {},
   "source": [
    "## Objetivo"
   ]
  },
  {
   "cell_type": "markdown",
   "id": "6c2b2e2e",
   "metadata": {},
   "source": [
    "El objetivo de este trabajo es integrar datos de anuncios de compraventa/alquiler de Argentina, provenientes del sitio www.properati.com, con datos censales de población de los partidos de la provincia de Buenos Aires (del año 2010, ya que los del último censo no están todavía disponibles); [ <br> \n",
    "Si les interesaría trabajar con otras provincias (en lugar de la provincia de Buenos Aires), **son bienvenidos a hacerlo**; pero, por simplicidad, las consignas se redactarán suponiendo que trabajan con partidos de la provincia de Buenos Aires.<br>\n",
    "\n",
    "Este TP va a incluir los temas de la semana 6 (datos georreferenciados y mapas), pero al ser integrador también necesitarán revisar conceptos de semanas previas, en particular cómo operar con dataframe's de Pandas, cómo realizar gráficos con Matplotlib o Seaborn, y trabajar con widgets interactivos."
   ]
  },
  {
   "cell_type": "markdown",
   "id": "ee9c5111",
   "metadata": {},
   "source": [
    "___"
   ]
  },
  {
   "cell_type": "markdown",
   "id": "d03c496a",
   "metadata": {},
   "source": [
    "## Datos"
   ]
  },
  {
   "cell_type": "markdown",
   "id": "0f5f7358",
   "metadata": {},
   "source": [
    "En este trabajo vamos a utilizar dos nuevos conjuntos de datos, llamémoslos `propiedades` y `población_censo2010`. Además, vamos a trabajar con datos georreferenciados de provincias y departamentos/partidos, con los que ya trabajamos en la clase sincrónica 6.\n",
    "\n",
    "#### `propiedades`\n",
    "Es un archivo tabular CSV comprimido (extensión `.csv.gz`) que se pueden bajar de la página www.properati.com.ar/data. Este archivo contiene una series de registros (filas), donde cada uno corresponde a una propiedad que está en compra/venta o en alquiler en un dado período. La descripción de las columnas se puede consultar en el link anterior. Este es [el link](https://storage.googleapis.com/properati-data-public/ar_properties.csv.gz) para bajarse el archivo, que pesa 289MB. <br>\n",
    "\n",
    "#### `población_censo2010`\n",
    "Aquí deben bajarse la tabla P1-P de este link: https://www.indec.gob.ar/indec/web/Nivel4-CensoProvincia-3-6-06-000-2010. La misma contiene la población por partido en 2001, 2010 y la variación intercensal. Para este TP, sólo nos interesará la población en 2010. Si desean trabajar con otra provincia, pueden realizar la consulta correspondiente en https://www.indec.gob.ar/indec/web/Nivel4-Tema-2-41-135."
   ]
  },
  {
   "cell_type": "markdown",
   "id": "5fd75447",
   "metadata": {},
   "source": [
    "#### `departamentos_georef` y `provincias_georef`\n",
    "Estos archivos, ya conocidos de la clase 6, contienen los datos georreferenciados de los departamentos y provincias de Argentina.\n"
   ]
  },
  {
   "cell_type": "markdown",
   "id": "67850ceb",
   "metadata": {},
   "source": [
    "___"
   ]
  },
  {
   "cell_type": "markdown",
   "id": "1e41e7ba",
   "metadata": {},
   "source": [
    "## Consignas"
   ]
  },
  {
   "cell_type": "markdown",
   "id": "0557d4b1",
   "metadata": {},
   "source": [
    "0. Bajar los datos de Properati correspondientes a Argentina, y la planilla XLS de población."
   ]
  },
  {
   "cell_type": "markdown",
   "id": "340c0772",
   "metadata": {},
   "source": [
    "___"
   ]
  },
  {
   "cell_type": "markdown",
   "id": "083c757d",
   "metadata": {},
   "source": [
    "1. **Cargar y procesar los datos de propiedades (15 pts)** <br>\n",
    "Leer los datos de propiedades (recordar que se trata de un CSV) en un `DataFrame` llamado `propiedades_df`. Notar que los datos están comprimidos (tiene extensión `.gz`). En lugar de descomprimir el archivo en el disco, usar el argumento `compression='gzip'` en la función de lectura.\n",
    "    - Examinar el número de filas y columnas del DataFrame resultante.\n",
    "    - Eliminar las columnas `id`, `ad_type`, `title`, `description`, `l1`, `l4`, `l5` y `l6`.\n",
    "    - Usar la columna adecuada para filtrar los registros correspondientes a la provincia de Buenos Aires (u otra provincia de Argentina o CBA si así lo desean). Para esto puede ser útil el método `unique` el cual les permitirá examinar los valores únicos correspondientes a una columna. También puede resultar útil el método `isin`. Examinar nuevamente el número de filas y columnas del DataFrame resultante.\n",
    "    - Filtrar los registros que tengan datos faltantes en las columnas de precio, superficie (total y cubierta), latitud y longitud. Para eso será util el método `dropna`, y para usarlo deben prestar atención a los argumentos `axis` y `subset`. Examinar nuevamente el número de filas y columnas del DataFrame resultante.    \n",
    "    - Guardar el DataFrame como csv. Esto es sólo por conveniencia, para que no tengan que leer el archivo original y preprocesarlo desde cero si necesitan reiniciar el kernel de Jupyter. En el futuro pueden leer directamente el archivo final. Como referencia, este archivo (para la provincia de Buenos Aires) debería pesar unos 23 MB. No hace falta que lo incluyan en la entrega del trabajo."
   ]
  },
  {
   "cell_type": "code",
   "execution_count": null,
   "id": "5477b013",
   "metadata": {},
   "outputs": [],
   "source": [
    "import pandas as pd"
   ]
  },
  {
   "cell_type": "code",
   "execution_count": null,
   "id": "44a2eb57",
   "metadata": {},
   "outputs": [],
   "source": [
    "PROPERATI_ORIGINAL = \"\" # ruta al archivo original\n",
    "ARCHIVO_PROPIEDADES_FILTRADO = \"\" # ruta al archivo final"
   ]
  },
  {
   "cell_type": "code",
   "execution_count": null,
   "id": "69c779dc",
   "metadata": {},
   "outputs": [],
   "source": []
  },
  {
   "cell_type": "code",
   "execution_count": null,
   "id": "e13a2621",
   "metadata": {},
   "outputs": [],
   "source": []
  },
  {
   "cell_type": "code",
   "execution_count": null,
   "id": "1f30ef09",
   "metadata": {},
   "outputs": [],
   "source": []
  },
  {
   "cell_type": "code",
   "execution_count": null,
   "id": "397d5fa6",
   "metadata": {},
   "outputs": [],
   "source": []
  },
  {
   "cell_type": "markdown",
   "id": "8835a6ff",
   "metadata": {},
   "source": [
    "2. **Analicemos un poco el DataFrame. (10 pts)** <br>\n",
    "Por inspección del DataFrame (y tal vez por experiencia) sabemos que los alquileres de inmuebles se suelen realizar en pesos argentinos (ARS); y las compraventas, en dólares (USD). Generar un DataFrame agregado que cuantifique cuántas operaciones de cada tipo se realizan en ARS y cuántas en USD, de acuerdo al tipo de propiedad. La estructura del DataFrame debe ser la siguiente: el tipo de operación y la unidad monetaria (`ARS` o `USD`) deben formar parte de un multiíndice. Los distintos tipos de propiedades deben ser columnas. Los valores deben ser las cuentas (cuántos registros hay para la dada combinación). \n",
    "Este link puede resultar útil para saber qué operación de reformateo realizar: https://pandas.pydata.org/pandas-docs/stable/user_guide/reshaping.html\n"
   ]
  },
  {
   "cell_type": "code",
   "execution_count": null,
   "id": "57ec5ddd",
   "metadata": {},
   "outputs": [],
   "source": [
    "propiedades_df = pd.read_csv(ARCHIVO_PROPIEDADES_FILTRADO)"
   ]
  },
  {
   "cell_type": "code",
   "execution_count": null,
   "id": "d95ab80a",
   "metadata": {},
   "outputs": [],
   "source": []
  },
  {
   "cell_type": "code",
   "execution_count": null,
   "id": "8ef4463b",
   "metadata": {},
   "outputs": [],
   "source": []
  },
  {
   "cell_type": "code",
   "execution_count": null,
   "id": "0ed06bff",
   "metadata": {},
   "outputs": [],
   "source": []
  },
  {
   "cell_type": "code",
   "execution_count": null,
   "id": "85013f30",
   "metadata": {},
   "outputs": [],
   "source": []
  },
  {
   "cell_type": "markdown",
   "id": "0034835e",
   "metadata": {},
   "source": [
    "3. **Convertir el DataFrame de Properati en GeoDataFrame. (13 pts)** <br>\n",
    "El DataFrame generado tiene dos columnas para las coordenadas de latitud y longitud del inmueble. En este ejercicio, lo convertiremos en un GeoDataFrame.\n",
    "- Utilizando el método `apply`,  generar una Series cuyo contenido sean puntos de `shapely` (es decir, objetos geométricos), cada uno construido a partir de la latitud y longitud del inmueble. Para eso, definir una función auxiliar llamada `generar_geometria`, que reciba una fila del DataFrame y devuelva un `Point` (prestar atención al orden de la longitud y la latitud). Agregar esta Series como una nueva columna llamada `geometry`. Eliminar las columnas de latitud y longitud.\n",
    "- Generar un GeoDataFrame a partir del DataFrame anterior. Esto se puede hacer llamando al constructor de GeoDataFrame usando el argumento `geometry` al que se le pasa el nombre de la columna que se va a usar como la geometría asociada a cada registro."
   ]
  },
  {
   "cell_type": "code",
   "execution_count": null,
   "id": "153e96f1",
   "metadata": {},
   "outputs": [],
   "source": [
    "from shapely.geometry import Point\n",
    "import geopandas as gpd"
   ]
  },
  {
   "cell_type": "markdown",
   "id": "59f455e8",
   "metadata": {},
   "source": [
    "Ejemplo de cómo inicializar un punto:"
   ]
  },
  {
   "cell_type": "code",
   "execution_count": null,
   "id": "059dd69a",
   "metadata": {},
   "outputs": [],
   "source": [
    "latitud, longitud = -34.93, -57.95\n",
    "la_plata = Point(longitud, latitud)\n",
    "la_plata"
   ]
  },
  {
   "cell_type": "code",
   "execution_count": null,
   "id": "4d092f5c",
   "metadata": {},
   "outputs": [],
   "source": [
    "def generar_geometria(fila):                \n",
    "    # Completar\n",
    "    return "
   ]
  },
  {
   "cell_type": "code",
   "execution_count": null,
   "id": "acd3076c",
   "metadata": {},
   "outputs": [],
   "source": []
  },
  {
   "cell_type": "code",
   "execution_count": null,
   "id": "74d994ff",
   "metadata": {},
   "outputs": [],
   "source": []
  },
  {
   "cell_type": "code",
   "execution_count": null,
   "id": "25e6639a",
   "metadata": {},
   "outputs": [],
   "source": []
  },
  {
   "cell_type": "code",
   "execution_count": null,
   "id": "8e4749a9",
   "metadata": {},
   "outputs": [],
   "source": []
  },
  {
   "cell_type": "code",
   "execution_count": null,
   "id": "2fc1bdfd",
   "metadata": {},
   "outputs": [],
   "source": []
  },
  {
   "cell_type": "markdown",
   "id": "330c12bb",
   "metadata": {},
   "source": [
    "4. **Generar un GeoDataFrame con los partidos de Buenos Aires (7pts)**\n",
    "\n",
    "Usando Geopandas, cargar los shapefiles de departamentos/partidos y provincias en sendos geodataframes. Repetir el procedimiento seguido en la clase sincrónica 6 para asociar los departamentos/partidos a sus respectivas provincias. Filtrar el GeoDataFrame resultante de manera de quedarse con los registros correspondientes a sólo la provincia de Buenos Aires (o la provincia que hayan elegido). Llamarlo `partidos_bsas_gdf` o `departamentos_<provincia>_gdf`."
   ]
  },
  {
   "cell_type": "code",
   "execution_count": null,
   "id": "320ddfde",
   "metadata": {},
   "outputs": [],
   "source": [
    "PROVINCIAS = \"\" # ruta al shapefile de provincias\n",
    "DEPARTAMENTOS = \"\" # ruta al shapefile de departamentos"
   ]
  },
  {
   "cell_type": "code",
   "execution_count": null,
   "id": "2a5f3f68",
   "metadata": {},
   "outputs": [],
   "source": []
  },
  {
   "cell_type": "code",
   "execution_count": null,
   "id": "c143a673",
   "metadata": {},
   "outputs": [],
   "source": []
  },
  {
   "cell_type": "code",
   "execution_count": null,
   "id": "11322b4b",
   "metadata": {},
   "outputs": [],
   "source": []
  },
  {
   "cell_type": "code",
   "execution_count": null,
   "id": "4cc3cf16",
   "metadata": {},
   "outputs": [],
   "source": []
  },
  {
   "cell_type": "code",
   "execution_count": null,
   "id": "1f00491e",
   "metadata": {},
   "outputs": [],
   "source": []
  },
  {
   "cell_type": "markdown",
   "id": "541b0b27",
   "metadata": {},
   "source": [
    "5. **Asociar inmuebles a sus respectivos partidos mediante información georreferenciada (10pts)** <br>\n",
    "Notar que en el GeoDataFrame de Properati tenemos la columna `l3`, pero no es claro si esto representa una localidad o un partido. \n",
    "En este ejercicio, vamos a realizar un join espacial (`sjoin`) de `propiedades_gdf` con el `partidos_bsas_gdf` generado en el punto anterior. Luego, deben determinar para cuántos de los registros, la columna `l3` coincide con el nombre del partido proveniente de `partidos_bsas_gdf`. Dejar mencionado como comentario algunos casos que detecten en los que no coinciden estos valores. <br>\n",
    "Finalmente, descartar los departamentos con menos de 10 registros (recordar `groupby(...).filter` de la clase 4)."
   ]
  },
  {
   "cell_type": "code",
   "execution_count": null,
   "id": "b9c68702",
   "metadata": {},
   "outputs": [],
   "source": []
  },
  {
   "cell_type": "code",
   "execution_count": null,
   "id": "16848860",
   "metadata": {},
   "outputs": [],
   "source": []
  },
  {
   "cell_type": "code",
   "execution_count": null,
   "id": "e3c87277",
   "metadata": {},
   "outputs": [],
   "source": []
  },
  {
   "cell_type": "code",
   "execution_count": null,
   "id": "c49ad6c6",
   "metadata": {},
   "outputs": [],
   "source": []
  },
  {
   "cell_type": "code",
   "execution_count": null,
   "id": "a9c26841",
   "metadata": {},
   "outputs": [],
   "source": []
  },
  {
   "cell_type": "markdown",
   "id": "f9962de4",
   "metadata": {},
   "source": [
    "6. **Leer los datos de población por partido. (5pts)** <br>\n",
    "Deben cargar la información de población en un DataFrame usando Pandas, y producir un DataFrame final que contenga dos columnas: el nombre del partido y la población en 2010. Se permiten manipulaciones manuales del archivo XLS bajado de la página de INDEC. Deben incluir el archivo XLS \"curado\" en el repositorio al momento de la entrega, para que los profesores puedan reproducir los resultados ejecutando el código del notebook.\n",
    "\n"
   ]
  },
  {
   "cell_type": "code",
   "execution_count": null,
   "id": "0336a3e0",
   "metadata": {},
   "outputs": [],
   "source": []
  },
  {
   "cell_type": "code",
   "execution_count": null,
   "id": "a424ae23",
   "metadata": {},
   "outputs": [],
   "source": []
  },
  {
   "cell_type": "code",
   "execution_count": null,
   "id": "2823a09d",
   "metadata": {},
   "outputs": [],
   "source": []
  },
  {
   "cell_type": "code",
   "execution_count": null,
   "id": "ca904183",
   "metadata": {},
   "outputs": [],
   "source": []
  },
  {
   "cell_type": "code",
   "execution_count": null,
   "id": "1fa8b8d6",
   "metadata": {},
   "outputs": [],
   "source": []
  },
  {
   "cell_type": "markdown",
   "id": "f724dece",
   "metadata": {},
   "source": [
    "7. **Número de anuncios por partido, per cápita (20 pts)**. <br>\n",
    "Generar un mapa de la provincia de Buenos Aires, coloreando cada partido de acuerdo al número de registros normalizadp por la población del mismo (en 2010). Utilizar un widget reactivo para visualizar el mapa de acuerdo al tipo de operación: venta, alquiler o alquiler temporal. _Se evaluará la presentación del mapa_.\n"
   ]
  },
  {
   "cell_type": "code",
   "execution_count": null,
   "id": "da8edf3f",
   "metadata": {},
   "outputs": [],
   "source": []
  },
  {
   "cell_type": "code",
   "execution_count": null,
   "id": "938937de",
   "metadata": {},
   "outputs": [],
   "source": []
  },
  {
   "cell_type": "code",
   "execution_count": null,
   "id": "5ed42be0",
   "metadata": {},
   "outputs": [],
   "source": []
  },
  {
   "cell_type": "code",
   "execution_count": null,
   "id": "56bb2d7a",
   "metadata": {},
   "outputs": [],
   "source": []
  },
  {
   "cell_type": "code",
   "execution_count": null,
   "id": "afa7891a",
   "metadata": {},
   "outputs": [],
   "source": []
  },
  {
   "cell_type": "markdown",
   "id": "c8e5a7f9",
   "metadata": {},
   "source": [
    "8. **Dos gráficos a elección (20 pts + bonus si usan datos adicionales)**. <br>\n",
    "Usando los datos que hemos procesado, hacer dos gráficos que permitan visualizar algunas relaciones que les parezcan interesantes. Dejamos la elección de las mismas a criterio de ustedes, así como la de los tipos de gráfico a utilizar. Uno de los gráficos puede ser nuevamente un mapa, pero debe ser suficientemente distinto al del punto anterior. Se admite usar bases de datos adicionales si así lo desean (esto les dará puntos extra!) <br>Noten que si examinan alguna relación que tenga que ver con precios, deben tener en cuenta la unidad monetaria en la que están expresados los mismos (pueden simplemente descartar la minoritaria, por ejemplo compraventas en ARS). También pueden utilizar widgets. _Se evaluará la presentación de los gráficos/mapas_."
   ]
  },
  {
   "cell_type": "code",
   "execution_count": null,
   "id": "fe319fa1",
   "metadata": {},
   "outputs": [],
   "source": []
  },
  {
   "cell_type": "code",
   "execution_count": null,
   "id": "c012444e",
   "metadata": {},
   "outputs": [],
   "source": []
  },
  {
   "cell_type": "code",
   "execution_count": null,
   "id": "77510fc5",
   "metadata": {},
   "outputs": [],
   "source": []
  },
  {
   "cell_type": "code",
   "execution_count": null,
   "id": "990d61bb",
   "metadata": {},
   "outputs": [],
   "source": []
  },
  {
   "cell_type": "code",
   "execution_count": null,
   "id": "178e3703",
   "metadata": {},
   "outputs": [],
   "source": []
  }
 ],
 "metadata": {
  "kernelspec": {
   "display_name": "Python 3 (ipykernel)",
   "language": "python",
   "name": "python3"
  },
  "language_info": {
   "codemirror_mode": {
    "name": "ipython",
    "version": 3
   },
   "file_extension": ".py",
   "mimetype": "text/x-python",
   "name": "python",
   "nbconvert_exporter": "python",
   "pygments_lexer": "ipython3",
   "version": "3.10.6"
  }
 },
 "nbformat": 4,
 "nbformat_minor": 5
}
