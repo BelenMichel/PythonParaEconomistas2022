{
 "cells": [
  {
   "cell_type": "markdown",
   "id": "e0cba9f8",
   "metadata": {},
   "source": [
    "# Clase Nº 6"
   ]
  },
  {
   "cell_type": "markdown",
   "id": "ca6dacef",
   "metadata": {},
   "source": [
    "**Plan de la clase:**  \n",
    "**(1)** Preguntas sobre la clase asincrónica. <br>\n",
    "**(2)** Repaso de `pd.DataFrame.merge`. <br>\n",
    "**(3)** Unir un dataframe con un geodataframe y visualizar atributos en un mapa <br>\n",
    "**(4)** Unir dos geodataframes en base a atributos espaciales <br>"
   ]
  },
  {
   "cell_type": "markdown",
   "id": "f2e6c347",
   "metadata": {},
   "source": [
    "### Preguntas sobre la clase asincrónica"
   ]
  },
  {
   "cell_type": "markdown",
   "id": "a966fd4e",
   "metadata": {},
   "source": [
    "..."
   ]
  },
  {
   "cell_type": "markdown",
   "id": "7a5b4258",
   "metadata": {},
   "source": [
    "### Repaso de `pd.DataFrame.merge`"
   ]
  },
  {
   "cell_type": "markdown",
   "id": "b6f7641b",
   "metadata": {},
   "source": [
    "### Unir un geodataframe con un dataframe a través de un atributo no espacial"
   ]
  },
  {
   "cell_type": "markdown",
   "id": "b4ce232a",
   "metadata": {},
   "source": [
    "Vamos a ejemplificar cómo unir un `DataFrame` de Pandas con un `GeoDataFrame` de Geopandas.\n",
    "Para eso vamos a utilizar una tabla que contiene la población de las distintas provincias argentinas, y el shapefile de las provincias que ya vimos en la clase asincrónica."
   ]
  },
  {
   "cell_type": "code",
   "execution_count": null,
   "id": "67fbecba",
   "metadata": {},
   "outputs": [],
   "source": [
    "import numpy as np\n",
    "import pandas as pd\n",
    "import geopandas as gpd"
   ]
  },
  {
   "cell_type": "markdown",
   "id": "def82bf1",
   "metadata": {},
   "source": [
    "Descarguemos la tabla de población por provincia de [esta página](https://www.ign.gob.ar/NuestrasActividades/Geografia/DatosArgentina/Poblacion2) del sitio del IGN.\n",
    "Para eso utilizamos la función `read_html` de `Pandas` que es capaz de extraer tablas de un archivo `html`."
   ]
  },
  {
   "cell_type": "code",
   "execution_count": null,
   "id": "13c600e6",
   "metadata": {},
   "outputs": [],
   "source": [
    "url_pob = \"https://www.ign.gob.ar/NuestrasActividades/Geografia/DatosArgentina/Poblacion2\"\n",
    "tablas = pd.read_html(url_pob)"
   ]
  },
  {
   "cell_type": "code",
   "execution_count": null,
   "id": "24142e02",
   "metadata": {},
   "outputs": [],
   "source": [
    "poblacion_df = tablas[2]"
   ]
  },
  {
   "cell_type": "code",
   "execution_count": null,
   "id": "b6bbcbdb",
   "metadata": {},
   "outputs": [],
   "source": [
    "poblacion_df"
   ]
  },
  {
   "cell_type": "markdown",
   "id": "8167b134",
   "metadata": {},
   "source": [
    "Preprocesamos el dataframe de población:"
   ]
  },
  {
   "cell_type": "code",
   "execution_count": null,
   "id": "70e2a0c9",
   "metadata": {},
   "outputs": [],
   "source": [
    "def convertir_a_int(fila, cols=[\"Año 2010\", \"Año 2015\", \"Año 2020\"]):    \n",
    "\n",
    "    '''\n",
    "    Convertir cols, que contienen strings de números con \".\" como separador de miles, a tipo entero.\n",
    "    '''\n",
    "    \n",
    "    try:\n",
    "        for col in cols:\n",
    "            fila[col] = int(fila[col].replace(\".\",\"\"))\n",
    "    except:\n",
    "        pass\n",
    "        \n",
    "    return fila"
   ]
  },
  {
   "cell_type": "code",
   "execution_count": null,
   "id": "74e7e0f0",
   "metadata": {},
   "outputs": [],
   "source": [
    "poblacion_df = poblacion_df.apply(convertir_a_int, axis=1)"
   ]
  },
  {
   "cell_type": "code",
   "execution_count": null,
   "id": "9ef7cf69",
   "metadata": {},
   "outputs": [],
   "source": [
    "provincias_gdf = gpd.read_file(filename=\"datos/provincia.zip\", bbox=(-75,-50,-55,-20))\n",
    "provincias_gdf = provincias_gdf[[\"nam\", \"geometry\"]]\n",
    "provincias_gdf"
   ]
  },
  {
   "cell_type": "markdown",
   "id": "9f35cc5a",
   "metadata": {},
   "source": [
    "### Ejercicio\n",
    "\n",
    "Unir las bases `provincias_gdf` y `poblacion_df` por el nombre de la provincia. Notar que necesitamos especificar `left_on` y `right_on` porque los nombres de las columnas correspondientes son diferentes (o bien cambiar el nombre de una de las columnas).\n",
    "A continuación, representar un mapa del país coloreando cada provincia en base a su población."
   ]
  },
  {
   "cell_type": "code",
   "execution_count": null,
   "id": "b7eefd89",
   "metadata": {},
   "outputs": [],
   "source": []
  },
  {
   "cell_type": "code",
   "execution_count": null,
   "id": "162f603b",
   "metadata": {},
   "outputs": [],
   "source": []
  },
  {
   "cell_type": "code",
   "execution_count": null,
   "id": "a94e9158",
   "metadata": {},
   "outputs": [],
   "source": []
  },
  {
   "cell_type": "code",
   "execution_count": null,
   "id": "a46d9af8",
   "metadata": {},
   "outputs": [],
   "source": []
  },
  {
   "cell_type": "markdown",
   "id": "3a33b8aa",
   "metadata": {},
   "source": [
    "### Unir geodatraframes por un atributo espacial: `sjoin`"
   ]
  },
  {
   "cell_type": "markdown",
   "id": "d44ce1ba",
   "metadata": {},
   "source": [
    "Geopandas permite unir dos GeoDataFrames en base a relaciones espaciales entre las observaciones de cada uno."
   ]
  },
  {
   "cell_type": "markdown",
   "id": "7b2f345f",
   "metadata": {},
   "source": [
    "Vamos a usar estas relaciones espaciales para poder vincular departamentos con provincias."
   ]
  },
  {
   "cell_type": "code",
   "execution_count": null,
   "id": "56bbfc49",
   "metadata": {},
   "outputs": [],
   "source": [
    "departamentos_gdf = gpd.read_file(\"datos/departamento.zip\")\n",
    "departamentos_gdf = departamentos_gdf[[\"objectid\", \"nam\", \"geometry\"]]\n",
    "departamentos_gdf = departamentos_gdf.rename({\"nam\":\"departamento\"}, axis=1)"
   ]
  },
  {
   "cell_type": "markdown",
   "id": "3ef688d3",
   "metadata": {},
   "source": [
    "Obtenemos los centroides de cada departamento para establecer la relación de pertenencia con la provincia."
   ]
  },
  {
   "cell_type": "code",
   "execution_count": null,
   "id": "dcb6b11c",
   "metadata": {},
   "outputs": [],
   "source": [
    "departamentos_centroid_gdf = departamentos_gdf.copy()\n",
    "departamentos_centroid_gdf[\"geometry\"] = departamentos_gdf.geometry.centroid;"
   ]
  },
  {
   "cell_type": "code",
   "execution_count": null,
   "id": "ad913c81",
   "metadata": {},
   "outputs": [],
   "source": [
    "prov_dep_gdf = departamentos_centroid_gdf.sjoin(provincias_gdf, predicate=\"within\")"
   ]
  },
  {
   "cell_type": "code",
   "execution_count": null,
   "id": "521bd44f",
   "metadata": {},
   "outputs": [],
   "source": [
    "prov_dep_df = prov_dep_gdf[[\"objectid\", \"provincia\"]]"
   ]
  },
  {
   "cell_type": "code",
   "execution_count": null,
   "id": "2931c63e",
   "metadata": {},
   "outputs": [],
   "source": [
    "departamentos_gdf = departamentos_gdf.merge(prov_dep_df, how=\"inner\", on=\"objectid\")"
   ]
  },
  {
   "cell_type": "code",
   "execution_count": null,
   "id": "8e745ec0",
   "metadata": {},
   "outputs": [],
   "source": []
  },
  {
   "cell_type": "markdown",
   "id": "e472a162",
   "metadata": {},
   "source": [
    "Ahora representamos la división departamental de cada provincia en un mapa."
   ]
  },
  {
   "cell_type": "code",
   "execution_count": null,
   "id": "b29c5342",
   "metadata": {},
   "outputs": [],
   "source": [
    "def mostrar_deptos_por_provincia(provincia):\n",
    "    tmp_gdf = departamentos_gdf[departamentos_gdf[\"provincia\"]==provincia]\n",
    "    tmp_gdf.plot(cmap=\"tab10\", figsize=(10,10))"
   ]
  },
  {
   "cell_type": "code",
   "execution_count": null,
   "id": "e67c1c96",
   "metadata": {},
   "outputs": [],
   "source": [
    "import ipywidgets as widgets \n",
    "from ipywidgets import interact"
   ]
  },
  {
   "cell_type": "code",
   "execution_count": null,
   "id": "a4dd9a67",
   "metadata": {},
   "outputs": [],
   "source": [
    "interact(\n",
    "    mostrar_deptos_por_provincia, \n",
    "    provincia=widgets.Dropdown(options=sorted(pd.unique(provincias.nam)))\n",
    ");"
   ]
  }
 ],
 "metadata": {
  "kernelspec": {
   "display_name": "Python 3 (ipykernel)",
   "language": "python",
   "name": "python3"
  },
  "language_info": {
   "codemirror_mode": {
    "name": "ipython",
    "version": 3
   },
   "file_extension": ".py",
   "mimetype": "text/x-python",
   "name": "python",
   "nbconvert_exporter": "python",
   "pygments_lexer": "ipython3",
   "version": "3.9.12"
  }
 },
 "nbformat": 4,
 "nbformat_minor": 5
}
