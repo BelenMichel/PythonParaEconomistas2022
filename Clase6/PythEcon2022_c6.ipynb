{
 "cells": [
  {
   "cell_type": "markdown",
   "id": "e0cba9f8",
   "metadata": {},
   "source": [
    "# Clase Nº 6"
   ]
  },
  {
   "cell_type": "markdown",
   "id": "ca6dacef",
   "metadata": {},
   "source": [
    "**Plan de la clase:**  \n",
    "**(1)** Preguntas sobre la clase asincrónica. <br>\n",
    "**(2)** Repaso de `pd.DataFrame.merge`. <br>\n",
    "**(3)** Unir un dataframe con un geodataframe y visualizar atributos en un mapa <br>\n",
    "**(4)** Unir dos geodataframes en base a atributos espaciales <br>"
   ]
  },
  {
   "cell_type": "markdown",
   "id": "f2e6c347",
   "metadata": {},
   "source": [
    "### Preguntas sobre la clase asincrónica"
   ]
  },
  {
   "cell_type": "markdown",
   "id": "a966fd4e",
   "metadata": {},
   "source": [
    "..."
   ]
  },
  {
   "cell_type": "markdown",
   "id": "7a5b4258",
   "metadata": {},
   "source": [
    "### Repaso de `pd.DataFrame.merge`"
   ]
  },
  {
   "cell_type": "code",
   "execution_count": 1,
   "id": "e3e9956d",
   "metadata": {},
   "outputs": [],
   "source": [
    "import pandas as pd"
   ]
  },
  {
   "cell_type": "code",
   "execution_count": 2,
   "id": "0f882094",
   "metadata": {},
   "outputs": [
    {
     "data": {
      "text/html": [
       "<div>\n",
       "<style scoped>\n",
       "    .dataframe tbody tr th:only-of-type {\n",
       "        vertical-align: middle;\n",
       "    }\n",
       "\n",
       "    .dataframe tbody tr th {\n",
       "        vertical-align: top;\n",
       "    }\n",
       "\n",
       "    .dataframe thead th {\n",
       "        text-align: right;\n",
       "    }\n",
       "</style>\n",
       "<table border=\"1\" class=\"dataframe\">\n",
       "  <thead>\n",
       "    <tr style=\"text-align: right;\">\n",
       "      <th></th>\n",
       "      <th>0</th>\n",
       "      <th>1</th>\n",
       "    </tr>\n",
       "  </thead>\n",
       "  <tbody>\n",
       "    <tr>\n",
       "      <th>0</th>\n",
       "      <td>a</td>\n",
       "      <td>1</td>\n",
       "    </tr>\n",
       "    <tr>\n",
       "      <th>1</th>\n",
       "      <td>b</td>\n",
       "      <td>2</td>\n",
       "    </tr>\n",
       "    <tr>\n",
       "      <th>2</th>\n",
       "      <td>c</td>\n",
       "      <td>3</td>\n",
       "    </tr>\n",
       "    <tr>\n",
       "      <th>3</th>\n",
       "      <td>d</td>\n",
       "      <td>4</td>\n",
       "    </tr>\n",
       "  </tbody>\n",
       "</table>\n",
       "</div>"
      ],
      "text/plain": [
       "   0  1\n",
       "0  a  1\n",
       "1  b  2\n",
       "2  c  3\n",
       "3  d  4"
      ]
     },
     "metadata": {},
     "output_type": "display_data"
    },
    {
     "data": {
      "text/html": [
       "<div>\n",
       "<style scoped>\n",
       "    .dataframe tbody tr th:only-of-type {\n",
       "        vertical-align: middle;\n",
       "    }\n",
       "\n",
       "    .dataframe tbody tr th {\n",
       "        vertical-align: top;\n",
       "    }\n",
       "\n",
       "    .dataframe thead th {\n",
       "        text-align: right;\n",
       "    }\n",
       "</style>\n",
       "<table border=\"1\" class=\"dataframe\">\n",
       "  <thead>\n",
       "    <tr style=\"text-align: right;\">\n",
       "      <th></th>\n",
       "      <th>0</th>\n",
       "      <th>1</th>\n",
       "    </tr>\n",
       "  </thead>\n",
       "  <tbody>\n",
       "    <tr>\n",
       "      <th>0</th>\n",
       "      <td>a</td>\n",
       "      <td>5</td>\n",
       "    </tr>\n",
       "    <tr>\n",
       "      <th>1</th>\n",
       "      <td>b</td>\n",
       "      <td>6</td>\n",
       "    </tr>\n",
       "    <tr>\n",
       "      <th>2</th>\n",
       "      <td>d</td>\n",
       "      <td>7</td>\n",
       "    </tr>\n",
       "  </tbody>\n",
       "</table>\n",
       "</div>"
      ],
      "text/plain": [
       "   0  1\n",
       "0  a  5\n",
       "1  b  6\n",
       "2  d  7"
      ]
     },
     "metadata": {},
     "output_type": "display_data"
    },
    {
     "data": {
      "text/html": [
       "<div>\n",
       "<style scoped>\n",
       "    .dataframe tbody tr th:only-of-type {\n",
       "        vertical-align: middle;\n",
       "    }\n",
       "\n",
       "    .dataframe tbody tr th {\n",
       "        vertical-align: top;\n",
       "    }\n",
       "\n",
       "    .dataframe thead th {\n",
       "        text-align: right;\n",
       "    }\n",
       "</style>\n",
       "<table border=\"1\" class=\"dataframe\">\n",
       "  <thead>\n",
       "    <tr style=\"text-align: right;\">\n",
       "      <th></th>\n",
       "      <th>0</th>\n",
       "      <th>1</th>\n",
       "    </tr>\n",
       "  </thead>\n",
       "  <tbody>\n",
       "    <tr>\n",
       "      <th>0</th>\n",
       "      <td>a</td>\n",
       "      <td>8</td>\n",
       "    </tr>\n",
       "    <tr>\n",
       "      <th>1</th>\n",
       "      <td>b</td>\n",
       "      <td>9</td>\n",
       "    </tr>\n",
       "    <tr>\n",
       "      <th>2</th>\n",
       "      <td>c</td>\n",
       "      <td>10</td>\n",
       "    </tr>\n",
       "  </tbody>\n",
       "</table>\n",
       "</div>"
      ],
      "text/plain": [
       "   0   1\n",
       "0  a   8\n",
       "1  b   9\n",
       "2  c  10"
      ]
     },
     "metadata": {},
     "output_type": "display_data"
    }
   ],
   "source": [
    "df1 = [[\"a\", \"b\", \"c\", \"d\"], [1, 2, 3, 4]]\n",
    "df1 = pd.DataFrame(df1).transpose()\n",
    "df1\n",
    "\n",
    "df2 = [[\"a\", \"b\", \"d\"], [5, 6, 7]]\n",
    "df2 = pd.DataFrame(df2).transpose()\n",
    "\n",
    "df3 = [[\"a\", \"b\", \"c\"], [8, 9, 10]]\n",
    "df3 = pd.DataFrame(df3).transpose()\n",
    "\n",
    "\n",
    "display(df1)\n",
    "display(df2)\n",
    "display(df3)"
   ]
  },
  {
   "cell_type": "code",
   "execution_count": 3,
   "id": "bf995867",
   "metadata": {},
   "outputs": [
    {
     "data": {
      "text/html": [
       "<div>\n",
       "<style scoped>\n",
       "    .dataframe tbody tr th:only-of-type {\n",
       "        vertical-align: middle;\n",
       "    }\n",
       "\n",
       "    .dataframe tbody tr th {\n",
       "        vertical-align: top;\n",
       "    }\n",
       "\n",
       "    .dataframe thead th {\n",
       "        text-align: right;\n",
       "    }\n",
       "</style>\n",
       "<table border=\"1\" class=\"dataframe\">\n",
       "  <thead>\n",
       "    <tr style=\"text-align: right;\">\n",
       "      <th></th>\n",
       "      <th>0</th>\n",
       "      <th>1_x</th>\n",
       "      <th>1_y</th>\n",
       "    </tr>\n",
       "  </thead>\n",
       "  <tbody>\n",
       "    <tr>\n",
       "      <th>0</th>\n",
       "      <td>a</td>\n",
       "      <td>1</td>\n",
       "      <td>5</td>\n",
       "    </tr>\n",
       "    <tr>\n",
       "      <th>1</th>\n",
       "      <td>b</td>\n",
       "      <td>2</td>\n",
       "      <td>6</td>\n",
       "    </tr>\n",
       "    <tr>\n",
       "      <th>2</th>\n",
       "      <td>d</td>\n",
       "      <td>4</td>\n",
       "      <td>7</td>\n",
       "    </tr>\n",
       "  </tbody>\n",
       "</table>\n",
       "</div>"
      ],
      "text/plain": [
       "   0 1_x 1_y\n",
       "0  a   1   5\n",
       "1  b   2   6\n",
       "2  d   4   7"
      ]
     },
     "execution_count": 3,
     "metadata": {},
     "output_type": "execute_result"
    }
   ],
   "source": [
    "pd.merge(df1, df2, on=0)"
   ]
  },
  {
   "cell_type": "code",
   "execution_count": 4,
   "id": "d0f84cec",
   "metadata": {},
   "outputs": [
    {
     "data": {
      "text/html": [
       "<div>\n",
       "<style scoped>\n",
       "    .dataframe tbody tr th:only-of-type {\n",
       "        vertical-align: middle;\n",
       "    }\n",
       "\n",
       "    .dataframe tbody tr th {\n",
       "        vertical-align: top;\n",
       "    }\n",
       "\n",
       "    .dataframe thead th {\n",
       "        text-align: right;\n",
       "    }\n",
       "</style>\n",
       "<table border=\"1\" class=\"dataframe\">\n",
       "  <thead>\n",
       "    <tr style=\"text-align: right;\">\n",
       "      <th></th>\n",
       "      <th>0_x</th>\n",
       "      <th>1_x</th>\n",
       "      <th>0_y</th>\n",
       "      <th>1_y</th>\n",
       "    </tr>\n",
       "  </thead>\n",
       "  <tbody>\n",
       "    <tr>\n",
       "      <th>0</th>\n",
       "      <td>a</td>\n",
       "      <td>5</td>\n",
       "      <td>a</td>\n",
       "      <td>8</td>\n",
       "    </tr>\n",
       "    <tr>\n",
       "      <th>1</th>\n",
       "      <td>a</td>\n",
       "      <td>5</td>\n",
       "      <td>b</td>\n",
       "      <td>9</td>\n",
       "    </tr>\n",
       "    <tr>\n",
       "      <th>2</th>\n",
       "      <td>a</td>\n",
       "      <td>5</td>\n",
       "      <td>c</td>\n",
       "      <td>10</td>\n",
       "    </tr>\n",
       "    <tr>\n",
       "      <th>3</th>\n",
       "      <td>b</td>\n",
       "      <td>6</td>\n",
       "      <td>a</td>\n",
       "      <td>8</td>\n",
       "    </tr>\n",
       "    <tr>\n",
       "      <th>4</th>\n",
       "      <td>b</td>\n",
       "      <td>6</td>\n",
       "      <td>b</td>\n",
       "      <td>9</td>\n",
       "    </tr>\n",
       "    <tr>\n",
       "      <th>5</th>\n",
       "      <td>b</td>\n",
       "      <td>6</td>\n",
       "      <td>c</td>\n",
       "      <td>10</td>\n",
       "    </tr>\n",
       "    <tr>\n",
       "      <th>6</th>\n",
       "      <td>d</td>\n",
       "      <td>7</td>\n",
       "      <td>a</td>\n",
       "      <td>8</td>\n",
       "    </tr>\n",
       "    <tr>\n",
       "      <th>7</th>\n",
       "      <td>d</td>\n",
       "      <td>7</td>\n",
       "      <td>b</td>\n",
       "      <td>9</td>\n",
       "    </tr>\n",
       "    <tr>\n",
       "      <th>8</th>\n",
       "      <td>d</td>\n",
       "      <td>7</td>\n",
       "      <td>c</td>\n",
       "      <td>10</td>\n",
       "    </tr>\n",
       "  </tbody>\n",
       "</table>\n",
       "</div>"
      ],
      "text/plain": [
       "  0_x 1_x 0_y 1_y\n",
       "0   a   5   a   8\n",
       "1   a   5   b   9\n",
       "2   a   5   c  10\n",
       "3   b   6   a   8\n",
       "4   b   6   b   9\n",
       "5   b   6   c  10\n",
       "6   d   7   a   8\n",
       "7   d   7   b   9\n",
       "8   d   7   c  10"
      ]
     },
     "execution_count": 4,
     "metadata": {},
     "output_type": "execute_result"
    }
   ],
   "source": [
    "df2.merge(df3, how=\"cross\")"
   ]
  },
  {
   "cell_type": "code",
   "execution_count": null,
   "id": "33cbaa4c",
   "metadata": {},
   "outputs": [],
   "source": []
  },
  {
   "cell_type": "markdown",
   "id": "2804cb5d",
   "metadata": {},
   "source": [
    "___"
   ]
  },
  {
   "cell_type": "markdown",
   "id": "b6f7641b",
   "metadata": {},
   "source": [
    "### Unir un geodataframe con un dataframe a través de un atributo no espacial"
   ]
  },
  {
   "cell_type": "markdown",
   "id": "b4ce232a",
   "metadata": {},
   "source": [
    "Vamos a ejemplificar cómo unir un `DataFrame` de Pandas con un `GeoDataFrame` de Geopandas.\n",
    "Para eso vamos a utilizar una tabla que contiene la población de las distintas provincias argentinas, y el shapefile de las provincias que ya vimos en la clase asincrónica."
   ]
  },
  {
   "cell_type": "code",
   "execution_count": 5,
   "id": "67fbecba",
   "metadata": {},
   "outputs": [],
   "source": [
    "import numpy as np\n",
    "import pandas as pd\n",
    "import geopandas as gpd"
   ]
  },
  {
   "cell_type": "markdown",
   "id": "def82bf1",
   "metadata": {},
   "source": [
    "Descarguemos la tabla de población por provincia de [esta página](https://www.ign.gob.ar/NuestrasActividades/Geografia/DatosArgentina/Poblacion2) del sitio del IGN.\n",
    "Para eso utilizamos la función `read_html` de `Pandas` que es capaz de extraer tablas de un archivo `html`."
   ]
  },
  {
   "cell_type": "code",
   "execution_count": 128,
   "id": "13c600e6",
   "metadata": {},
   "outputs": [],
   "source": [
    "url_pob = \"https://www.ign.gob.ar/NuestrasActividades/Geografia/DatosArgentina/Poblacion2\"\n",
    "tablas = pd.read_html(url_pob)"
   ]
  },
  {
   "cell_type": "code",
   "execution_count": 129,
   "id": "24142e02",
   "metadata": {},
   "outputs": [],
   "source": [
    "poblacion_df = tablas[2]"
   ]
  },
  {
   "cell_type": "code",
   "execution_count": 130,
   "id": "b6bbcbdb",
   "metadata": {},
   "outputs": [
    {
     "data": {
      "text/html": [
       "<div>\n",
       "<style scoped>\n",
       "    .dataframe tbody tr th:only-of-type {\n",
       "        vertical-align: middle;\n",
       "    }\n",
       "\n",
       "    .dataframe tbody tr th {\n",
       "        vertical-align: top;\n",
       "    }\n",
       "\n",
       "    .dataframe thead th {\n",
       "        text-align: right;\n",
       "    }\n",
       "</style>\n",
       "<table border=\"1\" class=\"dataframe\">\n",
       "  <thead>\n",
       "    <tr style=\"text-align: right;\">\n",
       "      <th></th>\n",
       "      <th>Jurisdicción</th>\n",
       "      <th>Año 2010</th>\n",
       "      <th>Año 2015</th>\n",
       "      <th>Año 2020</th>\n",
       "    </tr>\n",
       "  </thead>\n",
       "  <tbody>\n",
       "    <tr>\n",
       "      <th>0</th>\n",
       "      <td>República Argentina</td>\n",
       "      <td>40.117.096</td>\n",
       "      <td>43.131.966</td>\n",
       "      <td>45.376.763</td>\n",
       "    </tr>\n",
       "    <tr>\n",
       "      <th>1</th>\n",
       "      <td>Ciudad Autónoma de Buenos Aires</td>\n",
       "      <td>2.890.151</td>\n",
       "      <td>3.054.267</td>\n",
       "      <td>3.075.646</td>\n",
       "    </tr>\n",
       "    <tr>\n",
       "      <th>2</th>\n",
       "      <td>Buenos Aires</td>\n",
       "      <td>15.625.084</td>\n",
       "      <td>16.659.931</td>\n",
       "      <td>17.541.141</td>\n",
       "    </tr>\n",
       "    <tr>\n",
       "      <th>3</th>\n",
       "      <td>Catamarca</td>\n",
       "      <td>367.828</td>\n",
       "      <td>396.895</td>\n",
       "      <td>415.438</td>\n",
       "    </tr>\n",
       "    <tr>\n",
       "      <th>4</th>\n",
       "      <td>Chaco</td>\n",
       "      <td>1.055.259</td>\n",
       "      <td>1.143.201</td>\n",
       "      <td>1.204.541</td>\n",
       "    </tr>\n",
       "    <tr>\n",
       "      <th>5</th>\n",
       "      <td>Chubut</td>\n",
       "      <td>509.108</td>\n",
       "      <td>566.922</td>\n",
       "      <td>618.994</td>\n",
       "    </tr>\n",
       "    <tr>\n",
       "      <th>6</th>\n",
       "      <td>Córdoba</td>\n",
       "      <td>3.308.876</td>\n",
       "      <td>3.567.654</td>\n",
       "      <td>3.760.450</td>\n",
       "    </tr>\n",
       "    <tr>\n",
       "      <th>7</th>\n",
       "      <td>Corrientes</td>\n",
       "      <td>992.595</td>\n",
       "      <td>1.070.283</td>\n",
       "      <td>1.120.801</td>\n",
       "    </tr>\n",
       "    <tr>\n",
       "      <th>8</th>\n",
       "      <td>Entre Ríos</td>\n",
       "      <td>1.235.994</td>\n",
       "      <td>1.321.415</td>\n",
       "      <td>1.385.961</td>\n",
       "    </tr>\n",
       "    <tr>\n",
       "      <th>9</th>\n",
       "      <td>Formosa</td>\n",
       "      <td>530.162</td>\n",
       "      <td>579.250</td>\n",
       "      <td>605.193</td>\n",
       "    </tr>\n",
       "    <tr>\n",
       "      <th>10</th>\n",
       "      <td>Jujuy</td>\n",
       "      <td>673.307</td>\n",
       "      <td>727.780</td>\n",
       "      <td>770.881</td>\n",
       "    </tr>\n",
       "    <tr>\n",
       "      <th>11</th>\n",
       "      <td>La Pampa</td>\n",
       "      <td>318.951</td>\n",
       "      <td>343.056</td>\n",
       "      <td>358.428</td>\n",
       "    </tr>\n",
       "    <tr>\n",
       "      <th>12</th>\n",
       "      <td>La Rioja</td>\n",
       "      <td>333.642</td>\n",
       "      <td>367.728</td>\n",
       "      <td>393.531</td>\n",
       "    </tr>\n",
       "    <tr>\n",
       "      <th>13</th>\n",
       "      <td>Mendoza</td>\n",
       "      <td>1.738.929</td>\n",
       "      <td>1.885.551</td>\n",
       "      <td>1.990.338</td>\n",
       "    </tr>\n",
       "    <tr>\n",
       "      <th>14</th>\n",
       "      <td>Misiones</td>\n",
       "      <td>1.101.593</td>\n",
       "      <td>1.189.446</td>\n",
       "      <td>1.261.294</td>\n",
       "    </tr>\n",
       "    <tr>\n",
       "      <th>15</th>\n",
       "      <td>Neuquén</td>\n",
       "      <td>551.266</td>\n",
       "      <td>619.745</td>\n",
       "      <td>664.057</td>\n",
       "    </tr>\n",
       "    <tr>\n",
       "      <th>16</th>\n",
       "      <td>Río Negro</td>\n",
       "      <td>638.645</td>\n",
       "      <td>698.874</td>\n",
       "      <td>747.610</td>\n",
       "    </tr>\n",
       "    <tr>\n",
       "      <th>17</th>\n",
       "      <td>Salta</td>\n",
       "      <td>1.214.441</td>\n",
       "      <td>1.333.365</td>\n",
       "      <td>1.424.397</td>\n",
       "    </tr>\n",
       "    <tr>\n",
       "      <th>18</th>\n",
       "      <td>San Juan</td>\n",
       "      <td>681.055</td>\n",
       "      <td>738.959</td>\n",
       "      <td>781.217</td>\n",
       "    </tr>\n",
       "    <tr>\n",
       "      <th>19</th>\n",
       "      <td>San Luis</td>\n",
       "      <td>432.310</td>\n",
       "      <td>476.351</td>\n",
       "      <td>508.328</td>\n",
       "    </tr>\n",
       "    <tr>\n",
       "      <th>20</th>\n",
       "      <td>Santa Cruz</td>\n",
       "      <td>273.964</td>\n",
       "      <td>320.469</td>\n",
       "      <td>365.698</td>\n",
       "    </tr>\n",
       "    <tr>\n",
       "      <th>21</th>\n",
       "      <td>Santa Fe</td>\n",
       "      <td>3.194.537</td>\n",
       "      <td>3.397.532</td>\n",
       "      <td>3.536.418</td>\n",
       "    </tr>\n",
       "    <tr>\n",
       "      <th>22</th>\n",
       "      <td>Santiago del Estero</td>\n",
       "      <td>874.006</td>\n",
       "      <td>928.097</td>\n",
       "      <td>978.313</td>\n",
       "    </tr>\n",
       "    <tr>\n",
       "      <th>23</th>\n",
       "      <td>Tierra del Fuego, Antártida e Islas del Atlánt...</td>\n",
       "      <td>127.205</td>\n",
       "      <td>152.317</td>\n",
       "      <td>173.432</td>\n",
       "    </tr>\n",
       "    <tr>\n",
       "      <th>24</th>\n",
       "      <td>Tucumán</td>\n",
       "      <td>1.448.188</td>\n",
       "      <td>1.592.878</td>\n",
       "      <td>1.694.656</td>\n",
       "    </tr>\n",
       "  </tbody>\n",
       "</table>\n",
       "</div>"
      ],
      "text/plain": [
       "                                         Jurisdicción    Año 2010    Año 2015  \\\n",
       "0                                 República Argentina  40.117.096  43.131.966   \n",
       "1                     Ciudad Autónoma de Buenos Aires   2.890.151   3.054.267   \n",
       "2                                        Buenos Aires  15.625.084  16.659.931   \n",
       "3                                           Catamarca     367.828     396.895   \n",
       "4                                               Chaco   1.055.259   1.143.201   \n",
       "5                                              Chubut     509.108     566.922   \n",
       "6                                             Córdoba   3.308.876   3.567.654   \n",
       "7                                          Corrientes     992.595   1.070.283   \n",
       "8                                          Entre Ríos   1.235.994   1.321.415   \n",
       "9                                             Formosa     530.162     579.250   \n",
       "10                                              Jujuy     673.307     727.780   \n",
       "11                                           La Pampa     318.951     343.056   \n",
       "12                                           La Rioja     333.642     367.728   \n",
       "13                                            Mendoza   1.738.929   1.885.551   \n",
       "14                                           Misiones   1.101.593   1.189.446   \n",
       "15                                            Neuquén     551.266     619.745   \n",
       "16                                          Río Negro     638.645     698.874   \n",
       "17                                              Salta   1.214.441   1.333.365   \n",
       "18                                           San Juan     681.055     738.959   \n",
       "19                                           San Luis     432.310     476.351   \n",
       "20                                         Santa Cruz     273.964     320.469   \n",
       "21                                           Santa Fe   3.194.537   3.397.532   \n",
       "22                                Santiago del Estero     874.006     928.097   \n",
       "23  Tierra del Fuego, Antártida e Islas del Atlánt...     127.205     152.317   \n",
       "24                                            Tucumán   1.448.188   1.592.878   \n",
       "\n",
       "      Año 2020  \n",
       "0   45.376.763  \n",
       "1    3.075.646  \n",
       "2   17.541.141  \n",
       "3      415.438  \n",
       "4    1.204.541  \n",
       "5      618.994  \n",
       "6    3.760.450  \n",
       "7    1.120.801  \n",
       "8    1.385.961  \n",
       "9      605.193  \n",
       "10     770.881  \n",
       "11     358.428  \n",
       "12     393.531  \n",
       "13   1.990.338  \n",
       "14   1.261.294  \n",
       "15     664.057  \n",
       "16     747.610  \n",
       "17   1.424.397  \n",
       "18     781.217  \n",
       "19     508.328  \n",
       "20     365.698  \n",
       "21   3.536.418  \n",
       "22     978.313  \n",
       "23     173.432  \n",
       "24   1.694.656  "
      ]
     },
     "execution_count": 130,
     "metadata": {},
     "output_type": "execute_result"
    }
   ],
   "source": [
    "poblacion_df"
   ]
  },
  {
   "cell_type": "markdown",
   "id": "8167b134",
   "metadata": {},
   "source": [
    "Preprocesamos el dataframe de población:"
   ]
  },
  {
   "cell_type": "code",
   "execution_count": 131,
   "id": "70e2a0c9",
   "metadata": {},
   "outputs": [],
   "source": [
    "def convertir_a_int(fila, cols=[\"Año 2010\", \"Año 2015\", \"Año 2020\"]):    \n",
    "\n",
    "    '''\n",
    "    Convertir cols, que contienen strings de números con \".\" como separador de miles, a tipo entero.\n",
    "    '''\n",
    "    \n",
    "    try:\n",
    "        for col in cols:\n",
    "            fila[col] = int(fila[col].replace(\".\",\"\"))\n",
    "    except:\n",
    "        pass\n",
    "        \n",
    "    return fila"
   ]
  },
  {
   "cell_type": "code",
   "execution_count": 132,
   "id": "74e7e0f0",
   "metadata": {},
   "outputs": [],
   "source": [
    "poblacion_df = poblacion_df.apply(convertir_a_int, axis=1)"
   ]
  },
  {
   "cell_type": "markdown",
   "id": "b792533d",
   "metadata": {},
   "source": [
    "___"
   ]
  },
  {
   "cell_type": "markdown",
   "id": "54c65565",
   "metadata": {},
   "source": [
    "Ahora carguemos un GeoDataFrame con las provincias de Argentina:"
   ]
  },
  {
   "cell_type": "code",
   "execution_count": 133,
   "id": "9ef7cf69",
   "metadata": {},
   "outputs": [
    {
     "data": {
      "text/html": [
       "<div>\n",
       "<style scoped>\n",
       "    .dataframe tbody tr th:only-of-type {\n",
       "        vertical-align: middle;\n",
       "    }\n",
       "\n",
       "    .dataframe tbody tr th {\n",
       "        vertical-align: top;\n",
       "    }\n",
       "\n",
       "    .dataframe thead th {\n",
       "        text-align: right;\n",
       "    }\n",
       "</style>\n",
       "<table border=\"1\" class=\"dataframe\">\n",
       "  <thead>\n",
       "    <tr style=\"text-align: right;\">\n",
       "      <th></th>\n",
       "      <th>nam</th>\n",
       "      <th>geometry</th>\n",
       "    </tr>\n",
       "  </thead>\n",
       "  <tbody>\n",
       "    <tr>\n",
       "      <th>0</th>\n",
       "      <td>Ciudad Autónoma de Buenos Aires</td>\n",
       "      <td>MULTIPOLYGON (((-58.34189 -34.63110, -58.34240...</td>\n",
       "    </tr>\n",
       "    <tr>\n",
       "      <th>1</th>\n",
       "      <td>Neuquén</td>\n",
       "      <td>MULTIPOLYGON (((-68.25000 -37.57478, -68.25000...</td>\n",
       "    </tr>\n",
       "    <tr>\n",
       "      <th>2</th>\n",
       "      <td>San Luis</td>\n",
       "      <td>MULTIPOLYGON (((-66.66179 -31.92054, -66.60454...</td>\n",
       "    </tr>\n",
       "    <tr>\n",
       "      <th>3</th>\n",
       "      <td>Santa Fe</td>\n",
       "      <td>MULTIPOLYGON (((-58.88082 -28.06682, -58.88360...</td>\n",
       "    </tr>\n",
       "    <tr>\n",
       "      <th>4</th>\n",
       "      <td>La Rioja</td>\n",
       "      <td>MULTIPOLYGON (((-65.42299 -30.11960, -65.49056...</td>\n",
       "    </tr>\n",
       "    <tr>\n",
       "      <th>5</th>\n",
       "      <td>Catamarca</td>\n",
       "      <td>MULTIPOLYGON (((-66.09976 -26.22049, -66.10088...</td>\n",
       "    </tr>\n",
       "    <tr>\n",
       "      <th>6</th>\n",
       "      <td>Tucumán</td>\n",
       "      <td>MULTIPOLYGON (((-64.49532 -26.21937, -64.49723...</td>\n",
       "    </tr>\n",
       "    <tr>\n",
       "      <th>7</th>\n",
       "      <td>Chaco</td>\n",
       "      <td>MULTIPOLYGON (((-58.37735 -26.87223, -58.37764...</td>\n",
       "    </tr>\n",
       "    <tr>\n",
       "      <th>8</th>\n",
       "      <td>Formosa</td>\n",
       "      <td>MULTIPOLYGON (((-58.37735 -26.87223, -58.37935...</td>\n",
       "    </tr>\n",
       "    <tr>\n",
       "      <th>9</th>\n",
       "      <td>Santa Cruz</td>\n",
       "      <td>MULTIPOLYGON (((-71.54709 -45.99975, -71.54573...</td>\n",
       "    </tr>\n",
       "    <tr>\n",
       "      <th>10</th>\n",
       "      <td>Chubut</td>\n",
       "      <td>MULTIPOLYGON (((-70.99068 -41.99996, -70.20898...</td>\n",
       "    </tr>\n",
       "    <tr>\n",
       "      <th>11</th>\n",
       "      <td>Mendoza</td>\n",
       "      <td>MULTIPOLYGON (((-67.31774 -32.38203, -67.31763...</td>\n",
       "    </tr>\n",
       "    <tr>\n",
       "      <th>12</th>\n",
       "      <td>Córdoba</td>\n",
       "      <td>MULTIPOLYGON (((-62.13060 -30.47993, -62.10369...</td>\n",
       "    </tr>\n",
       "    <tr>\n",
       "      <th>13</th>\n",
       "      <td>Entre Ríos</td>\n",
       "      <td>MULTIPOLYGON (((-58.37667 -34.00000, -58.35453...</td>\n",
       "    </tr>\n",
       "    <tr>\n",
       "      <th>14</th>\n",
       "      <td>San Juan</td>\n",
       "      <td>MULTIPOLYGON (((-69.62981 -28.39369, -69.62956...</td>\n",
       "    </tr>\n",
       "    <tr>\n",
       "      <th>15</th>\n",
       "      <td>Jujuy</td>\n",
       "      <td>MULTIPOLYGON (((-65.18657 -22.08535, -65.18670...</td>\n",
       "    </tr>\n",
       "    <tr>\n",
       "      <th>16</th>\n",
       "      <td>Santiago del Estero</td>\n",
       "      <td>MULTIPOLYGON (((-61.71126 -27.99942, -61.71135...</td>\n",
       "    </tr>\n",
       "    <tr>\n",
       "      <th>17</th>\n",
       "      <td>Río Negro</td>\n",
       "      <td>MULTIPOLYGON (((-68.23910 -37.58496, -68.23829...</td>\n",
       "    </tr>\n",
       "    <tr>\n",
       "      <th>18</th>\n",
       "      <td>Corrientes</td>\n",
       "      <td>MULTIPOLYGON (((-57.97099 -27.27499, -57.96509...</td>\n",
       "    </tr>\n",
       "    <tr>\n",
       "      <th>19</th>\n",
       "      <td>Misiones</td>\n",
       "      <td>MULTIPOLYGON (((-55.83511 -27.41013, -55.83220...</td>\n",
       "    </tr>\n",
       "    <tr>\n",
       "      <th>20</th>\n",
       "      <td>Salta</td>\n",
       "      <td>MULTIPOLYGON (((-62.34230 -22.46084, -62.34230...</td>\n",
       "    </tr>\n",
       "    <tr>\n",
       "      <th>21</th>\n",
       "      <td>La Pampa</td>\n",
       "      <td>MULTIPOLYGON (((-63.38575 -35.00013, -63.38597...</td>\n",
       "    </tr>\n",
       "    <tr>\n",
       "      <th>22</th>\n",
       "      <td>Tierra del Fuego, Antártida e Islas del Atlánt...</td>\n",
       "      <td>MULTIPOLYGON (((-25.00000 -75.87687, -25.00000...</td>\n",
       "    </tr>\n",
       "    <tr>\n",
       "      <th>23</th>\n",
       "      <td>Buenos Aires</td>\n",
       "      <td>MULTIPOLYGON (((-58.57862 -34.02716, -58.57589...</td>\n",
       "    </tr>\n",
       "  </tbody>\n",
       "</table>\n",
       "</div>"
      ],
      "text/plain": [
       "                                                  nam  \\\n",
       "0                     Ciudad Autónoma de Buenos Aires   \n",
       "1                                             Neuquén   \n",
       "2                                            San Luis   \n",
       "3                                            Santa Fe   \n",
       "4                                            La Rioja   \n",
       "5                                           Catamarca   \n",
       "6                                             Tucumán   \n",
       "7                                               Chaco   \n",
       "8                                             Formosa   \n",
       "9                                          Santa Cruz   \n",
       "10                                             Chubut   \n",
       "11                                            Mendoza   \n",
       "12                                            Córdoba   \n",
       "13                                         Entre Ríos   \n",
       "14                                           San Juan   \n",
       "15                                              Jujuy   \n",
       "16                                Santiago del Estero   \n",
       "17                                          Río Negro   \n",
       "18                                         Corrientes   \n",
       "19                                           Misiones   \n",
       "20                                              Salta   \n",
       "21                                           La Pampa   \n",
       "22  Tierra del Fuego, Antártida e Islas del Atlánt...   \n",
       "23                                       Buenos Aires   \n",
       "\n",
       "                                             geometry  \n",
       "0   MULTIPOLYGON (((-58.34189 -34.63110, -58.34240...  \n",
       "1   MULTIPOLYGON (((-68.25000 -37.57478, -68.25000...  \n",
       "2   MULTIPOLYGON (((-66.66179 -31.92054, -66.60454...  \n",
       "3   MULTIPOLYGON (((-58.88082 -28.06682, -58.88360...  \n",
       "4   MULTIPOLYGON (((-65.42299 -30.11960, -65.49056...  \n",
       "5   MULTIPOLYGON (((-66.09976 -26.22049, -66.10088...  \n",
       "6   MULTIPOLYGON (((-64.49532 -26.21937, -64.49723...  \n",
       "7   MULTIPOLYGON (((-58.37735 -26.87223, -58.37764...  \n",
       "8   MULTIPOLYGON (((-58.37735 -26.87223, -58.37935...  \n",
       "9   MULTIPOLYGON (((-71.54709 -45.99975, -71.54573...  \n",
       "10  MULTIPOLYGON (((-70.99068 -41.99996, -70.20898...  \n",
       "11  MULTIPOLYGON (((-67.31774 -32.38203, -67.31763...  \n",
       "12  MULTIPOLYGON (((-62.13060 -30.47993, -62.10369...  \n",
       "13  MULTIPOLYGON (((-58.37667 -34.00000, -58.35453...  \n",
       "14  MULTIPOLYGON (((-69.62981 -28.39369, -69.62956...  \n",
       "15  MULTIPOLYGON (((-65.18657 -22.08535, -65.18670...  \n",
       "16  MULTIPOLYGON (((-61.71126 -27.99942, -61.71135...  \n",
       "17  MULTIPOLYGON (((-68.23910 -37.58496, -68.23829...  \n",
       "18  MULTIPOLYGON (((-57.97099 -27.27499, -57.96509...  \n",
       "19  MULTIPOLYGON (((-55.83511 -27.41013, -55.83220...  \n",
       "20  MULTIPOLYGON (((-62.34230 -22.46084, -62.34230...  \n",
       "21  MULTIPOLYGON (((-63.38575 -35.00013, -63.38597...  \n",
       "22  MULTIPOLYGON (((-25.00000 -75.87687, -25.00000...  \n",
       "23  MULTIPOLYGON (((-58.57862 -34.02716, -58.57589...  "
      ]
     },
     "execution_count": 133,
     "metadata": {},
     "output_type": "execute_result"
    }
   ],
   "source": [
    "provincias_gdf = gpd.read_file(filename=\"datos/provincia.zip\")\n",
    "provincias_gdf = provincias_gdf[[\"nam\", \"geometry\"]]\n",
    "provincias_gdf"
   ]
  },
  {
   "cell_type": "markdown",
   "id": "417129ec",
   "metadata": {},
   "source": [
    "Examinemos el mapa generado al plotear la geometría asociada a este `GeoDataFrame`."
   ]
  },
  {
   "cell_type": "code",
   "execution_count": 42,
   "id": "bba5651d",
   "metadata": {},
   "outputs": [
    {
     "data": {
      "image/png": "[encoded data removed]",
      "text/plain": [
       "<Figure size 640x480 with 1 Axes>"
      ]
     },
     "metadata": {},
     "output_type": "display_data"
    }
   ],
   "source": [
    "provincias_gdf.plot();"
   ]
  },
  {
   "cell_type": "markdown",
   "id": "8e2fe33a",
   "metadata": {},
   "source": [
    "Bounding box para excluir a la Antártida:"
   ]
  },
  {
   "cell_type": "code",
   "execution_count": 108,
   "id": "800587d7",
   "metadata": {},
   "outputs": [],
   "source": [
    "xmin, ymin, xmax, ymax = (-75,-60,-40,-55)"
   ]
  },
  {
   "cell_type": "markdown",
   "id": "6c7e1adb",
   "metadata": {},
   "source": [
    "Usemos indexado de `GeoDataFrame`s (`gpd.GeoDataFrame.cx`) para seleccionar la fila correspondiente a Tierra del Fuego."
   ]
  },
  {
   "cell_type": "code",
   "execution_count": 110,
   "id": "d4939a54",
   "metadata": {},
   "outputs": [
    {
     "data": {
      "text/html": [
       "<div>\n",
       "<style scoped>\n",
       "    .dataframe tbody tr th:only-of-type {\n",
       "        vertical-align: middle;\n",
       "    }\n",
       "\n",
       "    .dataframe tbody tr th {\n",
       "        vertical-align: top;\n",
       "    }\n",
       "\n",
       "    .dataframe thead th {\n",
       "        text-align: right;\n",
       "    }\n",
       "</style>\n",
       "<table border=\"1\" class=\"dataframe\">\n",
       "  <thead>\n",
       "    <tr style=\"text-align: right;\">\n",
       "      <th></th>\n",
       "      <th>nam</th>\n",
       "      <th>geometry</th>\n",
       "      <th>n_poligonos</th>\n",
       "    </tr>\n",
       "  </thead>\n",
       "  <tbody>\n",
       "    <tr>\n",
       "      <th>22</th>\n",
       "      <td>Tierra del Fuego, Antártida e Islas del Atlánt...</td>\n",
       "      <td>MULTIPOLYGON (((-25.00000 -75.87687, -25.00000...</td>\n",
       "      <td>1402</td>\n",
       "    </tr>\n",
       "  </tbody>\n",
       "</table>\n",
       "</div>"
      ],
      "text/plain": [
       "                                                  nam  \\\n",
       "22  Tierra del Fuego, Antártida e Islas del Atlánt...   \n",
       "\n",
       "                                             geometry  n_poligonos  \n",
       "22  MULTIPOLYGON (((-25.00000 -75.87687, -25.00000...         1402  "
      ]
     },
     "execution_count": 110,
     "metadata": {},
     "output_type": "execute_result"
    }
   ],
   "source": [
    "provincias_gdf.cx[xmin:xmax, ymin:ymax]"
   ]
  },
  {
   "cell_type": "markdown",
   "id": "3b124d59",
   "metadata": {},
   "source": [
    "¿Cómo luce el mapa para esta fila sola?"
   ]
  },
  {
   "cell_type": "code",
   "execution_count": null,
   "id": "cdaf345a",
   "metadata": {},
   "outputs": [],
   "source": [
    "provincias_gdf.cx[xmin:xmax, ymin:ymax]"
   ]
  },
  {
   "cell_type": "code",
   "execution_count": 61,
   "id": "a29cd721",
   "metadata": {},
   "outputs": [],
   "source": [
    "from shapely.geometry.multipolygon import MultiPolygon"
   ]
  },
  {
   "cell_type": "code",
   "execution_count": 136,
   "id": "4079d01c",
   "metadata": {},
   "outputs": [],
   "source": [
    "TdF_muchos_poligonos = TdF.geometry.explode(index_parts=True)\n",
    "TdF_muchos_poligonos = TdF_muchos_poligonos.cx[xmin:xmax, ymin:ymax]\n",
    "TdF_muchos_poligonos = TdF_muchos_poligonos[22].to_list()"
   ]
  },
  {
   "cell_type": "code",
   "execution_count": 137,
   "id": "199a774e",
   "metadata": {},
   "outputs": [],
   "source": [
    "TdF_multipol = MultiPolygon(TdF_muchos_poligonos)"
   ]
  },
  {
   "cell_type": "markdown",
   "id": "bd4339aa",
   "metadata": {},
   "source": [
    "### Ejercicio 1"
   ]
  },
  {
   "cell_type": "markdown",
   "id": "2c1d7aaa",
   "metadata": {},
   "source": [
    "Crear una _bounding box_ similar a la creada para Tierra del Fuego, pero ahora para las Islas Malvinas. Seguir un procedimiento similar al realizado para Tierra del Fuego, finalmente agregar la geometría de las Islas Malvinas al multipolígono de Tierra del Fuego creado anteriormente."
   ]
  },
  {
   "cell_type": "code",
   "execution_count": null,
   "id": "a3b61559",
   "metadata": {},
   "outputs": [],
   "source": [
    "IM_bounding_box = ( , , , )\n",
    "xmin, ymin, xmax, ymax = IM_bounding_box\n",
    "\n",
    "#\n",
    "#\n",
    "#\n",
    "#\n",
    "\n",
    "TdF_IM_pols = "
   ]
  },
  {
   "cell_type": "markdown",
   "id": "9f35cc5a",
   "metadata": {},
   "source": [
    "### Ejercicio 2\n",
    "\n",
    "Unir las bases `provincias_gdf` y `poblacion_df` por el nombre de la provincia. Notar que necesitamos especificar `left_on` y `right_on` porque los nombres de las columnas correspondientes son diferentes (o bien cambiar el nombre de una de las columnas).\n",
    "\n",
    "- Examinar el tipo de objeto que resulta del `merge` usando `provincias_gdf` a la izquierda y `poblacion_df` a la derecha.\n",
    "- Ídem anterior, con `poblacion_df` a la izquierda y `provincias_gdf` a la derecha.\n",
    "\n",
    "A continuación, representar un mapa del país coloreando cada provincia en base a su población. Para el merge, usar el orden que (Geo)DataFrame's que corresponda."
   ]
  },
  {
   "cell_type": "code",
   "execution_count": null,
   "id": "3fc5b029",
   "metadata": {},
   "outputs": [],
   "source": [
    "# Por ahora quitemos a Tierra del Fuego, la Antártida y las Islas del Atlántico Sur, para que se vea mejor el mapa\n",
    "provincias_gdf.drop(22, inplace=True)"
   ]
  },
  {
   "cell_type": "code",
   "execution_count": null,
   "id": "162f603b",
   "metadata": {},
   "outputs": [],
   "source": []
  },
  {
   "cell_type": "code",
   "execution_count": null,
   "id": "a94e9158",
   "metadata": {},
   "outputs": [],
   "source": []
  },
  {
   "cell_type": "code",
   "execution_count": null,
   "id": "a46d9af8",
   "metadata": {},
   "outputs": [],
   "source": []
  },
  {
   "cell_type": "markdown",
   "id": "3a33b8aa",
   "metadata": {},
   "source": [
    "### Unir geodatraframes por un atributo espacial: `sjoin`"
   ]
  },
  {
   "cell_type": "markdown",
   "id": "54a64ea6",
   "metadata": {},
   "source": [
    "**Ejercicio:** Leer el shapefile de departamentos como GeoDataFrame. Crear un widget reactivo que permita elegir una provincia y muestre un mapa con la división departamental de la misma."
   ]
  },
  {
   "cell_type": "markdown",
   "id": "d44ce1ba",
   "metadata": {},
   "source": [
    "Geopandas permite unir dos GeoDataFrames en base a relaciones espaciales entre las observaciones (filas) de cada uno."
   ]
  },
  {
   "cell_type": "markdown",
   "id": "7b2f345f",
   "metadata": {},
   "source": [
    "Vamos a usar estas relaciones espaciales para poder vincular departamentos con provincias."
   ]
  },
  {
   "cell_type": "code",
   "execution_count": 115,
   "id": "22cd9f14",
   "metadata": {},
   "outputs": [],
   "source": [
    "departamentos_gdf = gpd.read_file(\"datos/departamento.zip\")\n",
    "departamentos_gdf = departamentos_gdf[[\"objectid\", \"nam\", \"geometry\"]]\n",
    "departamentos_gdf = departamentos_gdf.rename({\"nam\":\"departamento\"}, axis=1)"
   ]
  },
  {
   "cell_type": "markdown",
   "id": "60b2ee31",
   "metadata": {},
   "source": [
    "Examinemos este GeoDataFrame. ¿Qué problema nos encontramos?"
   ]
  },
  {
   "cell_type": "code",
   "execution_count": 114,
   "id": "141fe478",
   "metadata": {},
   "outputs": [
    {
     "data": {
      "text/html": [
       "<div>\n",
       "<style scoped>\n",
       "    .dataframe tbody tr th:only-of-type {\n",
       "        vertical-align: middle;\n",
       "    }\n",
       "\n",
       "    .dataframe tbody tr th {\n",
       "        vertical-align: top;\n",
       "    }\n",
       "\n",
       "    .dataframe thead th {\n",
       "        text-align: right;\n",
       "    }\n",
       "</style>\n",
       "<table border=\"1\" class=\"dataframe\">\n",
       "  <thead>\n",
       "    <tr style=\"text-align: right;\">\n",
       "      <th></th>\n",
       "      <th>objectid</th>\n",
       "      <th>departamento</th>\n",
       "      <th>geometry</th>\n",
       "    </tr>\n",
       "  </thead>\n",
       "  <tbody>\n",
       "    <tr>\n",
       "      <th>0</th>\n",
       "      <td>8076.0</td>\n",
       "      <td>Federal</td>\n",
       "      <td>POLYGON ((-58.57731 -30.69016, -58.57512 -30.6...</td>\n",
       "    </tr>\n",
       "    <tr>\n",
       "      <th>1</th>\n",
       "      <td>8077.0</td>\n",
       "      <td>Gualeguaychú</td>\n",
       "      <td>POLYGON ((-58.13011 -33.02912, -58.13087 -33.0...</td>\n",
       "    </tr>\n",
       "    <tr>\n",
       "      <th>2</th>\n",
       "      <td>8078.0</td>\n",
       "      <td>Islas del Ibicuy</td>\n",
       "      <td>POLYGON ((-58.57589 -34.02675, -58.57593 -34.0...</td>\n",
       "    </tr>\n",
       "    <tr>\n",
       "      <th>3</th>\n",
       "      <td>8268.0</td>\n",
       "      <td>Cushamen</td>\n",
       "      <td>POLYGON ((-71.17490 -41.99995, -71.05132 -41.9...</td>\n",
       "    </tr>\n",
       "    <tr>\n",
       "      <th>4</th>\n",
       "      <td>8079.0</td>\n",
       "      <td>Victoria</td>\n",
       "      <td>POLYGON ((-59.77158 -32.58791, -59.77198 -32.5...</td>\n",
       "    </tr>\n",
       "    <tr>\n",
       "      <th>...</th>\n",
       "      <td>...</td>\n",
       "      <td>...</td>\n",
       "      <td>...</td>\n",
       "    </tr>\n",
       "    <tr>\n",
       "      <th>524</th>\n",
       "      <td>8576.0</td>\n",
       "      <td>Iglesia</td>\n",
       "      <td>POLYGON ((-69.62981 -28.39369, -69.62956 -28.3...</td>\n",
       "    </tr>\n",
       "    <tr>\n",
       "      <th>525</th>\n",
       "      <td>8577.0</td>\n",
       "      <td>Jáchal</td>\n",
       "      <td>POLYGON ((-68.25879 -29.74673, -68.26262 -29.7...</td>\n",
       "    </tr>\n",
       "    <tr>\n",
       "      <th>526</th>\n",
       "      <td>8578.0</td>\n",
       "      <td>Valle Fértil</td>\n",
       "      <td>POLYGON ((-67.99199 -29.97924, -67.99151 -29.9...</td>\n",
       "    </tr>\n",
       "    <tr>\n",
       "      <th>527</th>\n",
       "      <td>8579.0</td>\n",
       "      <td>La Plata</td>\n",
       "      <td>MULTIPOLYGON (((-57.99666 -34.87535, -57.99087...</td>\n",
       "    </tr>\n",
       "    <tr>\n",
       "      <th>528</th>\n",
       "      <td>8580.0</td>\n",
       "      <td>Mercedes</td>\n",
       "      <td>POLYGON ((-57.21562 -28.49937, -57.21562 -28.4...</td>\n",
       "    </tr>\n",
       "  </tbody>\n",
       "</table>\n",
       "<p>529 rows × 3 columns</p>\n",
       "</div>"
      ],
      "text/plain": [
       "     objectid      departamento  \\\n",
       "0      8076.0           Federal   \n",
       "1      8077.0      Gualeguaychú   \n",
       "2      8078.0  Islas del Ibicuy   \n",
       "3      8268.0          Cushamen   \n",
       "4      8079.0          Victoria   \n",
       "..        ...               ...   \n",
       "524    8576.0           Iglesia   \n",
       "525    8577.0            Jáchal   \n",
       "526    8578.0      Valle Fértil   \n",
       "527    8579.0          La Plata   \n",
       "528    8580.0          Mercedes   \n",
       "\n",
       "                                              geometry  \n",
       "0    POLYGON ((-58.57731 -30.69016, -58.57512 -30.6...  \n",
       "1    POLYGON ((-58.13011 -33.02912, -58.13087 -33.0...  \n",
       "2    POLYGON ((-58.57589 -34.02675, -58.57593 -34.0...  \n",
       "3    POLYGON ((-71.17490 -41.99995, -71.05132 -41.9...  \n",
       "4    POLYGON ((-59.77158 -32.58791, -59.77198 -32.5...  \n",
       "..                                                 ...  \n",
       "524  POLYGON ((-69.62981 -28.39369, -69.62956 -28.3...  \n",
       "525  POLYGON ((-68.25879 -29.74673, -68.26262 -29.7...  \n",
       "526  POLYGON ((-67.99199 -29.97924, -67.99151 -29.9...  \n",
       "527  MULTIPOLYGON (((-57.99666 -34.87535, -57.99087...  \n",
       "528  POLYGON ((-57.21562 -28.49937, -57.21562 -28.4...  \n",
       "\n",
       "[529 rows x 3 columns]"
      ]
     },
     "execution_count": 114,
     "metadata": {},
     "output_type": "execute_result"
    }
   ],
   "source": [
    "departamentos_gdf"
   ]
  },
  {
   "cell_type": "markdown",
   "id": "36ce7578",
   "metadata": {},
   "source": [
    "___"
   ]
  },
  {
   "cell_type": "markdown",
   "id": "3ef688d3",
   "metadata": {},
   "source": [
    "Obtenemos los centroides de cada departamento para establecer la relación de pertenencia con la provincia."
   ]
  },
  {
   "cell_type": "code",
   "execution_count": null,
   "id": "dcb6b11c",
   "metadata": {},
   "outputs": [],
   "source": [
    "departamentos_centroid_gdf = departamentos_gdf.copy()\n",
    "departamentos_centroid_gdf[\"geometry\"] = departamentos_gdf.geometry.centroid;"
   ]
  },
  {
   "cell_type": "code",
   "execution_count": null,
   "id": "ad913c81",
   "metadata": {},
   "outputs": [],
   "source": [
    "prov_dep_gdf = departamentos_centroid_gdf.sjoin(provincias_gdf, predicate=\"within\")"
   ]
  },
  {
   "cell_type": "code",
   "execution_count": null,
   "id": "521bd44f",
   "metadata": {},
   "outputs": [],
   "source": [
    "prov_dep_df = prov_dep_gdf[[\"objectid\", \"provincia\"]]"
   ]
  },
  {
   "cell_type": "code",
   "execution_count": null,
   "id": "2931c63e",
   "metadata": {},
   "outputs": [],
   "source": [
    "departamentos_gdf = departamentos_gdf.merge(prov_dep_df, how=\"inner\", on=\"objectid\")"
   ]
  },
  {
   "cell_type": "code",
   "execution_count": null,
   "id": "8e745ec0",
   "metadata": {},
   "outputs": [],
   "source": []
  },
  {
   "cell_type": "markdown",
   "id": "e472a162",
   "metadata": {},
   "source": [
    "Ahora representamos la división departamental de cada provincia en un mapa."
   ]
  },
  {
   "cell_type": "code",
   "execution_count": null,
   "id": "b29c5342",
   "metadata": {},
   "outputs": [],
   "source": [
    "def mostrar_deptos_por_provincia(provincia):\n",
    "    tmp_gdf = departamentos_gdf[departamentos_gdf[\"provincia\"]==provincia]\n",
    "    tmp_gdf.plot(cmap=\"tab10\", figsize=(10,10))"
   ]
  },
  {
   "cell_type": "code",
   "execution_count": null,
   "id": "e67c1c96",
   "metadata": {},
   "outputs": [],
   "source": [
    "import ipywidgets as widgets \n",
    "from ipywidgets import interact"
   ]
  },
  {
   "cell_type": "code",
   "execution_count": null,
   "id": "a4dd9a67",
   "metadata": {},
   "outputs": [],
   "source": [
    "interact(\n",
    "    mostrar_deptos_por_provincia, \n",
    "    provincia=widgets.Dropdown(options=sorted(pd.unique(provincias.nam)))\n",
    ");"
   ]
  }
 ],
 "metadata": {
  "kernelspec": {
   "display_name": "Python 3 (ipykernel)",
   "language": "python",
   "name": "python3"
  },
  "language_info": {
   "codemirror_mode": {
    "name": "ipython",
    "version": 3
   },
   "file_extension": ".py",
   "mimetype": "text/x-python",
   "name": "python",
   "nbconvert_exporter": "python",
   "pygments_lexer": "ipython3",
   "version": "3.10.6"
  }
 },
 "nbformat": 4,
 "nbformat_minor": 5
}
